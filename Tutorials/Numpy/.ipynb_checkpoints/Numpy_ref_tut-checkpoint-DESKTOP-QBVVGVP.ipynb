{
 "cells": [
  {
   "cell_type": "markdown",
   "metadata": {},
   "source": [
    "## Numpy Refrences\n"
   ]
  },
  {
   "cell_type": "markdown",
   "metadata": {},
   "source": [
    "#### Install Numpy"
   ]
  },
  {
   "cell_type": "code",
   "execution_count": 2,
   "metadata": {},
   "outputs": [],
   "source": [
    "#pip install numpy"
   ]
  },
  {
   "cell_type": "markdown",
   "metadata": {},
   "source": [
    "#### Import Numpy"
   ]
  },
  {
   "cell_type": "code",
   "execution_count": 2,
   "metadata": {},
   "outputs": [],
   "source": [
    "import numpy as np"
   ]
  },
  {
   "cell_type": "markdown",
   "metadata": {},
   "source": [
    "### Contents\n",
    "#### 1. Initialize Numpy arrays\n",
    "#### 2.  Changing nparrays without changing its elements\n",
    "#### 3. Stacking nparrays\n",
    "#### 3. Mathmatical Operation\n",
    "\n",
    "---\n",
    "<br />"
   ]
  },
  {
   "cell_type": "markdown",
   "metadata": {},
   "source": [
    "### *1) Initialize Numpy arrays*"
   ]
  },
  {
   "cell_type": "markdown",
   "metadata": {},
   "source": [
    "## Initialize"
   ]
  },
  {
   "cell_type": "code",
   "execution_count": 3,
   "metadata": {},
   "outputs": [
    {
     "name": "stdout",
     "output_type": "stream",
     "text": [
      "Initialize Directly: [1 2 3]\n",
      "\n",
      "Type of arr1: <class 'numpy.ndarray'>\n",
      "\n",
      "Initalize through a variable: [1 2 4 5]\n",
      "Last array: [1 2 3 4]\n",
      "Initialize nparray with data type: [1. 2. 3.]\n",
      "Initialize nparray with Same type: [1. 2. 3.]\n"
     ]
    },
    {
     "data": {
      "text/plain": [
       "array([[1, 2],\n",
       "       [3, 4]])"
      ]
     },
     "execution_count": 3,
     "metadata": {},
     "output_type": "execute_result"
    }
   ],
   "source": [
    " # Initialize Directly\n",
    "arr1 = np.array([1,2,3])\n",
    "print(f'Initialize Directly: {arr1}')\n",
    "\n",
    "#Check Type of a data structure\n",
    "print(f'\\nType of arr1: {type(arr1)}\\n')\n",
    "\n",
    "\n",
    "# Initalize through a variable\n",
    "a_list = [1,2,4,5]\n",
    "arr2 = np.array(a_list) \n",
    "print(f'Initalize through a variable: {arr2}')\n",
    "\n",
    "\n",
    "# arr_3 is mutable\n",
    "a_list2 = (1,2,3,4)\n",
    "arr_3 = np.array(a_list2)\n",
    "print(f'Last array: {arr_3}')\n",
    "\n",
    "#Initialize nparray with data type\n",
    "print(f'Initialize nparray with data type: {np.array([1,2,3],dtype=float)}') \n",
    "\n",
    "#Initialize nparray as float\n",
    "print(f'Initialize nparray with Same type: {np.array([1.,2,3])}') \n",
    "\n",
    "\n",
    "#Initialize Matrix\n",
    "np.array(np.mat('1 2; 3 4'))\n"
   ]
  },
  {
   "cell_type": "markdown",
   "metadata": {},
   "source": [
    "Numpy doc to Generate Numbers from Different Distribution: https://numpy.org/doc/stable/reference/random/generator.html"
   ]
  },
  {
   "cell_type": "markdown",
   "metadata": {},
   "source": [
    "## Generate"
   ]
  },
  {
   "cell_type": "code",
   "execution_count": 24,
   "metadata": {},
   "outputs": [
    {
     "name": "stdout",
     "output_type": "stream",
     "text": [
      "Initialize Zeros: \n",
      "[[0. 0. 0.]\n",
      " [0. 0. 0.]]\n",
      "\n",
      "Initialize Ones: \n",
      "[[1 1 1]\n",
      " [1 1 1]]\n",
      "\n",
      "Random int with range 2-10 and size (2,3):\n",
      " [[4 9 9]\n",
      " [7 5 9]]\n",
      "\n",
      "Initialize Identity Matrix: \n",
      "[[1. 0. 0.]\n",
      " [0. 1. 0.]\n",
      " [0. 0. 1.]]\n",
      "\n",
      " Standard Normally distributed N(0,1) numbers of size (2,4,5):\n",
      " [[[-0.64544824 -1.51304404 -1.37591274  0.00508362 -0.78618364]\n",
      "  [-0.47789729  0.97713084  0.76675664  0.21784243  0.69166096]\n",
      "  [ 0.84182729  0.62233288 -0.39658377  0.34376254 -0.65483739]\n",
      "  [-0.9225994  -1.08886618 -1.67919231  1.04579266 -0.00798195]]\n",
      "\n",
      " [[-1.1738116  -1.27097883 -1.33562845  0.12335013  0.42654004]\n",
      "  [ 1.53972398  0.07707966 -0.41494563  0.78594854 -0.368931  ]\n",
      "  [ 1.43612124  0.79219879 -0.85597023 -1.30758438 -0.64913588]\n",
      "  [ 1.0067202   0.31679251  0.67459116  2.1937734   0.40534861]]]\n"
     ]
    }
   ],
   "source": [
    "# Initialize a zeros nparray \n",
    "print(f'Initialize Zeros: \\n{np.zeros((2,3))}\\n') # Note the argument is shape so double brackets\n",
    "\n",
    "# Initialize a Ones nparray \n",
    "print(f'Initialize Ones: \\n{np.ones((2,3),dtype=int)}\\n') # Note the argument is shape so double brackets\n",
    "\n",
    "# Random int with range 2-10 and size (2,3)\n",
    "print(f'Random int with range 2-10 and size (2,3):\\n {np.random.randint(2,10,size=(2,3))}\\n') \n",
    "\n",
    "# Initialize the Identity Matrix\n",
    "print(f'Initialize Identity Matrix: \\n{np.eye(3,3)}\\n')\n",
    "\n",
    "# Standard Normally distributed N(0,1) numbers of size (2,4,5)\n",
    "print(f' Standard Normally distributed N(0,1) numbers of size (2,4,5):\\n {np.random.randn(2,4,5)}')# Note no size as argument"
   ]
  },
  {
   "cell_type": "code",
   "execution_count": 5,
   "metadata": {},
   "outputs": [
    {
     "name": "stdout",
     "output_type": "stream",
     "text": [
      "Arrange: [3 4 5 6 7 8 9]\n",
      "LineSpace: [2.   2.25 2.5  2.75 3.  ]\n"
     ]
    }
   ],
   "source": [
    "# Arrange a numpy array\n",
    "print(f'Arrange: {np.arange(3,10)}')\n",
    "\n",
    "#  evenly spaced numbers over a specified interval\n",
    "print(f'LineSpace: {np.linspace(2.0, 3.0, num=5)}')"
   ]
  },
  {
   "cell_type": "markdown",
   "metadata": {},
   "source": [
    " #### 2) *Changing nparrays without changing its elements*"
   ]
  },
  {
   "cell_type": "markdown",
   "metadata": {},
   "source": [
    "### Shuffle and Permute"
   ]
  },
  {
   "cell_type": "code",
   "execution_count": 17,
   "metadata": {},
   "outputs": [
    {
     "name": "stdout",
     "output_type": "stream",
     "text": [
      "Shuffling arr_a: [ 6  5  1  9  7  0 10  4 11  3  8  2]\n",
      "[[0 1 2]\n",
      " [3 4 5]\n",
      " [6 7 8]]\n"
     ]
    }
   ],
   "source": [
    "\n",
    "#Shuffling the nparray\n",
    "np.random.shuffle(arr_a)\n",
    "print(f'Shuffling arr_a: {arr_a}')\n",
    "\n",
    "# Permutation of nparray\n",
    "arr = np.arange(9).reshape((3, 3))\n",
    "np.random.permutation(arr)\n",
    "print(arr )"
   ]
  },
  {
   "cell_type": "markdown",
   "metadata": {},
   "source": [
    "### Transpose "
   ]
  },
  {
   "cell_type": "code",
   "execution_count": 18,
   "metadata": {},
   "outputs": [
    {
     "name": "stdout",
     "output_type": "stream",
     "text": [
      "Original nparray:\n",
      " [[ 6  5  1  9]\n",
      " [ 7  0 10  4]\n",
      " [11  3  8  2]] (3, 4) \n",
      "Transpose: \n",
      " [[ 6  7 11]\n",
      " [ 5  0  3]\n",
      " [ 1 10  8]\n",
      " [ 9  4  2]] (4, 3)\n"
     ]
    }
   ],
   "source": [
    "## Transpose \n",
    "print('Original nparray:\\n',arr_b,arr_b.shape,'\\nTranspose: \\n',arr_b.T,arr_b.T.shape)"
   ]
  },
  {
   "cell_type": "markdown",
   "metadata": {},
   "source": [
    "### Reshape"
   ]
  },
  {
   "cell_type": "code",
   "execution_count": 20,
   "metadata": {},
   "outputs": [
    {
     "name": "stdout",
     "output_type": "stream",
     "text": [
      "arr_a before: [ 0  1  2  3  4  5  6  7  8  9 10 11]\n",
      "Reshape the dimension of nparray:\n",
      " [[ 0  1  2  3]\n",
      " [ 4  5  6  7]\n",
      " [ 8  9 10 11]]\n",
      "\n",
      "Shape:  (3, 4)\n"
     ]
    }
   ],
   "source": [
    "# Reshape the nparray\n",
    "arr_a = np.arange(12)\n",
    "print(f'arr_a before: {arr_a}')\n",
    "\n",
    "arr_b = np.reshape(arr_a,(3,4))\n",
    "print(f'Reshape the dimension of nparray:\\n {arr_b}\\n') # Note : dimension should match\n",
    "print('Shape: ',arr_b.shape)"
   ]
  },
  {
   "cell_type": "markdown",
   "metadata": {},
   "source": [
    "### Flatten the nparray"
   ]
  },
  {
   "cell_type": "code",
   "execution_count": 27,
   "metadata": {},
   "outputs": [
    {
     "name": "stdout",
     "output_type": "stream",
     "text": [
      "Original Array: \n",
      "[[ 0  1  2  3]\n",
      " [ 4  5  6  7]\n",
      " [ 8  9 10 11]] \n",
      " Flatten Array: \n",
      "[ 0  1  2  3  4  5  6  7  8  9 10 11]\n"
     ]
    }
   ],
   "source": [
    "print(f'Original Array: \\n{arr_b} \\n Flatten Array: \\n{arr_b.flatten()}') ## arr_b.ravel"
   ]
  },
  {
   "cell_type": "markdown",
   "metadata": {},
   "source": [
    "### Squeeze "
   ]
  },
  {
   "cell_type": "code",
   "execution_count": 34,
   "metadata": {},
   "outputs": [
    {
     "name": "stdout",
     "output_type": "stream",
     "text": [
      "Shape of X: (1, 3, 1) \n",
      " Shape after Squeezed: (3,)\n",
      "\n",
      "Shape of X: (1, 3, 1) \n",
      " Shape after Squeezed: (1, 3)\n"
     ]
    }
   ],
   "source": [
    "# squeeze removes all the 1 dimension in all axes  \n",
    "x = np.array([[[0], [1], [2]]])\n",
    "print(f'Shape of X: {x.shape} \\n Shape after Squeezed: {x.squeeze().shape}')\n",
    "\n",
    "#Squeeze the Dimension specficed by axis\n",
    "print(f'\\nShape of X: {x.shape} \\n Shape after Squeezed: {x.squeeze(axis=2).shape}') ## Squeezed axis 2"
   ]
  },
  {
   "cell_type": "markdown",
   "metadata": {},
   "source": [
    "### Expand Dimension (2,) => (2,1)"
   ]
  },
  {
   "cell_type": "code",
   "execution_count": 46,
   "metadata": {},
   "outputs": [
    {
     "name": "stdout",
     "output_type": "stream",
     "text": [
      "Original : (2,) \n",
      " Expanded : (2, 1)\n",
      "Original :(2,)\n",
      " Expanded(Short Way): (2, 1) \t (1, 2)\n"
     ]
    }
   ],
   "source": [
    "x = np.array([1,2])\n",
    "print(f'Original : {x.shape} \\n Expanded : {np.expand_dims(x,axis=1).shape}')\n",
    "\n",
    "## Short way to expand dim : x[:,None]\n",
    "print(f'Original :{x.shape}\\n Expanded(Short Way): {x[:,None].shape} \\t {x[None,:].shape}')"
   ]
  },
  {
   "cell_type": "markdown",
   "metadata": {},
   "source": [
    "### 3. Stacking nparrays"
   ]
  },
  {
   "cell_type": "markdown",
   "metadata": {},
   "source": [
    "### Axis argument  "
   ]
  },
  {
   "cell_type": "markdown",
   "metadata": {},
   "source": [
    "#### Stackoverflow explanation of axis: https://stackoverflow.com/questions/17079279/how-is-axis-indexed-in-numpys-array"
   ]
  },
  {
   "cell_type": "markdown",
   "metadata": {},
   "source": [
    "#### For 2d: 0 is down and 1 is right"
   ]
  },
  {
   "cell_type": "code",
   "execution_count": 57,
   "metadata": {},
   "outputs": [
    {
     "data": {
      "text/plain": [
       "array([[[6, 8, 0, 5],\n",
       "        [2, 1, 0, 8],\n",
       "        [3, 5, 4, 1]],\n",
       "\n",
       "       [[9, 4, 6, 0],\n",
       "        [2, 4, 7, 9],\n",
       "        [9, 5, 1, 3]]])"
      ]
     },
     "execution_count": 57,
     "metadata": {},
     "output_type": "execute_result"
    }
   ],
   "source": [
    "x = np.random.randint(10,size=(2,3,4))\n",
    "x"
   ]
  },
  {
   "cell_type": "code",
   "execution_count": 62,
   "metadata": {},
   "outputs": [
    {
     "name": "stdout",
     "output_type": "stream",
     "text": [
      "[[11 14  4 14]\n",
      " [20 13 14 12]] \tShape:  (2, 4)\n"
     ]
    }
   ],
   "source": [
    "sumX = np.sum(x,axis=1)\n",
    "print(sumX, '\\tShape: ',sumX.shape)"
   ]
  },
  {
   "cell_type": "markdown",
   "metadata": {},
   "source": [
    "if you do .sum(axis=n), for example, then dimension n is collapsed and deleted, with each value in the new matrix equal to the sum of the corresponding collapsed values. For example, if b has shape (5,6,7,8), and you do c = b.sum(axis=2), then axis 2 (dimension with size 7) is collapsed, and the result has shape (5,6,8). Furthermore, c[x,y,z] is equal to the sum of all elements b[x,y,:,z]"
   ]
  },
  {
   "cell_type": "code",
   "execution_count": 68,
   "metadata": {},
   "outputs": [
    {
     "name": "stdout",
     "output_type": "stream",
     "text": [
      "[6 7 1] Equals\t 14\n"
     ]
    }
   ],
   "source": [
    "print(x[1,:,2], 'Equals\\t',x[1,:,2].sum())"
   ]
  },
  {
   "cell_type": "code",
   "execution_count": 75,
   "metadata": {},
   "outputs": [
    {
     "name": "stdout",
     "output_type": "stream",
     "text": [
      "sumX[1,2]: 14 \t \n",
      "equals: \n",
      "x[1,0,2]=> 6 + x[1,1,2]=> 7 + x[1,2,2]=> 1 = 14\n"
     ]
    }
   ],
   "source": [
    "print(f'sumX[1,2]: {sumX[1,2]} \\t \\nequals: ')\n",
    "print('x[1,0,2]=>',x[1,0,2],'+','x[1,1,2]=>',x[1,1,2],'+','x[1,2,2]=>',x[1,2,2],'=',x[1,:,2].sum())"
   ]
  },
  {
   "cell_type": "markdown",
   "metadata": {},
   "source": [
    "### Concatenation , hstack,vstack "
   ]
  },
  {
   "cell_type": "code",
   "execution_count": 80,
   "metadata": {},
   "outputs": [
    {
     "name": "stdout",
     "output_type": "stream",
     "text": [
      "Array 1 is \n",
      " [[[1 2 0 0 0]\n",
      "  [0 0 1 2 0]\n",
      "  [0 2 1 1 2]\n",
      "  [2 1 2 1 0]]\n",
      "\n",
      " [[2 0 0 0 2]\n",
      "  [2 1 1 0 1]\n",
      "  [1 1 1 0 2]\n",
      "  [0 0 1 1 2]]\n",
      "\n",
      " [[1 1 2 0 2]\n",
      "  [0 1 1 0 0]\n",
      "  [1 1 1 2 0]\n",
      "  [1 0 1 0 0]]] \n",
      "\n",
      "\n",
      "Array 2 is \n",
      " [[[3 3 0 1 1]\n",
      "  [3 0 0 1 2]\n",
      "  [3 1 2 1 0]\n",
      "  [1 3 1 3 2]]\n",
      "\n",
      " [[2 3 1 0 1]\n",
      "  [2 3 0 2 3]\n",
      "  [3 1 3 2 3]\n",
      "  [3 0 2 1 2]]\n",
      "\n",
      " [[3 3 3 3 1]\n",
      "  [2 3 0 1 0]\n",
      "  [2 1 1 1 2]\n",
      "  [3 2 2 2 2]]] \n",
      "\n",
      "\n",
      "Concatenated array is \n",
      " [[[1 2 0 0 0]\n",
      "  [0 0 1 2 0]\n",
      "  [0 2 1 1 2]\n",
      "  [2 1 2 1 0]]\n",
      "\n",
      " [[2 0 0 0 2]\n",
      "  [2 1 1 0 1]\n",
      "  [1 1 1 0 2]\n",
      "  [0 0 1 1 2]]\n",
      "\n",
      " [[1 1 2 0 2]\n",
      "  [0 1 1 0 0]\n",
      "  [1 1 1 2 0]\n",
      "  [1 0 1 0 0]]\n",
      "\n",
      " [[3 3 0 1 1]\n",
      "  [3 0 0 1 2]\n",
      "  [3 1 2 1 0]\n",
      "  [1 3 1 3 2]]\n",
      "\n",
      " [[2 3 1 0 1]\n",
      "  [2 3 0 2 3]\n",
      "  [3 1 3 2 3]\n",
      "  [3 0 2 1 2]]\n",
      "\n",
      " [[3 3 3 3 1]\n",
      "  [2 3 0 1 0]\n",
      "  [2 1 1 1 2]\n",
      "  [3 2 2 2 2]]] \n",
      "\n",
      " and the dimensions of the concatenated array are: \n",
      " (6, 4, 5)\n"
     ]
    }
   ],
   "source": [
    "array1 = np.random.randint(3, size = (3, 4, 5))\n",
    "array2 = np.random.randint(4, size = (3, 4, 5))\n",
    "\n",
    "concatenated_array = np.concatenate((array1, array2), axis = 0) \n",
    "\n",
    "print(\"Array 1 is \\n\", array1, \"\\n\\n\")\n",
    "print(\"Array 2 is \\n\", array2, \"\\n\\n\")\n",
    "print(\"Concatenated array is \\n\", concatenated_array, \"\\n\\n\", \"and the dimensions of the concatenated array are: \\n\", concatenated_array.shape)"
   ]
  },
  {
   "cell_type": "markdown",
   "metadata": {},
   "source": [
    "#### Slicing "
   ]
  },
  {
   "cell_type": "markdown",
   "metadata": {},
   "source": [
    "##### Array : [ 1, 2, 3, 4, 5]\n",
    "---\n",
    "##### Index:    0, 1, 2, 3, 4\n",
    "---\n",
    "##### Index:   -5,-4,-3,-2,-1\n",
    "---"
   ]
  },
  {
   "cell_type": "code",
   "execution_count": 93,
   "metadata": {},
   "outputs": [
    {
     "name": "stdout",
     "output_type": "stream",
     "text": [
      "Original array:\n",
      " [[[4 4 0 6 3]\n",
      "  [3 1 0 4 4]\n",
      "  [6 6 0 4 2]\n",
      "  [6 6 5 4 5]]\n",
      "\n",
      " [[5 3 4 0 4]\n",
      "  [4 3 1 5 2]\n",
      "  [4 5 0 4 3]\n",
      "  [5 5 6 2 3]]\n",
      "\n",
      " [[1 0 4 0 6]\n",
      "  [1 6 1 1 3]\n",
      "  [5 3 4 0 6]\n",
      "  [0 6 1 0 0]]] \n",
      "\n",
      "array[:,:,-2:]\n",
      " [[[6 3]\n",
      "  [4 4]\n",
      "  [4 2]\n",
      "  [4 5]]\n",
      "\n",
      " [[0 4]\n",
      "  [5 2]\n",
      "  [4 3]\n",
      "  [2 3]]\n",
      "\n",
      " [[0 6]\n",
      "  [1 3]\n",
      "  [0 6]\n",
      "  [0 0]]] \n",
      "\n",
      "\n"
     ]
    }
   ],
   "source": [
    "array = np.random.randint(7, size=(3,4,5))\n",
    "print('Original array:\\n', array, '\\n')\n",
    "\n",
    "print('array[:,:,-2:]\\n', array[:,:,-2:], '\\n\\n')"
   ]
  },
  {
   "cell_type": "code",
   "execution_count": null,
   "metadata": {},
   "outputs": [],
   "source": []
  }
 ],
 "metadata": {
  "kernelspec": {
   "display_name": "Python 3",
   "language": "python",
   "name": "python3"
  },
  "language_info": {
   "codemirror_mode": {
    "name": "ipython",
    "version": 3
   },
   "file_extension": ".py",
   "mimetype": "text/x-python",
   "name": "python",
   "nbconvert_exporter": "python",
   "pygments_lexer": "ipython3",
   "version": "3.7.7"
  }
 },
 "nbformat": 4,
 "nbformat_minor": 4
}
