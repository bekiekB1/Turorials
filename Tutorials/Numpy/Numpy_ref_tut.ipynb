{
 "cells": [
  {
   "cell_type": "markdown",
   "metadata": {},
   "source": [
    "## Numpy Refrences\n"
   ]
  },
  {
   "cell_type": "markdown",
   "metadata": {},
   "source": [
    "#### Install Numpy"
   ]
  },
  {
   "cell_type": "code",
   "execution_count": 2,
   "metadata": {},
   "outputs": [],
   "source": [
    "#pip install numpy"
   ]
  },
  {
   "cell_type": "markdown",
   "metadata": {},
   "source": [
    "#### Import Numpy"
   ]
  },
  {
   "cell_type": "code",
   "execution_count": 2,
   "metadata": {},
   "outputs": [],
   "source": [
    "import numpy as np"
   ]
  },
  {
   "cell_type": "markdown",
   "metadata": {},
   "source": [
    "### Contents\n",
    "#### 1. Initialize Numpy arrays\n",
    "#### 2.  Changing nparrays without changing its elements\n",
    "\n",
    "---\n",
    "<br />"
   ]
  },
  {
   "cell_type": "markdown",
   "metadata": {},
   "source": [
    "### *1) Initialize Numpy arrays*"
   ]
  },
  {
   "cell_type": "code",
   "execution_count": 3,
   "metadata": {},
   "outputs": [
    {
     "name": "stdout",
     "output_type": "stream",
     "text": [
      "Initialize Directly: [1 2 3]\n",
      "\n",
      "Type of arr1: <class 'numpy.ndarray'>\n",
      "\n",
      "Initalize through a variable: [1 2 4 5]\n",
      "Last array: [1 2 3 4]\n",
      "Initialize nparray with data type: [1. 2. 3.]\n",
      "Initialize nparray with Same type: [1. 2. 3.]\n"
     ]
    },
    {
     "data": {
      "text/plain": [
       "array([[1, 2],\n",
       "       [3, 4]])"
      ]
     },
     "execution_count": 3,
     "metadata": {},
     "output_type": "execute_result"
    }
   ],
   "source": [
    " # Initialize Directly\n",
    "arr1 = np.array([1,2,3])\n",
    "print(f'Initialize Directly: {arr1}')\n",
    "\n",
    "#Check Type of a data structure\n",
    "print(f'\\nType of arr1: {type(arr1)}\\n')\n",
    "\n",
    "\n",
    "# Initalize through a variable\n",
    "a_list = [1,2,4,5]\n",
    "arr2 = np.array(a_list) \n",
    "print(f'Initalize through a variable: {arr2}')\n",
    "\n",
    "\n",
    "# arr_3 is mutable\n",
    "a_list2 = (1,2,3,4)\n",
    "arr_3 = np.array(a_list2)\n",
    "print(f'Last array: {arr_3}')\n",
    "\n",
    "#Initialize nparray with data type\n",
    "print(f'Initialize nparray with data type: {np.array([1,2,3],dtype=float)}') \n",
    "\n",
    "#Initialize nparray as float\n",
    "print(f'Initialize nparray with Same type: {np.array([1.,2,3])}') \n",
    "\n",
    "\n",
    "#Initialize Matrix\n",
    "np.array(np.mat('1 2; 3 4'))\n"
   ]
  },
  {
   "cell_type": "markdown",
   "metadata": {},
   "source": [
    "Numpy doc to Generate Numbers from Different Distribution: https://numpy.org/doc/stable/reference/random/generator.html"
   ]
  },
  {
   "cell_type": "code",
   "execution_count": 4,
   "metadata": {},
   "outputs": [
    {
     "name": "stdout",
     "output_type": "stream",
     "text": [
      "Initialize Zeros: \n",
      "[[0. 0. 0.]\n",
      " [0. 0. 0.]]\n",
      "\n",
      "Initialize Ones: \n",
      "[[1 1 1]\n",
      " [1 1 1]]\n",
      "\n",
      "Random int with range 2-10 and size (2,3):\n",
      " [[5 7 4]\n",
      " [8 5 5]]\n",
      "\n",
      " Standard Normally distributed N(0,1) numbers of size (2,4,5):\n",
      " [[[-1.16456204 -0.62762457  1.56695697  0.63058526  0.0913998 ]\n",
      "  [ 0.22115096 -0.7210442   0.44597131  3.45179773 -1.37218112]\n",
      "  [ 1.37732659  1.00639442  0.21885697  1.04458115  0.16579038]\n",
      "  [-0.37064219 -1.41779211 -0.85772923  0.26981747 -0.13578791]]\n",
      "\n",
      " [[ 0.0627123  -1.79149639 -0.26605725 -0.92296566  1.3699916 ]\n",
      "  [ 0.52720234  1.43909736  0.24463286 -1.59903704 -0.13599803]\n",
      "  [-0.05443366  0.56270225  0.84681682  0.62646489  1.07871443]\n",
      "  [ 0.3039596   0.65468994  0.02241101 -1.67634156 -0.1903996 ]]]\n"
     ]
    }
   ],
   "source": [
    "# Initialize a zeros nparray \n",
    "print(f'Initialize Zeros: \\n{np.zeros((2,3))}\\n') # Note the argument is shape so double brackets\n",
    "\n",
    "# Initialize a Ones nparray \n",
    "print(f'Initialize Ones: \\n{np.ones((2,3),dtype=int)}\\n') # Note the argument is shape so double brackets\n",
    "\n",
    "# Random int with range 2-10 and size (2,3)\n",
    "print(f'Random int with range 2-10 and size (2,3):\\n {np.random.randint(2,10,size=(2,3))}\\n') \n",
    "\n",
    "\n",
    "# Standard Normally distributed N(0,1) numbers of size (2,4,5)\n",
    "print(f' Standard Normally distributed N(0,1) numbers of size (2,4,5):\\n {np.random.randn(2,4,5)}')# Note no size as argument"
   ]
  },
  {
   "cell_type": "code",
   "execution_count": 5,
   "metadata": {},
   "outputs": [
    {
     "name": "stdout",
     "output_type": "stream",
     "text": [
      "Arrange: [3 4 5 6 7 8 9]\n",
      "LineSpace: [2.   2.25 2.5  2.75 3.  ]\n"
     ]
    }
   ],
   "source": [
    "# Arrange a numpy array\n",
    "print(f'Arrange: {np.arange(3,10)}')\n",
    "\n",
    "#  evenly spaced numbers over a specified interval\n",
    "print(f'LineSpace: {np.linspace(2.0, 3.0, num=5)}')"
   ]
  },
  {
   "cell_type": "markdown",
   "metadata": {},
   "source": [
    " #### 2) *Changing nparrays without changing its elements*"
   ]
  },
  {
   "cell_type": "code",
   "execution_count": 6,
   "metadata": {},
   "outputs": [
    {
     "name": "stdout",
     "output_type": "stream",
     "text": [
      "arr_a before: [ 0  1  2  3  4  5  6  7  8  9 10 11]\n",
      "Reshape the dimension of nparray:\n",
      " [[ 0  1  2  3]\n",
      " [ 4  5  6  7]\n",
      " [ 8  9 10 11]]\n",
      "\n",
      "Shuffling arr_a: [ 2  1  8  7  3  6  0  5  9  4 11 10]\n"
     ]
    },
    {
     "data": {
      "text/plain": [
       "array([[0, 1, 2],\n",
       "       [6, 7, 8],\n",
       "       [3, 4, 5]])"
      ]
     },
     "execution_count": 6,
     "metadata": {},
     "output_type": "execute_result"
    }
   ],
   "source": [
    "#Reshape the nparray\n",
    "arr_a = np.arange(12)\n",
    "print(f'arr_a before: {arr_a}')\n",
    "\n",
    "arr_b = np.reshape(arr_a,(3,4))\n",
    "print(f'Reshape the dimension of nparray:\\n {arr_b}\\n') # Note : dimension should match\n",
    "\n",
    "#Shuffling the nparray\n",
    "np.random.shuffle(arr_a)\n",
    "print(f'Shuffling arr_a: {arr_a}')\n",
    "\n",
    "# Permutation of nparray\n",
    "arr = np.arange(9).reshape((3, 3))\n",
    "np.random.permutation(arr)"
   ]
  },
  {
   "cell_type": "code",
   "execution_count": 7,
   "metadata": {},
   "outputs": [],
   "source": [
    "# Transpose\n",
    "# Flatten\n",
    "# squeeze / unsqueeze\n",
    "#"
   ]
  },
  {
   "cell_type": "code",
   "execution_count": null,
   "metadata": {},
   "outputs": [],
   "source": []
  }
 ],
 "metadata": {
  "kernelspec": {
   "display_name": "Python 3",
   "language": "python",
   "name": "python3"
  },
  "language_info": {
   "codemirror_mode": {
    "name": "ipython",
    "version": 3
   },
   "file_extension": ".py",
   "mimetype": "text/x-python",
   "name": "python",
   "nbconvert_exporter": "python",
   "pygments_lexer": "ipython3",
   "version": "3.7.6"
  }
 },
 "nbformat": 4,
 "nbformat_minor": 4
}
