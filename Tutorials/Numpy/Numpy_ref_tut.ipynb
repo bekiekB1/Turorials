{
 "cells": [
  {
   "cell_type": "markdown",
   "metadata": {},
   "source": [
    "## Numpy Refrences\n"
   ]
  },
  {
   "cell_type": "markdown",
   "metadata": {},
   "source": [
    "#### Install Numpy"
   ]
  },
  {
   "cell_type": "code",
   "execution_count": 2,
   "metadata": {},
   "outputs": [],
   "source": [
    "#pip install numpy"
   ]
  },
  {
   "cell_type": "markdown",
   "metadata": {},
   "source": [
    "#### Import Numpy"
   ]
  },
  {
   "cell_type": "code",
   "execution_count": 2,
   "metadata": {},
   "outputs": [],
   "source": [
    "import numpy as np"
   ]
  },
  {
   "cell_type": "markdown",
   "metadata": {},
   "source": [
    "### Contents\n",
    "#### 1. Initialize Numpy arrays\n",
    "#### 2.  Changing nparrays without changing contents\n",
    "\n",
    "---\n",
    "<br />"
   ]
  },
  {
   "cell_type": "markdown",
   "metadata": {},
   "source": [
    "### *1) Initialize Numpy arrays*"
   ]
  },
  {
   "cell_type": "code",
   "execution_count": 45,
   "metadata": {},
   "outputs": [
    {
     "name": "stdout",
     "output_type": "stream",
     "text": [
      "Initialize Directly: [1 2 3]\n",
      "\n",
      "Type of arr1: <class 'numpy.ndarray'>\n",
      "\n",
      "Initalize through a variable: [1 2 4 5]\n",
      "Last array: [1 2 3 4]\n",
      "Initialize nparray with data type: [1. 2. 3.]\n",
      "Initialize nparray with Same type: [1. 2. 3.]\n"
     ]
    },
    {
     "data": {
      "text/plain": [
       "array([[1, 2],\n",
       "       [3, 4]])"
      ]
     },
     "execution_count": 45,
     "metadata": {},
     "output_type": "execute_result"
    }
   ],
   "source": [
    " # Initialize Directly\n",
    "arr1 = np.array([1,2,3])\n",
    "print(f'Initialize Directly: {arr1}')\n",
    "\n",
    "#Check Type of a data structure\n",
    "print(f'\\nType of arr1: {type(arr1)}\\n')\n",
    "\n",
    "\n",
    "# Initalize through a variable\n",
    "a_list = [1,2,4,5]\n",
    "arr2 = np.array(a_list) \n",
    "print(f'Initalize through a variable: {arr2}')\n",
    "\n",
    "\n",
    "# arr_3 is mutable\n",
    "a_list2 = (1,2,3,4)\n",
    "arr_3 = np.array(a_list2)\n",
    "print(f'Last array: {arr_3}')\n",
    "\n",
    "#Initialize nparray with data type\n",
    "print(f'Initialize nparray with data type: {np.array([1,2,3],dtype=float)}') \n",
    "\n",
    "#Initialize nparray as float\n",
    "print(f'Initialize nparray with Same type: {np.array([1.,2,3])}') \n",
    "\n",
    "\n",
    "#Initialize Matrix\n",
    "np.array(np.mat('1 2; 3 4'))\n"
   ]
  },
  {
   "cell_type": "markdown",
   "metadata": {},
   "source": [
    "Numpt doc to Generate Numbers from Different Distribution: https://numpy.org/doc/stable/reference/random/generator.html"
   ]
  },
  {
   "cell_type": "code",
   "execution_count": 42,
   "metadata": {},
   "outputs": [
    {
     "name": "stdout",
     "output_type": "stream",
     "text": [
      "Initialize Zeros: \n",
      "[[0. 0. 0.]\n",
      " [0. 0. 0.]]\n",
      "\n",
      "Initialize Ones: \n",
      "[[1 1 1]\n",
      " [1 1 1]]\n",
      "\n",
      "Random int with range 2-10 and size (2,3):\n",
      " [[6 4 2]\n",
      " [9 4 8]]\n",
      "\n",
      " Standard Normally distributed N(0,1) numbers of size (2,4,5):\n",
      " [[[ 0.85142595  1.13634839 -0.05083267 -0.9376217   0.00970389]\n",
      "  [ 0.82138766 -1.41607417  0.30371168  0.43972223  1.36193249]\n",
      "  [ 1.09841551 -2.70994926  0.03476014  0.82065486  2.2415424 ]\n",
      "  [ 2.45543993  0.64465584 -1.52385364 -1.53576227 -1.65306923]]\n",
      "\n",
      " [[-0.67706992 -1.71919213  0.28699309  1.46627597  0.01699229]\n",
      "  [-1.5723232   0.45036078  1.19822022 -0.15056421 -0.28198155]\n",
      "  [-1.26736711 -0.48419055  1.71821487  1.0098775  -0.21603367]\n",
      "  [-2.12473655  0.77625107 -0.02353962 -0.37306871 -1.01385934]]]\n"
     ]
    }
   ],
   "source": [
    "# Initialize a zeros nparray \n",
    "print(f'Initialize Zeros: \\n{np.zeros((2,3))}\\n') # Note the argument is shape so double brackets\n",
    "\n",
    "# Initialize a Ones nparray \n",
    "print(f'Initialize Ones: \\n{np.ones((2,3),dtype=int)}\\n') # Note the argument is shape so double brackets\n",
    "\n",
    "# Random int with range 2-10 and size (2,3)\n",
    "print(f'Random int with range 2-10 and size (2,3):\\n {np.random.randint(2,10,size=(2,3))}\\n') \n",
    "\n",
    "\n",
    "# Standard Normally distributed N(0,1) numbers of size (2,4,5)\n",
    "print(f' Standard Normally distributed N(0,1) numbers of size (2,4,5):\\n {np.random.randn(2,4,5)}')# Note no size as argument"
   ]
  },
  {
   "cell_type": "code",
   "execution_count": 48,
   "metadata": {},
   "outputs": [
    {
     "name": "stdout",
     "output_type": "stream",
     "text": [
      "Arrange: [3 4 5 6 7 8 9]\n",
      "LineSpace: [2.   2.25 2.5  2.75 3.  ]\n"
     ]
    }
   ],
   "source": [
    "# Arrange a numpy array\n",
    "print(f'Arrange: {np.arange(3,10)}')\n",
    "\n",
    "#  evenly spaced numbers over a specified interval\n",
    "print(f'LineSpace: {np.linspace(2.0, 3.0, num=5)}')"
   ]
  },
  {
   "cell_type": "markdown",
   "metadata": {},
   "source": [
    " #### 2) *Changing nparrays without changing contents*"
   ]
  },
  {
   "cell_type": "code",
   "execution_count": 66,
   "metadata": {},
   "outputs": [
    {
     "name": "stdout",
     "output_type": "stream",
     "text": [
      "arr_a before: [ 0  1  2  3  4  5  6  7  8  9 10 11]\n",
      "Reshape the dimension of nparray:\n",
      " [[ 0  1  2  3]\n",
      " [ 4  5  6  7]\n",
      " [ 8  9 10 11]]\n",
      "\n",
      "Shuffling arr_a: [ 9  5  3  2  1 10  0  6  7  4 11  8]\n"
     ]
    },
    {
     "data": {
      "text/plain": [
       "array([[0, 1, 2],\n",
       "       [3, 4, 5],\n",
       "       [6, 7, 8]])"
      ]
     },
     "execution_count": 66,
     "metadata": {},
     "output_type": "execute_result"
    }
   ],
   "source": [
    "#Reshape the nparray\n",
    "arr_a = np.arange(12)\n",
    "print(f'arr_a before: {arr_a}')\n",
    "\n",
    "arr_b = np.reshape(arr_a,(3,4))\n",
    "print(f'Reshape the dimension of nparray:\\n {arr_b}\\n')\n",
    "\n",
    "#Shuffling the nparray\n",
    "np.random.shuffle(arr_a)\n",
    "print(f'Shuffling arr_a: {arr_a}')\n",
    "\n",
    "# Permutation of nparray\n",
    "arr = np.arange(9).reshape((3, 3))\n",
    "np.random.permutation(arr)"
   ]
  },
  {
   "cell_type": "code",
   "execution_count": null,
   "metadata": {},
   "outputs": [],
   "source": [
    "# Transpose\n",
    "# Flatten\n",
    "# squeeze / unsqueeze\n",
    "#"
   ]
  }
 ],
 "metadata": {
  "kernelspec": {
   "display_name": "Python 3",
   "language": "python",
   "name": "python3"
  },
  "language_info": {
   "codemirror_mode": {
    "name": "ipython",
    "version": 3
   },
   "file_extension": ".py",
   "mimetype": "text/x-python",
   "name": "python",
   "nbconvert_exporter": "python",
   "pygments_lexer": "ipython3",
   "version": "3.7.6"
  }
 },
 "nbformat": 4,
 "nbformat_minor": 4
}
