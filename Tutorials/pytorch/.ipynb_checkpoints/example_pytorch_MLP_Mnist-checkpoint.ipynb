{
 "cells": [
  {
   "cell_type": "markdown",
   "metadata": {
    "id": "AjUYq46VBWJo"
   },
   "source": [
    "# **Pytorch Minist Classification with MLP**"
   ]
  },
  {
   "cell_type": "code",
   "execution_count": 124,
   "metadata": {
    "colab": {
     "base_uri": "https://localhost:8080/"
    },
    "id": "bHASWATeBnpG",
    "outputId": "fcdcef5a-3c37-4680-d190-2fc223e70220"
   },
   "outputs": [
    {
     "name": "stdout",
     "output_type": "stream",
     "text": [
      "Mon Nov 23 05:02:56 2020       \n",
      "+-----------------------------------------------------------------------------+\n",
      "| NVIDIA-SMI 455.38       Driver Version: 418.67       CUDA Version: 10.1     |\n",
      "|-------------------------------+----------------------+----------------------+\n",
      "| GPU  Name        Persistence-M| Bus-Id        Disp.A | Volatile Uncorr. ECC |\n",
      "| Fan  Temp  Perf  Pwr:Usage/Cap|         Memory-Usage | GPU-Util  Compute M. |\n",
      "|                               |                      |               MIG M. |\n",
      "|===============================+======================+======================|\n",
      "|   0  Tesla T4            Off  | 00000000:00:04.0 Off |                    0 |\n",
      "| N/A   72C    P0    32W /  70W |    959MiB / 15079MiB |      0%      Default |\n",
      "|                               |                      |                 ERR! |\n",
      "+-------------------------------+----------------------+----------------------+\n",
      "                                                                               \n",
      "+-----------------------------------------------------------------------------+\n",
      "| Processes:                                                                  |\n",
      "|  GPU   GI   CI        PID   Type   Process name                  GPU Memory |\n",
      "|        ID   ID                                                   Usage      |\n",
      "|=============================================================================|\n",
      "|  No running processes found                                                 |\n",
      "+-----------------------------------------------------------------------------+\n"
     ]
    }
   ],
   "source": [
    "!nvidia-smi"
   ]
  },
  {
   "cell_type": "markdown",
   "metadata": {
    "id": "GWuigYeACW8I"
   },
   "source": [
    "torch.nn.Functional contains some useful functions like activation functions a convolution operations you can use. However, these are not full layers so if you want to specify a layer of any kind you should use torch.nn.Module.\n",
    "\n",
    "You would use the torch.nn.Functional conv operations to define a custom layer for example with a convolution operation, but not to define a standard convolution layer."
   ]
  },
  {
   "cell_type": "code",
   "execution_count": 145,
   "metadata": {
    "colab": {
     "base_uri": "https://localhost:8080/"
    },
    "id": "IrjZnuubBIJ0",
    "outputId": "a6a7c9d3-ad97-4d09-8081-20a65b84e627"
   },
   "outputs": [
    {
     "data": {
      "text/plain": [
       "True"
      ]
     },
     "execution_count": 145,
     "metadata": {
      "tags": []
     },
     "output_type": "execute_result"
    }
   ],
   "source": [
    "import numpy as np\n",
    "import torch\n",
    "import sys\n",
    "import torch.nn as nn\n",
    "import torch.nn.functional as F\n",
    "import torch.optim as optim\n",
    "\n",
    "from torch.utils import data\n",
    "from torchvision import transforms\n",
    "from torchvision.datasets import MNIST\n",
    "\n",
    "import matplotlib.pyplot as plt\n",
    "import time\n",
    "\n",
    "cuda = torch.cuda.is_available()\n",
    "cuda"
   ]
  },
  {
   "cell_type": "markdown",
   "metadata": {
    "id": "QzyWrACdDZ1s"
   },
   "source": [
    "transforms.ToTensor()\n",
    "---\n",
    "Convert a PIL Image or numpy.ndarray to tensor. This transform does not support torchscript.\n",
    "\n",
    "Converts a PIL Image or numpy.ndarray (H x W x C) in the range [0, 255] to a torch.FloatTensor of shape (C x H x W) in the range [0.0, 1.0] if the PIL Image belongs to one of the modes (L, LA, P, I, F, RGB, YCbCr, RGBA, CMYK, 1) or if the numpy.ndarray has dtype = np.uint8\n",
    "\n",
    "In the other cases, tensors are returned without scaling."
   ]
  },
  {
   "cell_type": "code",
   "execution_count": 146,
   "metadata": {
    "id": "alhAkR_UBxxF"
   },
   "outputs": [],
   "source": [
    "train = MNIST('./data',train=True,download=True,transform=transforms.ToTensor())\n",
    "test = MNIST('./data',train=False,download=True,transform=transforms.ToTensor())"
   ]
  },
  {
   "cell_type": "code",
   "execution_count": 147,
   "metadata": {
    "colab": {
     "base_uri": "https://localhost:8080/"
    },
    "id": "hcBYeEu6Dzzk",
    "outputId": "07ae5fe1-d5fa-41ba-f3db-73e4ffe53dc1"
   },
   "outputs": [
    {
     "data": {
      "text/plain": [
       "Dataset MNIST\n",
       "    Number of datapoints: 60000\n",
       "    Root location: ./data\n",
       "    Split: Train\n",
       "    StandardTransform\n",
       "Transform: ToTensor()"
      ]
     },
     "execution_count": 147,
     "metadata": {
      "tags": []
     },
     "output_type": "execute_result"
    }
   ],
   "source": [
    "train"
   ]
  },
  {
   "cell_type": "code",
   "execution_count": 148,
   "metadata": {
    "id": "D-FtWnqoEMnn"
   },
   "outputs": [],
   "source": [
    "X_train = train.data.numpy()\n",
    "y_train = train.targets.numpy()"
   ]
  },
  {
   "cell_type": "code",
   "execution_count": 149,
   "metadata": {
    "colab": {
     "base_uri": "https://localhost:8080/",
     "height": 282
    },
    "id": "LSaKc5caExDK",
    "outputId": "3ba3c164-c4b9-486f-9dae-11026ea2d8e6"
   },
   "outputs": [
    {
     "name": "stdout",
     "output_type": "stream",
     "text": [
      "5\n"
     ]
    },
    {
     "data": {
      "image/png": "[encoded data removed]",
      "text/plain": [
       "<Figure size 432x288 with 1 Axes>"
      ]
     },
     "metadata": {
      "needs_background": "light",
      "tags": []
     },
     "output_type": "display_data"
    }
   ],
   "source": [
    "# Visualize a training instance with matplotlib\n",
    "plt.imshow(X_train[0], cmap='gray')\n",
    "print (y_train[0])"
   ]
  },
  {
   "cell_type": "code",
   "execution_count": 150,
   "metadata": {
    "colab": {
     "base_uri": "https://localhost:8080/",
     "height": 308
    },
    "id": "e02ff8aPFYz6",
    "outputId": "041c0244-ca2a-4c72-b027-1a7da80cbd98"
   },
   "outputs": [
    {
     "data": {
      "image/png": "[encoded data removed]",
      "text/plain": [
       "<Figure size 864x345.6 with 40 Axes>"
      ]
     },
     "metadata": {
      "needs_background": "light",
      "tags": []
     },
     "output_type": "display_data"
    }
   ],
   "source": [
    "n_rows = 4\n",
    "n_cols = 10\n",
    "\n",
    "plt.figure(figsize=(n_cols * 1.2, n_rows * 1.2))\n",
    "\n",
    "for row in range(n_rows):\n",
    "    for col in range(n_cols):\n",
    "        index = n_cols * row + col\n",
    "        plt.subplot(n_rows, n_cols, index + 1)\n",
    "        plt.imshow(X_train[index], cmap=\"binary\", interpolation=\"nearest\")\n",
    "        plt.axis('off')\n",
    "        plt.title(y_train[index], fontsize=12)\n",
    "\n",
    "        plt.subplots_adjust(wspace=0.2, hspace=0.5)\n",
    "plt.show()"
   ]
  },
  {
   "cell_type": "code",
   "execution_count": 151,
   "metadata": {
    "colab": {
     "base_uri": "https://localhost:8080/"
    },
    "id": "SyycFke_Fnjo",
    "outputId": "c919f049-9b1c-4348-ad8c-a8ecb9b90acc"
   },
   "outputs": [
    {
     "name": "stdout",
     "output_type": "stream",
     "text": [
      "[Train Data]\n",
      " - Numpy Shape: (28, 28, 60000)\n",
      " - Tensor Shape: torch.Size([28, 28, 60000])\n",
      " - min: tensor(0.)\n",
      " - max: tensor(1.)\n",
      " - mean: tensor(0.1307)\n",
      " - std: tensor(0.3081)\n",
      " - var: tensor(0.0949)\n",
      "\n",
      "[Train Labels]\n",
      " - Numpy Shape: (60000,)\n",
      " - Tensor Shape: torch.Size([60000])\n"
     ]
    }
   ],
   "source": [
    "train_data = train.transform(train_data.numpy())\n",
    "print('[Train Data]')\n",
    "print(' - Numpy Shape:', train_data.cpu().numpy().shape)\n",
    "print(' - Tensor Shape:', train_data.size())\n",
    "print(' - min:', torch.min(train_data))\n",
    "print(' - max:', torch.max(train_data))\n",
    "print(' - mean:', torch.mean(train_data))\n",
    "print(' - std:', torch.std(train_data))\n",
    "print(' - var:', torch.var(train_data))\n",
    "\n",
    "print('\\n[Train Labels]')\n",
    "print(' - Numpy Shape:', train.targets.cpu().numpy().shape)\n",
    "print(' - Tensor Shape:', train.targets.size())"
   ]
  },
  {
   "cell_type": "markdown",
   "metadata": {
    "id": "J0mtEU0RGW18"
   },
   "source": [
    "## DataSet"
   ]
  },
  {
   "cell_type": "markdown",
   "metadata": {
    "id": "0hvSaMmgHLv1"
   },
   "source": [
    "After using \\__len__ to figure out how many samples there are, pytorch will use\n",
    "\\__getitem\\__ to ask for a certain sample. So, \\__getitem__(i) should return the “i-th”\n",
    "sample, with order chosen by you. You should use \\__getitem__ to do some final\n",
    "processing on the data before it’s sent out.\n",
    "Caution: \\__getitem__ will be called maybe millions of times, so make sure you do as\n",
    "little work in here as possible for fast code. Try to keep heavy preprocessing in\n",
    "\\__init__, which is only called once."
   ]
  },
  {
   "cell_type": "code",
   "execution_count": 152,
   "metadata": {
    "id": "OuB4QOeiGL7D"
   },
   "outputs": [],
   "source": [
    "class MyDataset(data.Dataset):\n",
    "  def __init__(self,X,Y):#Use __init__ to load in the data to the class (or\n",
    "                        #preprocess) so it can be accessed later\n",
    "    self.X = X\n",
    "    self.Y = Y\n",
    "  \n",
    "  #Pytorch will use __len__ to know how many (x, y)\n",
    "  #pairs (training samples) are in your dataset\n",
    "  def __len__(self):\n",
    "    return len(self.Y)\n",
    "  \n",
    "  def __getitem__(self,index):\n",
    "    X = self.X[index].float().flatten()\n",
    "    Y = self.Y[index].long()\n",
    "    return X,Y"
   ]
  },
  {
   "cell_type": "markdown",
   "metadata": {
    "id": "UQQZ5iAVHzL1"
   },
   "source": [
    "- pin_memory: Just something that makes\n",
    "dataloading faster at the\n",
    "expense of more RAM usage\n",
    "\n",
    "- num_workers: Batches are loaded in parallel –\n",
    "how many workers do you want\n",
    "doing this? Depending on how\n",
    "intensive \\__getitem__ is,\n",
    "lowering or raising this may\n",
    "speed up dataloading.\n",
    "\n",
    "- batch_size: How many samples per batch?\n",
    "This is a hyperparameter you\n",
    "want to adjust.\n",
    "\n",
    "- Shuffle: We’ll be going through the\n",
    "entire dataset multiple times.\n",
    "We want to shuffle the Dataset\n",
    "every single time for the\n",
    "training dataloader.\n",
    "For validation/test, you don’t\n",
    "want to shuffle\n",
    "\n",
    "-- "
   ]
  },
  {
   "cell_type": "code",
   "execution_count": 153,
   "metadata": {
    "id": "AH9O6MFNHsXQ"
   },
   "outputs": [],
   "source": [
    "num_workers = 8 if cuda else 0 \n",
    "\n",
    "# Training\n",
    "train_dataset = MyDataset(train.data, train.targets)#The dataset created above \n",
    "\n",
    "train_loader_args = dict(shuffle=True, batch_size=256, num_workers=num_workers, pin_memory=True) if cuda\\\n",
    "                    else dict(shuffle=True, batch_size=64) # Argument for train_loader \n",
    "train_loader = data.DataLoader(train_dataset, **train_loader_args)# Argument: our dataset and argument \n",
    "\n",
    "# Testing\n",
    "test_dataset = MyDataset(test.data, test.targets)\n",
    "\n",
    "test_loader_args = dict(shuffle=False, batch_size=256, num_workers=num_workers, pin_memory=True) if cuda\\\n",
    "                    else dict(shuffle=False, batch_size=1)\n",
    "test_loader = data.DataLoader(test_dataset, **test_loader_args)"
   ]
  },
  {
   "cell_type": "code",
   "execution_count": 154,
   "metadata": {
    "colab": {
     "base_uri": "https://localhost:8080/",
     "height": 155
    },
    "id": "cL4pWcMTfM76",
    "outputId": "898faabe-c4ba-45df-9dcb-c2e93dd97e8d"
   },
   "outputs": [
    {
     "name": "stderr",
     "output_type": "stream",
     "text": [
      "Clipping input data to the valid range for imshow with RGB data ([0..1] for floats or [0..255] for integers).\n"
     ]
    },
    {
     "name": "stdout",
     "output_type": "stream",
     "text": [
      "       7        2        1        0        4\n"
     ]
    },
    {
     "data": {
      "image/png": "[encoded data removed]",
      "text/plain": [
       "<Figure size 432x288 with 1 Axes>"
      ]
     },
     "metadata": {
      "needs_background": "light",
      "tags": []
     },
     "output_type": "display_data"
    }
   ],
   "source": [
    "dataiter = iter(test_loader)\n",
    "images, labels = dataiter.next()\n",
    "images = torch.reshape(images,(256,1,28,28))\n",
    "im = torchvision.utils.make_grid(images[:5])\n",
    "plt.imshow(np.transpose(im.numpy(), (1, 2, 0)))\n",
    "print(' '.join('%8s' % labels[j].item() for j in range(5)))"
   ]
  },
  {
   "cell_type": "code",
   "execution_count": 154,
   "metadata": {
    "id": "CEKaprxnfMHt"
   },
   "outputs": [],
   "source": []
  },
  {
   "cell_type": "markdown",
   "metadata": {
    "id": "UrvhpzKwLGs0"
   },
   "source": [
    "## Defining The model\n",
    "\n",
    "Networks in pytorch are (generally) classes that are based off of the\n",
    "nn.Module class.\n",
    "- Similar to the Dataset class, pytorch wants you to implement the\n",
    "  \\__init__ and forward methods.\n",
    "- \\__init__: this is where you define the actual model itself (along with other\n",
    "  stuff you might need)\n",
    "- Forward: given an input x, you run it through the model defined in __init\n",
    "\n",
    "\n",
    "Linear : https://pytorch.org/docs/stable/generated/torch.nn.Linear.html"
   ]
  },
  {
   "cell_type": "code",
   "execution_count": 155,
   "metadata": {
    "id": "RmAGUJdmKtzt"
   },
   "outputs": [],
   "source": [
    "# SIMPLE MODEL DEFINITION\n",
    "\n",
    "#Easy Add layers\n",
    "class Simple_MLP(nn.Module):\n",
    "    def __init__(self, size_list):\n",
    "        super(Simple_MLP, self).__init__()\n",
    "        layers = []\n",
    "        self.size_list = size_list\n",
    "        for i in range(len(size_list) - 2):\n",
    "            layers.append(nn.Linear(size_list[i],size_list[i+1]))\n",
    "            layers.append(nn.ReLU())\n",
    "        layers.append(nn.Linear(size_list[-2], size_list[-1]))\n",
    "        self.net = nn.Sequential(*layers)\n",
    "        #self.layers = nn.ModuleList(layers)\n",
    "\n",
    "    def forward(self, x):\n",
    "        return self.net(x)\n",
    "\n",
    "# Very High Level\n",
    "net =nn.Sequential(\n",
    "    nn.Linear(32,128),\n",
    "    nn.Sigmoid(),\n",
    "    nn.Linear(128,10))\n",
    "\n",
    "# create a more customizable network module \n",
    "class MyNetwork(nn.Module):\n",
    "    # you can use the layer sizes as initialization arguments if you want to\n",
    "    def __init__(self,input_size, hidden_size, output_size):\n",
    "        super().__init__()\n",
    "        self.layer1 = torch.nn.Linear(input_size,hidden_size)\n",
    "        self.layer2 = torch.nn.Sigmoid()\n",
    "        self.layer3 = torch.nn.Linear(hidden_size,output_size)\n",
    "\n",
    "    def forward(self, input_val):\n",
    "        h = input_val\n",
    "        h = self.layer1(h)\n",
    "        h = self.layer2(h)\n",
    "        h = self.layer3(h)\n",
    "        return h\n",
    "\n",
    "## From scratch\n",
    "class MyNetworkWithParams(nn.Module):\n",
    "    def __init__(self,input_size, hidden_size, output_size):\n",
    "        super(MyNetworkWithParams,self).__init__()\n",
    "        self.layer1_weights = nn.Parameter(torch.randn(input_size,hidden_size))\n",
    "        self.layer1_bias = nn.Parameter(torch.randn(hidden_size))\n",
    "        self.layer2_weights = nn.Parameter(torch.randn(hidden_size,output_size))\n",
    "        self.layer2_bias = nn.Parameter(torch.randn(output_size))\n",
    "        \n",
    "    def forward(self,x):\n",
    "        h1 = torch.matmul(x,self.layer1_weights) + self.layer1_bias\n",
    "        h1_act = torch.max(h1, torch.zeros(h1.size())) # ReLU\n",
    "        output = torch.matmul(h1_act,self.layer2_weights) + self.layer2_bias\n",
    "        return output\n",
    "\n",
    "\n",
    "#Recall: each of the nn.Linear has trainable\n",
    "#parameters (weight and bias).\n",
    "#By calling .parameters() on Our_Model, you’ll\n",
    "#see the weight and bias of each layer thanks\n",
    "#to some magic backend.\n",
    "\n",
    "\n",
    "class Our_model():\n",
    "  def __init__(self):\n",
    "    super().__init__()\n",
    "    self.layer1 = nn.Linear(3,4)\n",
    "    self.layer2 = nn.Linear(4,4)\n",
    "    self.layer3 = nn.Linear(4,1)\n",
    "  \n",
    "  #We run the input x through the layerssequentially, one by one(Sequential can be used)\n",
    "  def forward(self,x):\n",
    "    out = self.layer1(x)\n",
    "    out = self.layer1(out)\n",
    "    out = self.layer1(out)\n",
    "\n",
    "#Or\n",
    "class Our_model2():\n",
    "  def __init__(self):\n",
    "    super().__init__()\n",
    "    layers= [ nn.Linear(3,4), nn.Linear(4,4),nn.Linear(4,1)]\n",
    "    self.layers = nn.Sequential(*layers)\n",
    "  \n",
    "  #We run the input x through the layerssequentially, one by one(Sequential can be used)\n",
    "  def forward(self,x):\n",
    "    out = self.layer1(x)\n",
    "    out = self.layer1(out)\n",
    "    out = self.layer1(out)"
   ]
  },
  {
   "cell_type": "markdown",
   "metadata": {
    "id": "GEwgqkkTOOsY"
   },
   "source": [
    "# Instantiate Our Model\n",
    "\n",
    "We create an instance of our Simple_MLP model by passing it a list of layer sizes. The input layer contains 28*28 = 784 neurons. We define a single hidden layer of size 256, and our output will be the class probabilities for each of the 10 digits (0-9).\n",
    "\n",
    "Since this is a classification task, we will use Cross Entropy Loss. We define our criterion using the torch.nn.CrossEntropyLoss.\n",
    "\n",
    "In order to train our network, we use the torch.optim.SGD optimizer.\n",
    "\n",
    "Note: Model are printed in order defined in\n",
    "\\__init__, and not in order applied in\n",
    "forward()"
   ]
  },
  {
   "cell_type": "code",
   "execution_count": 156,
   "metadata": {
    "colab": {
     "base_uri": "https://localhost:8080/"
    },
    "id": "1u47iUJ4MvXi",
    "outputId": "cec78218-f7a2-4b5b-8996-8df7cc313297"
   },
   "outputs": [
    {
     "name": "stdout",
     "output_type": "stream",
     "text": [
      "Simple_MLP(\n",
      "  (net): Sequential(\n",
      "    (0): Linear(in_features=784, out_features=256, bias=True)\n",
      "    (1): ReLU()\n",
      "    (2): Linear(in_features=256, out_features=10, bias=True)\n",
      "  )\n",
      ")\n"
     ]
    }
   ],
   "source": [
    "model = Simple_MLP([784,256,10])\n",
    "criterion = nn.CrossEntropyLoss()\n",
    "optimizer = optim.Adam(model.parameters())\n",
    "Num_epochs = 5\n",
    "device = torch.device('cuda' if cuda else 'cpu')\n",
    "model.to(device)\n",
    "print(model)\n"
   ]
  },
  {
   "cell_type": "markdown",
   "metadata": {
    "id": "AtlcPn4lQ3dz"
   },
   "source": [
    "models have .train() and .eval() methods.\n",
    "- Before training, you should run model.train() to tell the model to save gradients\n",
    "- When validating or testing, run model.eval() to tell the model it doesn’t need to save gradients (save memory and time).\n",
    "- A common mistake is to forget to toggle back to .train(), then your model doesn’t learn anything."
   ]
  },
  {
   "cell_type": "markdown",
   "metadata": {
    "id": "NWDEEtYaRfr_"
   },
   "source": [
    "What is zero_grad? Every call to .backward() saves gradients for each parameter in the model. However, calling\n",
    "optimizer.step() does not delete these gradients after using them. So, you want to remove them so they don’t interfere\n",
    "with the gradients of the next sample."
   ]
  },
  {
   "cell_type": "markdown",
   "metadata": {
    "id": "nI-oVtYJRnA_"
   },
   "source": [
    " The general order of these steps are\n",
    "crucial.\n",
    "1. We run x through the model.\n",
    "2. We compute the loss.\n",
    "3. We call loss.backward()\n",
    "4. Then we step the optimizer.\n",
    "5. Then, (in this loop or the next), we zero out the\n",
    "gradients."
   ]
  },
  {
   "cell_type": "code",
   "execution_count": 157,
   "metadata": {
    "id": "uM3KLjvGO2Yp"
   },
   "outputs": [],
   "source": [
    "def train_epoch(model, train_loader, criterion, optimizer):\n",
    "    model.train() \n",
    "    running_loss = 0.0\n",
    "    start_time = time.time()\n",
    "    for batch_idx, (data, target) in enumerate(train_loader):   \n",
    "        optimizer.zero_grad()   # .backward() accumulates gradients\n",
    "        data = data.to(device)\n",
    "        target = target.to(device) # all data & model on same device\n",
    "\n",
    "        outputs = model(data)\n",
    "        loss = criterion(outputs, target)\n",
    "        running_loss += loss.item()\n",
    "\n",
    "        loss.backward()\n",
    "        optimizer.step()\n",
    "    \n",
    "    end_time = time.time()\n",
    "    \n",
    "    running_loss /= len(train_loader)\n",
    "    print('Training Loss: ', running_loss, 'Time: ',end_time - start_time, 's')\n",
    "    return running_loss"
   ]
  },
  {
   "cell_type": "code",
   "execution_count": 158,
   "metadata": {
    "id": "cH8Ls3XpTcNL"
   },
   "outputs": [],
   "source": [
    "def test_model(model, test_loader, criterion):\n",
    "    with torch.no_grad():\n",
    "        model.eval()\n",
    "\n",
    "        running_loss = 0.0\n",
    "        total_predictions = 0.0\n",
    "        correct_predictions = 0.0\n",
    "\n",
    "        for batch_idx, (data, target) in enumerate(test_loader):   \n",
    "            data = data.to(device)\n",
    "            target = target.to(device)\n",
    "\n",
    "            outputs = model(data)\n",
    "\n",
    "            _, predicted = torch.max(outputs.data, 1)\n",
    "            total_predictions += target.size(0)\n",
    "            correct_predictions += (predicted == target).sum().item()\n",
    "\n",
    "            loss = criterion(outputs, target).detach()\n",
    "            running_loss += loss.item()\n",
    "\n",
    "\n",
    "        running_loss /= len(test_loader)\n",
    "        acc = (correct_predictions/total_predictions)*100.0\n",
    "        print('Testing Loss: ', running_loss)\n",
    "        print('Testing Accuracy: ', acc, '%')\n",
    "        return running_loss, acc\n"
   ]
  },
  {
   "cell_type": "markdown",
   "metadata": {
    "id": "7MFAGPXmT4dG"
   },
   "source": [
    "# Training the model"
   ]
  },
  {
   "cell_type": "code",
   "execution_count": 159,
   "metadata": {
    "colab": {
     "base_uri": "https://localhost:8080/"
    },
    "id": "8PUOsi7aT0EH",
    "outputId": "a38cac5b-5dec-47db-c9e8-10cc26cbf1fc"
   },
   "outputs": [
    {
     "name": "stdout",
     "output_type": "stream",
     "text": [
      "Training Loss:  0.9557820734825541 Time:  1.9172747135162354 s\n",
      "Testing Loss:  0.20952239017933608\n",
      "Testing Accuracy:  94.08999999999999 %\n",
      "====================\n",
      "Training Loss:  0.1499382362879337 Time:  1.934845209121704 s\n",
      "Testing Loss:  0.15258630063326564\n",
      "Testing Accuracy:  95.78999999999999 %\n",
      "====================\n",
      "Training Loss:  0.09361949961711752 Time:  1.9523296356201172 s\n",
      "Testing Loss:  0.15082006282173097\n",
      "Testing Accuracy:  96.19 %\n",
      "====================\n",
      "Training Loss:  0.06740545097025151 Time:  1.9439733028411865 s\n",
      "Testing Loss:  0.13104691058397294\n",
      "Testing Accuracy:  96.76 %\n",
      "====================\n",
      "Training Loss:  0.05569995420568801 Time:  1.9095709323883057 s\n",
      "Testing Loss:  0.1445394888170995\n",
      "Testing Accuracy:  96.46000000000001 %\n",
      "====================\n",
      "Training Loss:  0.054589740918117004 Time:  2.053483486175537 s\n",
      "Testing Loss:  0.12784136377158575\n",
      "Testing Accuracy:  96.78 %\n",
      "====================\n",
      "Training Loss:  0.054291651154214395 Time:  1.8856046199798584 s\n",
      "Testing Loss:  0.12972085422152305\n",
      "Testing Accuracy:  97.02 %\n",
      "====================\n",
      "Training Loss:  0.046950539016224285 Time:  1.903904676437378 s\n",
      "Testing Loss:  0.1563839247452961\n",
      "Testing Accuracy:  96.92 %\n",
      "====================\n",
      "Training Loss:  0.04592765375099918 Time:  1.9093592166900635 s\n",
      "Testing Loss:  0.15404856810928322\n",
      "Testing Accuracy:  97.02 %\n",
      "====================\n",
      "Training Loss:  0.05606211919060096 Time:  2.0569639205932617 s\n",
      "Testing Loss:  0.17613441784815223\n",
      "Testing Accuracy:  96.66 %\n",
      "====================\n"
     ]
    }
   ],
   "source": [
    "n_epochs = 10\n",
    "Train_loss = []\n",
    "Test_loss = []\n",
    "Test_acc = []\n",
    "\n",
    "for i in range(n_epochs):\n",
    "    train_loss = train_epoch(model, train_loader, criterion, optimizer)\n",
    "    test_loss, test_acc = test_model(model, test_loader, criterion)\n",
    "    Train_loss.append(train_loss)\n",
    "    Test_loss.append(test_loss)\n",
    "    Test_acc.append(test_acc)\n",
    "    print('='*20)"
   ]
  },
  {
   "cell_type": "code",
   "execution_count": 160,
   "metadata": {
    "colab": {
     "base_uri": "https://localhost:8080/"
    },
    "id": "A5e1ZLIHVXFt",
    "outputId": "45627bda-1d0d-4a8a-85ba-852b64c563c4"
   },
   "outputs": [
    {
     "name": "stdout",
     "output_type": "stream",
     "text": [
      "Mon Nov 23 05:11:01 2020       \n",
      "+-----------------------------------------------------------------------------+\n",
      "| NVIDIA-SMI 455.38       Driver Version: 418.67       CUDA Version: 10.1     |\n",
      "|-------------------------------+----------------------+----------------------+\n",
      "| GPU  Name        Persistence-M| Bus-Id        Disp.A | Volatile Uncorr. ECC |\n",
      "| Fan  Temp  Perf  Pwr:Usage/Cap|         Memory-Usage | GPU-Util  Compute M. |\n",
      "|                               |                      |               MIG M. |\n",
      "|===============================+======================+======================|\n",
      "|   0  Tesla T4            Off  | 00000000:00:04.0 Off |                    0 |\n",
      "| N/A   73C    P0    32W /  70W |    959MiB / 15079MiB |      1%      Default |\n",
      "|                               |                      |                 ERR! |\n",
      "+-------------------------------+----------------------+----------------------+\n",
      "                                                                               \n",
      "+-----------------------------------------------------------------------------+\n",
      "| Processes:                                                                  |\n",
      "|  GPU   GI   CI        PID   Type   Process name                  GPU Memory |\n",
      "|        ID   ID                                                   Usage      |\n",
      "|=============================================================================|\n",
      "|  No running processes found                                                 |\n",
      "+-----------------------------------------------------------------------------+\n"
     ]
    }
   ],
   "source": [
    "!nvidia-smi"
   ]
  },
  {
   "cell_type": "markdown",
   "metadata": {
    "id": "4q09L0KTV3NK"
   },
   "source": [
    "## Train Loss"
   ]
  },
  {
   "cell_type": "code",
   "execution_count": 161,
   "metadata": {
    "colab": {
     "base_uri": "https://localhost:8080/",
     "height": 312
    },
    "id": "3P2YKDYhVhAf",
    "outputId": "9ac4cfe4-c3ee-430a-e0f2-93a31cd95dae"
   },
   "outputs": [
    {
     "data": {
      "text/plain": [
       "[<matplotlib.lines.Line2D at 0x7fd0161c02e8>]"
      ]
     },
     "execution_count": 161,
     "metadata": {
      "tags": []
     },
     "output_type": "execute_result"
    },
    {
     "data": {
      "image/png": "[encoded data removed]",
      "text/plain": [
       "<Figure size 432x288 with 1 Axes>"
      ]
     },
     "metadata": {
      "needs_background": "light",
      "tags": []
     },
     "output_type": "display_data"
    }
   ],
   "source": [
    "plt.title('Training Loss')\n",
    "plt.xlabel('Epoch Number')\n",
    "plt.ylabel('Loss')\n",
    "plt.plot(Train_loss)"
   ]
  },
  {
   "cell_type": "markdown",
   "metadata": {
    "id": "WF638kQEV6fv"
   },
   "source": [
    "# Test Loss"
   ]
  },
  {
   "cell_type": "code",
   "execution_count": 162,
   "metadata": {
    "colab": {
     "base_uri": "https://localhost:8080/",
     "height": 312
    },
    "id": "HcyYeGRsV5Q2",
    "outputId": "838ec484-c999-4913-f9f6-ec84eebb9551"
   },
   "outputs": [
    {
     "data": {
      "text/plain": [
       "[<matplotlib.lines.Line2D at 0x7fd0161c07f0>]"
      ]
     },
     "execution_count": 162,
     "metadata": {
      "tags": []
     },
     "output_type": "execute_result"
    },
    {
     "data": {
      "image/png": "[encoded data removed]",
      "text/plain": [
       "<Figure size 432x288 with 1 Axes>"
      ]
     },
     "metadata": {
      "needs_background": "light",
      "tags": []
     },
     "output_type": "display_data"
    }
   ],
   "source": [
    "plt.title('Test Loss')\n",
    "plt.xlabel('Epoch Number')\n",
    "plt.ylabel('Loss')\n",
    "plt.plot(Test_loss)\n"
   ]
  },
  {
   "cell_type": "markdown",
   "metadata": {
    "id": "_tQNabZxWDHf"
   },
   "source": [
    "# Test Accuracy\n"
   ]
  },
  {
   "cell_type": "code",
   "execution_count": 163,
   "metadata": {
    "colab": {
     "base_uri": "https://localhost:8080/",
     "height": 312
    },
    "id": "GWf3TEMQV_DB",
    "outputId": "c35510b7-ead1-438b-935b-b5cb07ce2a3f"
   },
   "outputs": [
    {
     "data": {
      "text/plain": [
       "[<matplotlib.lines.Line2D at 0x7fd0161c0668>]"
      ]
     },
     "execution_count": 163,
     "metadata": {
      "tags": []
     },
     "output_type": "execute_result"
    },
    {
     "data": {
      "image/png": "[encoded data removed]",
      "text/plain": [
       "<Figure size 432x288 with 1 Axes>"
      ]
     },
     "metadata": {
      "needs_background": "light",
      "tags": []
     },
     "output_type": "display_data"
    }
   ],
   "source": [
    "plt.title('Test Accuracy')\n",
    "plt.xlabel('Epoch Number')\n",
    "plt.ylabel('Accuracy (%)')\n",
    "plt.plot(Test_acc)"
   ]
  },
  {
   "cell_type": "code",
   "execution_count": 164,
   "metadata": {
    "colab": {
     "base_uri": "https://localhost:8080/",
     "height": 155
    },
    "id": "ZfN68DRIe3dx",
    "outputId": "2e33603a-4bc6-41a4-c7ff-be9f5579be57"
   },
   "outputs": [
    {
     "name": "stderr",
     "output_type": "stream",
     "text": [
      "Clipping input data to the valid range for imshow with RGB data ([0..1] for floats or [0..255] for integers).\n"
     ]
    },
    {
     "name": "stdout",
     "output_type": "stream",
     "text": [
      "       7        2        1        0        4\n"
     ]
    },
    {
     "data": {
      "image/png": "[encoded data removed]",
      "text/plain": [
       "<Figure size 432x288 with 1 Axes>"
      ]
     },
     "metadata": {
      "needs_background": "light",
      "tags": []
     },
     "output_type": "display_data"
    }
   ],
   "source": [
    "dataiter = iter(test_loader)\n",
    "images, labels = dataiter.next()\n",
    "images = torch.reshape(images,(256,1,28,28))\n",
    "im = torchvision.utils.make_grid(images[:5])\n",
    "plt.imshow(np.transpose(im.numpy(), (1, 2, 0)))\n",
    "print(' '.join('%8s' % labels[j].item() for j in range(5)))"
   ]
  },
  {
   "cell_type": "code",
   "execution_count": 176,
   "metadata": {
    "colab": {
     "base_uri": "https://localhost:8080/",
     "height": 155
    },
    "id": "uG2aTOg-hEry",
    "outputId": "24632cf4-f418-4fe0-f781-f941326bc253"
   },
   "outputs": [
    {
     "name": "stderr",
     "output_type": "stream",
     "text": [
      "Clipping input data to the valid range for imshow with RGB data ([0..1] for floats or [0..255] for integers).\n"
     ]
    },
    {
     "data": {
      "text/plain": [
       "<matplotlib.image.AxesImage at 0x7fd016432e10>"
      ]
     },
     "execution_count": 176,
     "metadata": {
      "tags": []
     },
     "output_type": "execute_result"
    },
    {
     "data": {
      "image/png": "[encoded data removed]",
      "text/plain": [
       "<Figure size 432x288 with 1 Axes>"
      ]
     },
     "metadata": {
      "needs_background": "light",
      "tags": []
     },
     "output_type": "display_data"
    }
   ],
   "source": [
    "dataiter = iter(test_loader)\n",
    "images, labels = dataiter.next()\n",
    "outputs = model(images[:5].detach().to(device))\n",
    "images = torch.reshape(images,(-1,1,28,28))\n",
    "im = torchvision.utils.make_grid(images[:5])\n",
    "# print images\n",
    "plt.imshow(np.transpose(im.numpy(), (1, 2, 0)))\n"
   ]
  },
  {
   "cell_type": "code",
   "execution_count": 180,
   "metadata": {
    "colab": {
     "base_uri": "https://localhost:8080/"
    },
    "id": "DlYVA4zmiCvC",
    "outputId": "06ac96d9-f2df-451c-c959-be4b2f3d13af"
   },
   "outputs": [
    {
     "name": "stdout",
     "output_type": "stream",
     "text": [
      "GroundTruth:     7    2    1    0    4\n",
      "Predicted:      7     2     1     0     4\n"
     ]
    }
   ],
   "source": [
    "print('GroundTruth: ', ' '.join('%4s' % labels[j].item() for j in range(5)))\n",
    "\n",
    "_, predicted = torch.max(outputs, 1)\n",
    "\n",
    "print('Predicted: ', ' '.join('%5s' % predicted[j].item()\n",
    "                              for j in range(5)))"
   ]
  },
  {
   "cell_type": "code",
   "execution_count": null,
   "metadata": {
    "id": "3Buy13hzjLdG"
   },
   "outputs": [],
   "source": []
  }
 ],
 "metadata": {
  "accelerator": "GPU",
  "colab": {
   "name": "example_pytorch_MLP_Mnist.ipynb",
   "provenance": []
  },
  "kernelspec": {
   "display_name": "Python 3",
   "language": "python",
   "name": "python3"
  },
  "language_info": {
   "codemirror_mode": {
    "name": "ipython",
    "version": 3
   },
   "file_extension": ".py",
   "mimetype": "text/x-python",
   "name": "python",
   "nbconvert_exporter": "python",
   "pygments_lexer": "ipython3",
   "version": "3.7.9"
  }
 },
 "nbformat": 4,
 "nbformat_minor": 1
}
