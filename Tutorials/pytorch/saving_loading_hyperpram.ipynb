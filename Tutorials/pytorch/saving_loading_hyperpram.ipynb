{
 "cells": [
  {
   "cell_type": "code",
   "execution_count": 1,
   "metadata": {},
   "outputs": [],
   "source": [
    "import torch\n",
    "import torch.nn as nn\n",
    "import torch.nn.functional as F\n",
    "import torchvision\n",
    "from torchvision import transforms, datasets, models\n",
    "import numpy as np\n",
    "import matplotlib.pyplot as plt\n",
    "from torch.autograd import Variable\n",
    "from torch.utils import data\n",
    "from collections import namedtuple\n",
    "from IPython.display import Image\n",
    "import time\n",
    "%matplotlib inline\n",
    "np.random.seed(2020)\n",
    "device = torch.device(\"cuda\" if torch.cuda.is_available() else \"cpu\")\n"
   ]
  },
  {
   "cell_type": "code",
   "execution_count": 2,
   "metadata": {},
   "outputs": [],
   "source": [
    "batch_size = 256\n",
    "transform = transforms.Compose(\n",
    "    [transforms.ToTensor(),\n",
    "#      transforms.Normalize((0.1307,), (0.3081,))\n",
    "    ])\n",
    "\n",
    "train_data = datasets.MNIST(root='./data', train=True,\n",
    "                                        download=True, transform=transform)\n",
    "test_data = datasets.MNIST(root='./data', train=False,\n",
    "                                     download=True, transform=transform)"
   ]
  },
  {
   "cell_type": "code",
   "execution_count": 3,
   "metadata": {},
   "outputs": [],
   "source": [
    "class MyDataset(data.Dataset):\n",
    "    def __init__(self,X,Y):\n",
    "        self.X = X\n",
    "        self.Y = Y\n",
    "\n",
    "    def __len__(self):\n",
    "        return len(self.Y)\n",
    "  \n",
    "    def __getitem__(self,index):\n",
    "        X = self.X[index].float().flatten()\n",
    "        Y = self.Y[index].long()\n",
    "        return X,Y"
   ]
  },
  {
   "cell_type": "code",
   "execution_count": 4,
   "metadata": {},
   "outputs": [],
   "source": [
    "hyper = {\n",
    "        \"nEpochs\":15,\n",
    "        \"lr\":0.001,\n",
    "        \"lr_decayRate\":0.0,\n",
    "        \"randomSeed\":2020,\n",
    "        \"batchSize\":256,\n",
    "        \"dataPath\":'./data',\n",
    "        \"weightDirName\": './checkpoint/',\n",
    "        \"hiddenDims\": [256],\n",
    "        \"checkpointPath\":\"./checkpoint/optimContDecreaseCont_Epoch_14_v1.txt\"\n",
    "    }"
   ]
  },
  {
   "cell_type": "code",
   "execution_count": 5,
   "metadata": {},
   "outputs": [],
   "source": [
    "datapath = hyper['dataPath']\n",
    "weightDirName = hyper[\"weightDirName\"]\n",
    "cuda = torch.cuda.is_available()\n",
    "num_workers = 8 if cuda else 0 \n",
    "nEpochs = hyper[\"nEpochs\"]"
   ]
  },
  {
   "cell_type": "code",
   "execution_count": 6,
   "metadata": {},
   "outputs": [],
   "source": [
    "\n",
    "train_size = train_data.data.shape[0]\n",
    "val_size, train_size = int(0.20 * train_size), int(0.80 * train_size) # 80 / 20 train-val split\n",
    "test_size = test_data.data.shape[0]\n",
    "Metric = namedtuple('Metric', ['train_loss', 'train_error', 'val_error', 'val_loss'])\n",
    "train_dataset = MyDataset(train_data.data,train_data.targets)\n",
    "trainloader = data.DataLoader(train_dataset, batch_size=batch_size,\n",
    "                                          num_workers=0, \n",
    "                                          sampler=data.sampler.SubsetRandomSampler(np.arange(val_size, val_size+train_size))\n",
    "                                         )\n",
    "\n",
    "valloader = data.DataLoader(train_dataset, batch_size=batch_size,\n",
    "                                        num_workers=0, \n",
    "                                        sampler=data.sampler.SubsetRandomSampler(np.arange(0, val_size))\n",
    "                                         )\n",
    "test_dataset = MyDataset(test_data.data,test_data.targets)\n",
    "testloader = data.DataLoader(test_dataset, batch_size=batch_size,\n",
    "                                         shuffle=False, \n",
    "                                         num_workers=0\n",
    "                                        )\n"
   ]
  },
  {
   "cell_type": "code",
   "execution_count": 7,
   "metadata": {},
   "outputs": [
    {
     "name": "stderr",
     "output_type": "stream",
     "text": [
      "Clipping input data to the valid range for imshow with RGB data ([0..1] for floats or [0..255] for integers).\n"
     ]
    },
    {
     "name": "stdout",
     "output_type": "stream",
     "text": [
      "       5        4        3        8        6\n"
     ]
    },
    {
     "data": {
      "image/png": "[encoded data removed]",
      "text/plain": [
       "<Figure size 432x288 with 1 Axes>"
      ]
     },
     "metadata": {
      "needs_background": "light"
     },
     "output_type": "display_data"
    }
   ],
   "source": [
    "dataiter = iter(valloader)\n",
    "images,labels = dataiter.next()\n",
    "images = torch.reshape(images,(-1,1,28,28))\n",
    "im = torchvision.utils.make_grid(images[:5])\n",
    "plt.imshow(np.transpose(im.numpy(), (1, 2, 0)))\n",
    "print(' '.join('%8s' % labels[j].item() for j in range(5)))"
   ]
  },
  {
   "cell_type": "code",
   "execution_count": 8,
   "metadata": {},
   "outputs": [],
   "source": [
    "class Simple_MLP(nn.Module):\n",
    "    def __init__(self, size_list):\n",
    "        super(Simple_MLP, self).__init__()\n",
    "        layers = []\n",
    "        self.size_list = size_list\n",
    "        for i in range(len(size_list) - 2):\n",
    "            layers.append(nn.Linear(size_list[i],size_list[i+1]))\n",
    "            layers.append(nn.ReLU())\n",
    "        layers.append(nn.Linear(size_list[-2], size_list[-1]))\n",
    "        self.net = nn.Sequential(*layers)\n",
    "        #self.layers = nn.ModuleList(layers)\n",
    "\n",
    "    def forward(self, x):\n",
    "        return self.net(x)"
   ]
  },
  {
   "cell_type": "code",
   "execution_count": 9,
   "metadata": {},
   "outputs": [],
   "source": [
    "def one_epoch(epoch, net, loader, optimizer):\n",
    "    net.train()\n",
    "    running_loss = 0.0\n",
    "    n = 0\n",
    "    correct = 0\n",
    "    total = 0\n",
    "    start_time = time.time()\n",
    "    for i, data in enumerate(loader):\n",
    "        # get the inputs; data is a list of [inputs, labels]\n",
    "        inputs, labels = data\n",
    "        inputs = inputs.to(device)\n",
    "        labels = labels.to(device)\n",
    "        # zero the parameter gradients\n",
    "        optimizer.zero_grad()\n",
    "        # forward + backward + optimize\n",
    "        outputs = net(inputs)\n",
    "        loss = F.cross_entropy(outputs, labels)\n",
    "        running_loss += loss.item()\n",
    "        loss.backward()\n",
    "        optimizer.step()\n",
    "        _, predicted = torch.max(outputs.data, 1)\n",
    "        total += labels.size(0)\n",
    "        correct += (predicted == labels).sum().item()\n",
    "        #if i % 100 == 99:\n",
    "        #    print(f\"\\nFinished batch {i} of {train_size/batch_size} \\t Timestamp: {time.time() - start_time}\")\n",
    "        # print statistics\n",
    "    avg_loss = running_loss / total\n",
    "    acc = correct / total *100\n",
    "    end_time = time.time()\n",
    "    print('Training Loss: %.8f \\t Time: {%.3f}s'%(avg_loss, end_time - start_time))\n",
    "    return avg_loss, acc\n",
    "\n",
    "def train_step(net, loader, dev_loader, optimizer, scheduler, epochs):\n",
    "    net.train()\n",
    "    train_losses = []\n",
    "    valid_losses = []\n",
    "    valid_acc = []\n",
    "    for epoch in range(epochs):  # loop over the dataset multiple times\n",
    "        avg_loss_t, acc_t = one_epoch(epoch, net, loader, optimizer)\n",
    "        avg_loss_v, acc_v = infer(net, dev_loader)\n",
    "        scheduler.step()\n",
    "        if epoch % 5 == 4:\n",
    "            print('Epoch [%d], loss: %.8f, acc: %.4f' %\n",
    "                  (epoch + 1, avg_loss_t, acc_t))\n",
    "            print('[valid] loss: %.8f, acc: %.4f' % (avg_loss_v, acc_v))\n",
    "            #print(\"lr: {}\".format(optimizer.param_groups[0]['lr']))\n",
    "            \n",
    "        train_losses.append(avg_loss_t)\n",
    "        valid_losses.append(avg_loss_v)\n",
    "        valid_acc.append(acc_v)\n",
    "        print('='*20)\n",
    "        print(\"*** Saving Checkpoint ***\")\n",
    "        path = \"{}optimContDecreaseCont_Epoch_{}_v1.txt\".format(weightDirName, str(epoch))\n",
    "        torch.save({\n",
    "            'epoch': epoch,\n",
    "            'model_state_dict': net.state_dict(),\n",
    "            'optimizer_state_dict': optimizer.state_dict(),\n",
    "            'train_loss': train_losses,\n",
    "            'dev_loss':valid_losses,\n",
    "            'dev_acc': valid_acc\n",
    "        }, path)\n",
    "        \n",
    "    return train_losses, valid_losses\n",
    "\n",
    "def train(net, loader, dev_loader, optimizer, epochs):\n",
    "    net.train()\n",
    "    train_losses = []\n",
    "    valid_losses = []\n",
    "    valid_acc = []\n",
    "    for epoch in range(epochs):  # loop over the dataset multiple times\n",
    "        avg_loss_t, acc_t = one_epoch(epoch, net, loader, optimizer)\n",
    "        avg_loss_v, acc_v = infer(net, dev_loader)\n",
    "        #scheduler.step()\n",
    "        if epoch % 5 == 4:\n",
    "            print('Epoch [%d], loss: %.8f, acc: %.4f' %\n",
    "                  (epoch + 1, avg_loss_t, acc_t))\n",
    "            print('[valid] loss: %.8f, acc: %.4f' % (avg_loss_v, acc_v))\n",
    "            #print(\"lr: {}\".format(optimizer.param_groups[0]['lr']))\n",
    "            \n",
    "        train_losses.append(avg_loss_t)\n",
    "        valid_losses.append(avg_loss_v)\n",
    "        valid_acc.append(acc_v)\n",
    "        print('='*20)\n",
    "        print(\"*** Saving Checkpoint ***\")\n",
    "        path = \"{}optimContDecreaseCont_Epoch_{}_v1.txt\".format(weightDirName, str(epoch))\n",
    "        \n",
    "        torch.save({\n",
    "            'epoch': epoch,\n",
    "            'model_state_dict': net.state_dict(),\n",
    "            'optimizer_state_dict': optimizer.state_dict(),\n",
    "            'train_loss': train_losses,\n",
    "            'dev_loss':valid_losses,\n",
    "            'dev_acc': valid_acc\n",
    "        }, path)\n",
    "        \n",
    "    return train_losses, valid_losses\n",
    "\n",
    "def infer(net, loader):\n",
    "    net.eval()\n",
    "    running_loss = 0.0\n",
    "    n = 0\n",
    "    correct = 0\n",
    "    total = 0\n",
    "    start_time = time.time()\n",
    "    with torch.no_grad():\n",
    "        for i, data in enumerate(loader):\n",
    "            # get the inputs; data is a list of [inputs, labels]\n",
    "            inputs, labels = data\n",
    "            inputs = inputs.to(device)\n",
    "            labels = labels.to(device)\n",
    "            # zero the parameter gradients\n",
    "            # forward + backward + optimize\n",
    "            outputs = net(inputs)\n",
    "            loss = F.cross_entropy(outputs, labels)\n",
    "            running_loss += loss.item()\n",
    "            _, predicted = torch.max(outputs.data, 1)\n",
    "            total += labels.size(0)\n",
    "            correct += (predicted == labels).sum().item()\n",
    "            #if i % 100 == 99:\n",
    "            #    print(f\"\\n(Eval)Finished batch{i} of {val_size/batch_size} \\t Timestamp: {time.time() - start_time}\")\n",
    "\n",
    "    acc = correct / total * 100\n",
    "    avg_loss = running_loss / total\n",
    "    end_time = time.time()\n",
    "    print('Testing Loss: ', avg_loss)\n",
    "    print('Testing Accuracy: %.4f'%(acc))\n",
    "    return avg_loss, acc\n",
    "\n",
    "### VISUALIZATION ###\n",
    "def training_plot(loss_t, val_t,val_acc):\n",
    "    print(\"*** Visualization***\")\n",
    "    plt.title('Training Loss')\n",
    "    plt.xlabel('Epoch Number')\n",
    "    plt.ylabel('Loss')\n",
    "    plt.plot(loss_t)\n",
    "    plt.savefig(\"train_loss.png\")\n",
    "    \n",
    "    plt.title('Dev Accuracy')\n",
    "    plt.xlabel('Epoch Number')\n",
    "    plt.ylabel('Accuracy (%)')\n",
    "    plt.plot(val_acc)\n",
    "    plt.savefig(\"val_loss.png\")\n",
    "    \n",
    "    \n",
    "    plt.figure(1)\n",
    "    plt.plot(loss_t, 'b', label=\"train\")\n",
    "    plt.plot(val_t, 'g', label=\"valid\")\n",
    "    plt.title('Training/Valid Loss')\n",
    "    plt.legend()\n",
    "    "
   ]
  },
  {
   "cell_type": "code",
   "execution_count": 10,
   "metadata": {},
   "outputs": [],
   "source": [
    "# Xavier\n",
    "def init_xavier(m):\n",
    "    if type(m) == nn.Linear:\n",
    "        fan_in = m.weight.size()[1]\n",
    "        fan_out = m.weight.size()[0]\n",
    "        std = np.sqrt(2.0 / (fan_in + fan_out))\n",
    "        m.weight.data.normal_(0,std)\n"
   ]
  },
  {
   "cell_type": "code",
   "execution_count": 11,
   "metadata": {
    "scrolled": false
   },
   "outputs": [
    {
     "name": "stdout",
     "output_type": "stream",
     "text": [
      "Simple_MLP(\n",
      "  (net): Sequential(\n",
      "    (0): Linear(in_features=784, out_features=256, bias=True)\n",
      "    (1): ReLU()\n",
      "    (2): Linear(in_features=256, out_features=10, bias=True)\n",
      "  )\n",
      ")\n",
      "Training Loss: 0.02972084 \t Time: {3.951}s\n",
      "Testing Loss:  0.008709044605493545\n",
      "Testing Accuracy: 92.3750\n",
      "====================\n",
      "*** Saving Checkpoint ***\n",
      "Training Loss: 0.00519657 \t Time: {7.507}s\n",
      "Testing Loss:  0.004899619782964389\n",
      "Testing Accuracy: 94.0500\n",
      "====================\n",
      "*** Saving Checkpoint ***\n",
      "Training Loss: 0.00270151 \t Time: {7.682}s\n",
      "Testing Loss:  0.004188226747016112\n",
      "Testing Accuracy: 94.4417\n",
      "====================\n",
      "*** Saving Checkpoint ***\n",
      "Training Loss: 0.00170866 \t Time: {7.971}s\n",
      "Testing Loss:  0.003450459219515324\n",
      "Testing Accuracy: 95.3000\n",
      "====================\n",
      "*** Saving Checkpoint ***\n",
      "Training Loss: 0.00101663 \t Time: {7.851}s\n",
      "Testing Loss:  0.0032528403451045356\n",
      "Testing Accuracy: 95.4750\n",
      "Epoch [5], loss: 0.00101663, acc: 97.5938\n",
      "[valid] loss: 0.00325284, acc: 95.4750\n",
      "====================\n",
      "*** Saving Checkpoint ***\n",
      "Training Loss: 0.00074568 \t Time: {7.978}s\n",
      "Testing Loss:  0.003175441468755404\n",
      "Testing Accuracy: 95.2000\n",
      "====================\n",
      "*** Saving Checkpoint ***\n",
      "Training Loss: 0.00066396 \t Time: {7.518}s\n",
      "Testing Loss:  0.0032298011009891828\n",
      "Testing Accuracy: 95.5833\n",
      "====================\n",
      "*** Saving Checkpoint ***\n",
      "Training Loss: 0.00052695 \t Time: {7.642}s\n",
      "Testing Loss:  0.002949877969920635\n",
      "Testing Accuracy: 95.9250\n",
      "====================\n",
      "*** Saving Checkpoint ***\n",
      "Training Loss: 0.00040291 \t Time: {7.915}s\n",
      "Testing Loss:  0.002654423085972667\n",
      "Testing Accuracy: 96.3750\n",
      "====================\n",
      "*** Saving Checkpoint ***\n",
      "Training Loss: 0.00050811 \t Time: {7.568}s\n",
      "Testing Loss:  0.002807760941485564\n",
      "Testing Accuracy: 96.0417\n",
      "Epoch [10], loss: 0.00050811, acc: 98.4896\n",
      "[valid] loss: 0.00280776, acc: 96.0417\n",
      "====================\n",
      "*** Saving Checkpoint ***\n",
      "Training Loss: 0.00043718 \t Time: {7.512}s\n",
      "Testing Loss:  0.0029530735711256664\n",
      "Testing Accuracy: 95.7333\n",
      "====================\n",
      "*** Saving Checkpoint ***\n",
      "Training Loss: 0.00042139 \t Time: {7.790}s\n",
      "Testing Loss:  0.002701101504266262\n",
      "Testing Accuracy: 96.2583\n",
      "====================\n",
      "*** Saving Checkpoint ***\n",
      "Training Loss: 0.00038278 \t Time: {7.552}s\n",
      "Testing Loss:  0.002845135860145092\n",
      "Testing Accuracy: 96.2333\n",
      "====================\n",
      "*** Saving Checkpoint ***\n",
      "Training Loss: 0.00044983 \t Time: {7.490}s\n",
      "Testing Loss:  0.0030001218129570286\n",
      "Testing Accuracy: 96.2250\n",
      "====================\n",
      "*** Saving Checkpoint ***\n",
      "Training Loss: 0.00048254 \t Time: {7.847}s\n",
      "Testing Loss:  0.002806514276812474\n",
      "Testing Accuracy: 96.1500\n",
      "Epoch [15], loss: 0.00048254, acc: 98.6625\n",
      "[valid] loss: 0.00280651, acc: 96.1500\n",
      "====================\n",
      "*** Saving Checkpoint ***\n",
      "Testing Loss:  0.002749179941415787\n",
      "Testing Accuracy: 96.1300\n",
      "*** Visualization***\n"
     ]
    },
    {
     "data": {
      "image/png": "[encoded data removed]",
      "text/plain": [
       "<Figure size 432x288 with 1 Axes>"
      ]
     },
     "metadata": {
      "needs_background": "light"
     },
     "output_type": "display_data"
    }
   ],
   "source": [
    "input_size = 784 ## 28*28 image flattened for MLP\n",
    "output_size = 10 ## 0-9 digits \n",
    "model = Simple_MLP([input_size] + hyper[\"hiddenDims\"] + [output_size])\n",
    "#checkpoint = torch.load(hyper[\"checkpointPath\"])\n",
    "#model.load_state_dict(checkpoint[\"model_state_dict\"])\n",
    "model.to(device)\n",
    "model.apply(init_xavier)\n",
    "AdamOptimizer = torch.optim.Adam(model.parameters(),lr=hyper[\"lr\"])\n",
    "#scheduler = torch.optim.lr_scheduler.StepLR(AdamOptimizer, step_size=33, gamma=0.5)\n",
    "print(model)\n",
    "\n",
    "#train_losses, valid_losses = train_step(model, trainloader, valloader, AdamOptimizer,scheduler, nEpochs)\n",
    "train_losses, valid_losses = train(model, trainloader, valloader, AdamOptimizer, nEpochs)\n",
    "test_loss, acc_test = infer(model, testloader)\n",
    "#print(\"Final TEST SCORE: loss: {} acc: {}\".format(test_loss, acc_test))\n",
    "training_plot(train_losses, valid_losses,acc_test)\n"
   ]
  },
  {
   "cell_type": "code",
   "execution_count": 12,
   "metadata": {},
   "outputs": [
    {
     "data": {
      "text/plain": [
       "<All keys matched successfully>"
      ]
     },
     "execution_count": 12,
     "metadata": {},
     "output_type": "execute_result"
    }
   ],
   "source": [
    "checkpoint = torch.load(hyper[\"checkpointPath\"])\n",
    "model.load_state_dict(checkpoint[\"model_state_dict\"])"
   ]
  },
  {
   "cell_type": "code",
   "execution_count": 13,
   "metadata": {},
   "outputs": [
    {
     "data": {
      "text/plain": [
       "96.15"
      ]
     },
     "execution_count": 13,
     "metadata": {},
     "output_type": "execute_result"
    }
   ],
   "source": [
    "checkpoint['dev_acc'][-1]"
   ]
  },
  {
   "cell_type": "code",
   "execution_count": null,
   "metadata": {},
   "outputs": [],
   "source": []
  }
 ],
 "metadata": {
  "kernelspec": {
   "display_name": "Python 3",
   "language": "python",
   "name": "python3"
  },
  "language_info": {
   "codemirror_mode": {
    "name": "ipython",
    "version": 3
   },
   "file_extension": ".py",
   "mimetype": "text/x-python",
   "name": "python",
   "nbconvert_exporter": "python",
   "pygments_lexer": "ipython3",
   "version": "3.7.9"
  }
 },
 "nbformat": 4,
 "nbformat_minor": 4
}
