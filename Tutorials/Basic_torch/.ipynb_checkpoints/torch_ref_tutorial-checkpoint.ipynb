{
 "cells": [
  {
   "cell_type": "code",
   "execution_count": 1,
   "metadata": {},
   "outputs": [],
   "source": [
    "#pip install torch torchvision"
   ]
  },
  {
   "cell_type": "markdown",
   "metadata": {},
   "source": [
    "### Compare with Numpy "
   ]
  },
  {
   "cell_type": "code",
   "execution_count": 3,
   "metadata": {},
   "outputs": [],
   "source": [
    "import torch\n",
    "import numpy as np"
   ]
  },
  {
   "cell_type": "markdown",
   "metadata": {},
   "source": [
    "### Initialize"
   ]
  },
  {
   "cell_type": "code",
   "execution_count": 7,
   "metadata": {},
   "outputs": [
    {
     "name": "stdout",
     "output_type": "stream",
     "text": [
      "Initialize Directly:\n",
      "tensor([1, 2, 3, 4])\n",
      "tensor([1, 2, 3, 4], dtype=torch.int32)\n",
      "\n",
      "\n",
      "Type of arr1: <class 'torch.Tensor'>\n",
      "\n",
      "Initialize nparray with data type: tensor([1., 2., 3.])\n",
      "Initialize nparray with Same type: tensor([1., 2., 3.])\n"
     ]
    }
   ],
   "source": [
    "# Initialize Directly\n",
    "t1 = torch.tensor([1,2,3,4]) # from python list\n",
    "t2 = torch.tensor(np.array([1,2,3,4])) # from numpy array\n",
    "print(f'Initialize Directly:\\n{t1}\\n{t2}\\n')\n",
    "\n",
    "#Check Type of a data structure\n",
    "print(f'\\nType of arr1: {type(t1)}\\n')\n",
    "\n",
    "#Initialize nparray with data type\n",
    "print(f'Initialize nparray with data type: {torch.tensor([1,2,3],dtype=torch.float)}') \n",
    "\n",
    "#Initialize nparray as float\n",
    "print(f'Initialize nparray with Same type: {torch.tensor([1.,2,3])}') "
   ]
  },
  {
   "cell_type": "markdown",
   "metadata": {},
   "source": [
    "### Generate"
   ]
  },
  {
   "cell_type": "code",
   "execution_count": 11,
   "metadata": {},
   "outputs": [
    {
     "name": "stdout",
     "output_type": "stream",
     "text": [
      "Initialize Zeros: \n",
      "tensor([[0., 0., 0.],\n",
      "        [0., 0., 0.]])\n",
      "\n",
      "Initialize Ones: \n",
      "tensor([[1., 1., 1.],\n",
      "        [1., 1., 1.]])\n",
      "\n",
      "Random int with range 2-10 and size (2,3):\n",
      " tensor([[2, 5, 7],\n",
      "        [6, 7, 9]])\n",
      "\n",
      "Initialize Identity Matrix: \n",
      "tensor([[1., 0., 0.],\n",
      "        [0., 1., 0.],\n",
      "        [0., 0., 1.]])\n",
      "\n",
      " Standard Normally distributed N(0,1) numbers of size (2,4,5):\n",
      " tensor([[[0.4895, 0.5677, 0.4622, 0.6719, 0.2694],\n",
      "         [0.5358, 0.6087, 0.2552, 0.3818, 0.9457],\n",
      "         [0.1450, 0.4669, 0.2059, 0.3943, 0.1973],\n",
      "         [0.8918, 0.1149, 0.3374, 0.0012, 0.2494]],\n",
      "\n",
      "        [[0.4323, 0.3398, 0.3363, 0.7495, 0.8430],\n",
      "         [0.9092, 0.4651, 0.1207, 0.4188, 0.9716],\n",
      "         [0.1617, 0.2279, 0.1208, 0.3436, 0.3333],\n",
      "         [0.1010, 0.7890, 0.3359, 0.0663, 0.2908]]])\n"
     ]
    }
   ],
   "source": [
    "# Initialize a zeros nparray \n",
    "print(f'Initialize Zeros: \\n{torch.zeros((2,3))}\\n') # Note the argument is shape so double brackets\n",
    "\n",
    "# Initialize a Ones nparray \n",
    "print(f'Initialize Ones: \\n{torch.ones((2,3),dtype=torch.float)}\\n') # Note the argument is shape so double brackets\n",
    "\n",
    "# Random int with range 2-10 and size (2,3)\n",
    "print(f'Random int with range 2-10 and size (2,3):\\n {torch.randint(2,10,size=(2,3))}\\n') \n",
    "\n",
    "# Initialize the Identity Matrix\n",
    "print(f'Initialize Identity Matrix: \\n{torch.eye(3,3)}\\n')\n",
    "\n",
    "# Standard Normally distributed N(0,1) numbers of size (2,4,5)\n",
    "print(f' Standard Normally distributed N(0,1) numbers of size (2,4,5):\\n {torch.rand(2,4,5)}')"
   ]
  },
  {
   "cell_type": "code",
   "execution_count": 14,
   "metadata": {},
   "outputs": [
    {
     "name": "stdout",
     "output_type": "stream",
     "text": [
      "Arrange: tensor([3, 4, 5, 6, 7, 8, 9])\n",
      "LineSpace: tensor([2.0000, 2.2500, 2.5000, 2.7500, 3.0000])\n"
     ]
    }
   ],
   "source": [
    "# Arrange a numpy array\n",
    "print(f'Arrange: {torch.arange(3,10)}')\n",
    "\n",
    "#  evenly spaced numbers over a specified interval\n",
    "print(f'LineSpace: {torch.linspace(2.0, 3.0, steps=5)}')"
   ]
  },
  {
   "cell_type": "markdown",
   "metadata": {},
   "source": [
    "### Torch to Nparray and viceversa "
   ]
  },
  {
   "cell_type": "code",
   "execution_count": 20,
   "metadata": {},
   "outputs": [
    {
     "name": "stdout",
     "output_type": "stream",
     "text": [
      "Numpy to Tensor\n",
      " ==============\n",
      "npArr to Tensor: tensor([1, 2, 3], dtype=torch.int32) \n",
      "Clone of tensorArr: tensor([1, 2, 3], dtype=torch.int32)\n",
      "\n",
      "Tensor to Numpy\n",
      "\n",
      "Tensor: tensor([1, 2, 3, 4])\n",
      "Numpy array: [1 2 3 4]\n"
     ]
    }
   ],
   "source": [
    "print('Numpy to Tensor\\n','=='*7)\n",
    "npArr = np.array([1,2,3])\n",
    "tensorArr = torch.tensor(npArr) \n",
    "print(f'npArr to Tensor: {tensorArr} ')\n",
    "#Clone\n",
    "tensorArr_clone = tensorArr.clone().detach()\n",
    "print(f'Clone of tensorArr: {tensorArr_clone}')\n",
    "\n",
    "print('\\nTensor to Numpy\\n')\n",
    "t1 = torch.tensor([1,2,3,4])\n",
    "t2 = t1.detach().numpy()\n",
    "\n",
    "print('Tensor:',t1)\n",
    "print('Numpy array:',t2)\n",
    "\n"
   ]
  },
  {
   "cell_type": "markdown",
   "metadata": {},
   "source": [
    "### Shuffling\n"
   ]
  },
  {
   "cell_type": "code",
   "execution_count": 24,
   "metadata": {},
   "outputs": [
    {
     "name": "stdout",
     "output_type": "stream",
     "text": [
      "Original ttensor([[1, 2],\n",
      "        [3, 4]])\n",
      "\n",
      "Shuffled ttensor([[3, 1],\n",
      "        [4, 2]])\n",
      "\n"
     ]
    }
   ],
   "source": [
    "t = torch.tensor([[1,2],[3,4]])\n",
    "print(f'Original t{t}\\n')\n",
    "idx = torch.randperm(t.nelement())\n",
    "t = t.view(-1)[idx].view(t.size())\n",
    "print(f'Shuffled t{t}\\n')"
   ]
  },
  {
   "cell_type": "markdown",
   "metadata": {},
   "source": [
    "### Reshape and View \n",
    "\n",
    "\n",
    "View vs Reshape:https://stackoverflow.com/questions/49643225/whats-the-difference-between-reshape-and-view-in-pytorch"
   ]
  },
  {
   "cell_type": "code",
   "execution_count": 38,
   "metadata": {},
   "outputs": [
    {
     "name": "stdout",
     "output_type": "stream",
     "text": [
      "arr_a before: tensor([ 0,  1,  2,  3,  4,  5,  6,  7,  8,  9, 10, 11])\n",
      "Reshape the dimension of nparray:\n",
      " tensor([[ 0,  1,  2,  3],\n",
      "        [ 4,  5,  6,  7],\n",
      "        [ 8,  9, 10, 11]])\n",
      "\n",
      "Shape:  torch.Size([3, 4])\n"
     ]
    }
   ],
   "source": [
    "# Reshape the nparray\n",
    "arr_a = torch.arange(12)\n",
    "print(f'arr_a before: {arr_a}')\n",
    "\n",
    "arr_b = torch.reshape(arr_a,(3,4))\n",
    "print(f'Reshape the dimension of nparray:\\n {arr_b}\\n') # Note : dimension should match\n",
    "print('Shape: ',arr_b.shape)\n",
    "\n"
   ]
  },
  {
   "cell_type": "markdown",
   "metadata": {},
   "source": [
    "### Transpose"
   ]
  },
  {
   "cell_type": "code",
   "execution_count": 41,
   "metadata": {},
   "outputs": [
    {
     "name": "stdout",
     "output_type": "stream",
     "text": [
      "Original nparray:\n",
      " tensor([[ 0,  1,  2,  3],\n",
      "        [ 4,  5,  6,  7],\n",
      "        [ 8,  9, 10, 11]]) torch.Size([3, 4]) \n",
      "Transpose: \n",
      " tensor([[ 0,  4,  8],\n",
      "        [ 1,  5,  9],\n",
      "        [ 2,  6, 10],\n",
      "        [ 3,  7, 11]]) torch.Size([4, 3])\n",
      "\n",
      "Shape of Original x: torch.Size([1, 2, 3])\t \n",
      "Shape of Transpose(1,0,2): torch.Size([3, 2, 1])\n",
      "torch.Size([2, 3, 4])\n",
      "tensor([[[  1,   2,   3,   4],\n",
      "         [  5,   6,   7,   8],\n",
      "         [  9,  10,  11,  12]],\n",
      "\n",
      "        [[ -1,  -2,  -3,  -4],\n",
      "         [ -5,  -6,  -7,  -8],\n",
      "         [ -9, -10, -11, -12]]])\n",
      "\n",
      "\n",
      "torch.Size([3, 2, 4])\n",
      "tensor([[[  1,   2,   3,   4],\n",
      "         [ -1,  -2,  -3,  -4]],\n",
      "\n",
      "        [[  5,   6,   7,   8],\n",
      "         [ -5,  -6,  -7,  -8]],\n",
      "\n",
      "        [[  9,  10,  11,  12],\n",
      "         [ -9, -10, -11, -12]]])\n",
      "\n",
      "\n",
      "torch.Size([4, 3, 2])\n",
      "tensor([[[  1,  -1],\n",
      "         [  5,  -5],\n",
      "         [  9,  -9]],\n",
      "\n",
      "        [[  2,  -2],\n",
      "         [  6,  -6],\n",
      "         [ 10, -10]],\n",
      "\n",
      "        [[  3,  -3],\n",
      "         [  7,  -7],\n",
      "         [ 11, -11]],\n",
      "\n",
      "        [[  4,  -4],\n",
      "         [  8,  -8],\n",
      "         [ 12, -12]]])\n",
      "\n",
      "\n"
     ]
    }
   ],
   "source": [
    "## Transpose \n",
    "\n",
    "print('Original nparray:\\n',arr_b,arr_b.shape,'\\nTranspose: \\n',arr_b.T,arr_b.T.shape)\n",
    "\n",
    "x = torch.ones((1, 2, 3))\n",
    "print(f'\\nShape of Original x: {x.shape}\\t \\nShape of Transpose(1,0,2): {torch.transpose(x,  0, 2).shape}')\n",
    "\n",
    "t = torch.tensor([[[1,2,3,4],[5,6,7,8],[9,10,11,12]],[[-1,-2,-3,-4],[-5,-6,-7,-8],[-9,-10,-11,-12]]])\n",
    "\n",
    "print(t.shape)\n",
    "print(t)\n",
    "print('\\n')\n",
    "\n",
    "print(t.transpose(0,1).shape)\n",
    "print(t.transpose(0,1))\n",
    "print('\\n')\n",
    "\n",
    "print(t.transpose(0,2).shape)\n",
    "print(t.transpose(0,2))\n",
    "print('\\n')"
   ]
  },
  {
   "cell_type": "markdown",
   "metadata": {},
   "source": [
    "#### Transpose(1,2,0)   =>  H W C to C H W    \n",
    "---\n",
    "#### torch.transpose(npimg, (1, 2, 0)\n",
    "---\n",
    "#### Or torch image=>img = torch.transpose(img,2,0)"
   ]
  },
  {
   "cell_type": "code",
   "execution_count": 42,
   "metadata": {},
   "outputs": [
    {
     "name": "stdout",
     "output_type": "stream",
     "text": [
      "torch.Size([2, 3, 4])\n",
      "tensor([[[  1,   2,   3,   4],\n",
      "         [  5,   6,   7,   8],\n",
      "         [  9,  10,  11,  12]],\n",
      "\n",
      "        [[ -1,  -2,  -3,  -4],\n",
      "         [ -5,  -6,  -7,  -8],\n",
      "         [ -9, -10, -11, -12]]])\n",
      "\n",
      "\n",
      "torch.Size([3, 2, 4])\n",
      "tensor([[[  1,   2,   3,   4],\n",
      "         [ -1,  -2,  -3,  -4]],\n",
      "\n",
      "        [[  5,   6,   7,   8],\n",
      "         [ -5,  -6,  -7,  -8]],\n",
      "\n",
      "        [[  9,  10,  11,  12],\n",
      "         [ -9, -10, -11, -12]]])\n",
      "\n",
      "\n",
      "torch.Size([3, 4, 2])\n",
      "tensor([[[  1,  -1],\n",
      "         [  2,  -2],\n",
      "         [  3,  -3],\n",
      "         [  4,  -4]],\n",
      "\n",
      "        [[  5,  -5],\n",
      "         [  6,  -6],\n",
      "         [  7,  -7],\n",
      "         [  8,  -8]],\n",
      "\n",
      "        [[  9,  -9],\n",
      "         [ 10, -10],\n",
      "         [ 11, -11],\n",
      "         [ 12, -12]]])\n",
      "\n",
      "\n"
     ]
    }
   ],
   "source": [
    "t = torch.tensor([[[1,2,3,4],[5,6,7,8],[9,10,11,12]],[[-1,-2,-3,-4],[-5,-6,-7,-8],[-9,-10,-11,-12]]])\n",
    "\n",
    "print(t.shape)\n",
    "print(t)\n",
    "print('\\n')\n",
    "\n",
    "print(t.permute(1,0,2).shape)\n",
    "print(t.permute(1,0,2))\n",
    "print('\\n')\n",
    "\n",
    "print(t.permute(1,2,0).shape)\n",
    "print(t.permute(1,2,0))\n",
    "print('\\n')"
   ]
  },
  {
   "cell_type": "markdown",
   "metadata": {},
   "source": [
    "### Flatten"
   ]
  },
  {
   "cell_type": "code",
   "execution_count": 25,
   "metadata": {},
   "outputs": [
    {
     "name": "stdout",
     "output_type": "stream",
     "text": [
      "Original:\n",
      " tensor([[[0.4888, 0.9678, 0.9099, 0.1588],\n",
      "         [0.7494, 0.2713, 0.0794, 0.5242],\n",
      "         [0.3305, 0.9256, 0.8328, 0.4686]],\n",
      "\n",
      "        [[0.6715, 0.2538, 0.0216, 0.4782],\n",
      "         [0.5187, 0.3184, 0.1411, 0.5747],\n",
      "         [0.1637, 0.9860, 0.0830, 0.6746]]])\n",
      "\n",
      " Flatten:\n",
      " tensor([0.4888, 0.9678, 0.9099, 0.1588, 0.7494, 0.2713, 0.0794, 0.5242, 0.3305,\n",
      "        0.9256, 0.8328, 0.4686, 0.6715, 0.2538, 0.0216, 0.4782, 0.5187, 0.3184,\n",
      "        0.1411, 0.5747, 0.1637, 0.9860, 0.0830, 0.6746])\n"
     ]
    }
   ],
   "source": [
    "t = torch.rand(size=(2,3,4))\n",
    "print(f'Original:\\n {t}\\n\\n Flatten:\\n {t.flatten()}')"
   ]
  },
  {
   "cell_type": "markdown",
   "metadata": {},
   "source": [
    "### Squeeze and Unsqueeze "
   ]
  },
  {
   "cell_type": "code",
   "execution_count": 31,
   "metadata": {},
   "outputs": [
    {
     "name": "stdout",
     "output_type": "stream",
     "text": [
      "\n",
      "Squeeze\n",
      " ==========\n",
      "Shape of X: torch.Size([1, 3, 1]) \n",
      " Shape after Squeezed: torch.Size([3])\n",
      "\n",
      "Shape of X: torch.Size([1, 3, 1]) \n",
      " Shape after Squeezed: torch.Size([1, 3])\n",
      "\n",
      "Unsqueeze\n",
      " ==========\n",
      "Shape of t1: tensor([1, 2, 3])\n",
      " Shape after unsqueeze axis = 1:\n",
      "torch.Size([3, 1]) \n"
     ]
    }
   ],
   "source": [
    "print('\\nSqueeze\\n','='*10)\n",
    "# squeeze removes all the 1 dimension in all axes  \n",
    "t = torch.tensor([[[0], [1], [2]]])\n",
    "print(f'Shape of X: {t.shape} \\n Shape after Squeezed: {t.squeeze().shape}')\n",
    "\n",
    "#Squeeze the Dimension specficed by axis\n",
    "print(f'\\nShape of X: {t.shape} \\n Shape after Squeezed: {t.squeeze(axis=2).shape}') ## Squeezed axis 2\n",
    "print('\\nUnsqueeze\\n','='*10)\n",
    "##Unsqueeze\n",
    "t1 = torch.tensor([1,2,3])\n",
    "print(f'Shape of t1: {t1}\\n Shape after unsqueeze axis = 1:\\n{t1.unsqueeze(1).shape} ')\n"
   ]
  },
  {
   "cell_type": "markdown",
   "metadata": {},
   "source": [
    "### Permute"
   ]
  },
  {
   "cell_type": "code",
   "execution_count": 43,
   "metadata": {},
   "outputs": [
    {
     "name": "stdout",
     "output_type": "stream",
     "text": [
      "torch.Size([2, 3, 4])\n",
      "tensor([[[  1,   2,   3,   4],\n",
      "         [  5,   6,   7,   8],\n",
      "         [  9,  10,  11,  12]],\n",
      "\n",
      "        [[ -1,  -2,  -3,  -4],\n",
      "         [ -5,  -6,  -7,  -8],\n",
      "         [ -9, -10, -11, -12]]])\n",
      "\n",
      "\n",
      "torch.Size([3, 2, 4])\n",
      "tensor([[[  1,   2,   3,   4],\n",
      "         [ -1,  -2,  -3,  -4]],\n",
      "\n",
      "        [[  5,   6,   7,   8],\n",
      "         [ -5,  -6,  -7,  -8]],\n",
      "\n",
      "        [[  9,  10,  11,  12],\n",
      "         [ -9, -10, -11, -12]]])\n",
      "\n",
      "\n",
      "torch.Size([3, 4, 2])\n",
      "tensor([[[  1,  -1],\n",
      "         [  2,  -2],\n",
      "         [  3,  -3],\n",
      "         [  4,  -4]],\n",
      "\n",
      "        [[  5,  -5],\n",
      "         [  6,  -6],\n",
      "         [  7,  -7],\n",
      "         [  8,  -8]],\n",
      "\n",
      "        [[  9,  -9],\n",
      "         [ 10, -10],\n",
      "         [ 11, -11],\n",
      "         [ 12, -12]]])\n",
      "\n",
      "\n"
     ]
    }
   ],
   "source": [
    "t = torch.tensor([[[1,2,3,4],[5,6,7,8],[9,10,11,12]],[[-1,-2,-3,-4],[-5,-6,-7,-8],[-9,-10,-11,-12]]])\n",
    "\n",
    "print(t.shape)\n",
    "print(t)\n",
    "print('\\n')\n",
    "\n",
    "print(t.permute(1,0,2).shape)\n",
    "print(t.permute(1,0,2))\n",
    "print('\\n')\n",
    "\n",
    "print(t.permute(1,2,0).shape)\n",
    "print(t.permute(1,2,0))\n",
    "print('\\n')"
   ]
  },
  {
   "cell_type": "markdown",
   "metadata": {},
   "source": [
    "### Concatenation"
   ]
  },
  {
   "cell_type": "code",
   "execution_count": 45,
   "metadata": {},
   "outputs": [
    {
     "name": "stdout",
     "output_type": "stream",
     "text": [
      "tensor([[[0.8262, 0.7862, 0.3476, 0.8687],\n",
      "         [0.0222, 0.7798, 0.3999, 0.7857],\n",
      "         [0.7850, 0.8825, 0.2889, 0.0881]],\n",
      "\n",
      "        [[0.0567, 0.5285, 0.1073, 0.2890],\n",
      "         [0.1946, 0.8137, 0.4835, 0.2472],\n",
      "         [0.1447, 0.1983, 0.1579, 0.6726]]])\n",
      "tensor([[[0.3726, 0.0330, 0.0149, 0.7858],\n",
      "         [0.5984, 0.0415, 0.7608, 0.2337],\n",
      "         [0.8865, 0.0734, 0.3437, 0.6659]],\n",
      "\n",
      "        [[0.0836, 0.0291, 0.8091, 0.8489],\n",
      "         [0.0454, 0.4242, 0.7369, 0.6564],\n",
      "         [0.6066, 0.8378, 0.9279, 0.2589]]])\n",
      "tensor([[[0.1317, 0.0256, 0.0492, 0.1964],\n",
      "         [0.4699, 0.5591, 0.4452, 0.4609],\n",
      "         [0.4864, 0.5650, 0.2662, 0.8971]]])\n",
      "tensor([[[0.2634],\n",
      "         [0.8278],\n",
      "         [0.9415]],\n",
      "\n",
      "        [[0.0193],\n",
      "         [0.3025],\n",
      "         [0.0484]]])\n",
      "Concatenating tensors\n",
      "\n",
      "tensor([[[0.8262, 0.7862, 0.3476, 0.8687],\n",
      "         [0.0222, 0.7798, 0.3999, 0.7857],\n",
      "         [0.7850, 0.8825, 0.2889, 0.0881],\n",
      "         [0.3726, 0.0330, 0.0149, 0.7858],\n",
      "         [0.5984, 0.0415, 0.7608, 0.2337],\n",
      "         [0.8865, 0.0734, 0.3437, 0.6659]],\n",
      "\n",
      "        [[0.0567, 0.5285, 0.1073, 0.2890],\n",
      "         [0.1946, 0.8137, 0.4835, 0.2472],\n",
      "         [0.1447, 0.1983, 0.1579, 0.6726],\n",
      "         [0.0836, 0.0291, 0.8091, 0.8489],\n",
      "         [0.0454, 0.4242, 0.7369, 0.6564],\n",
      "         [0.6066, 0.8378, 0.9279, 0.2589]]])\n",
      "tensor([[[0.8262, 0.7862, 0.3476, 0.8687],\n",
      "         [0.0222, 0.7798, 0.3999, 0.7857],\n",
      "         [0.7850, 0.8825, 0.2889, 0.0881]],\n",
      "\n",
      "        [[0.0567, 0.5285, 0.1073, 0.2890],\n",
      "         [0.1946, 0.8137, 0.4835, 0.2472],\n",
      "         [0.1447, 0.1983, 0.1579, 0.6726]],\n",
      "\n",
      "        [[0.3726, 0.0330, 0.0149, 0.7858],\n",
      "         [0.5984, 0.0415, 0.7608, 0.2337],\n",
      "         [0.8865, 0.0734, 0.3437, 0.6659]],\n",
      "\n",
      "        [[0.0836, 0.0291, 0.8091, 0.8489],\n",
      "         [0.0454, 0.4242, 0.7369, 0.6564],\n",
      "         [0.6066, 0.8378, 0.9279, 0.2589]],\n",
      "\n",
      "        [[0.1317, 0.0256, 0.0492, 0.1964],\n",
      "         [0.4699, 0.5591, 0.4452, 0.4609],\n",
      "         [0.4864, 0.5650, 0.2662, 0.8971]]])\n",
      "tensor([[[0.8262, 0.7862, 0.3476, 0.8687, 0.3726, 0.0330, 0.0149, 0.7858,\n",
      "          0.2634],\n",
      "         [0.0222, 0.7798, 0.3999, 0.7857, 0.5984, 0.0415, 0.7608, 0.2337,\n",
      "          0.8278],\n",
      "         [0.7850, 0.8825, 0.2889, 0.0881, 0.8865, 0.0734, 0.3437, 0.6659,\n",
      "          0.9415]],\n",
      "\n",
      "        [[0.0567, 0.5285, 0.1073, 0.2890, 0.0836, 0.0291, 0.8091, 0.8489,\n",
      "          0.0193],\n",
      "         [0.1946, 0.8137, 0.4835, 0.2472, 0.0454, 0.4242, 0.7369, 0.6564,\n",
      "          0.3025],\n",
      "         [0.1447, 0.1983, 0.1579, 0.6726, 0.6066, 0.8378, 0.9279, 0.2589,\n",
      "          0.0484]]])\n"
     ]
    }
   ],
   "source": [
    "# Tensor Cat\n",
    "\n",
    "t1 = torch.rand(size=(2,3,4))\n",
    "t2 = torch.rand(size=(2,3,4))\n",
    "t3 = torch.rand(size=(1,3,4))\n",
    "t4 = torch.rand(size=(2,3,1))\n",
    "\n",
    "print(t1)\n",
    "print(t2)\n",
    "print(t3)\n",
    "print(t4)\n",
    "\n",
    "print('Concatenating tensors\\n')\n",
    "\n",
    "print(torch.cat([t1,t2],dim=1))\n",
    "print(torch.cat([t1,t2,t3],dim=0))\n",
    "print(torch.cat([t1,t2,t4],dim=2))"
   ]
  },
  {
   "cell_type": "code",
   "execution_count": 46,
   "metadata": {},
   "outputs": [
    {
     "name": "stdout",
     "output_type": "stream",
     "text": [
      "torch.Size([3, 4])\n",
      "tensor([[0.1758, 0.3565, 0.2123, 0.8205],\n",
      "        [0.1231, 0.0766, 0.8280, 0.8037],\n",
      "        [0.1186, 0.7584, 0.6012, 0.7442]])\n",
      "\n",
      "\n",
      "torch.Size([3, 4])\n",
      "tensor([[0.0858, 0.3282, 0.4925, 0.3911],\n",
      "        [0.7394, 0.3090, 0.5269, 0.8588],\n",
      "        [0.3025, 0.8231, 0.6296, 0.0477]])\n",
      "\n",
      "\n",
      "torch.Size([2, 3, 4])\n",
      "tensor([[[0.1758, 0.3565, 0.2123, 0.8205],\n",
      "         [0.1231, 0.0766, 0.8280, 0.8037],\n",
      "         [0.1186, 0.7584, 0.6012, 0.7442]],\n",
      "\n",
      "        [[0.0858, 0.3282, 0.4925, 0.3911],\n",
      "         [0.7394, 0.3090, 0.5269, 0.8588],\n",
      "         [0.3025, 0.8231, 0.6296, 0.0477]]])\n",
      "torch.Size([3, 2, 4])\n",
      "tensor([[[0.1758, 0.3565, 0.2123, 0.8205],\n",
      "         [0.0858, 0.3282, 0.4925, 0.3911]],\n",
      "\n",
      "        [[0.1231, 0.0766, 0.8280, 0.8037],\n",
      "         [0.7394, 0.3090, 0.5269, 0.8588]],\n",
      "\n",
      "        [[0.1186, 0.7584, 0.6012, 0.7442],\n",
      "         [0.3025, 0.8231, 0.6296, 0.0477]]])\n",
      "torch.Size([3, 4, 2])\n",
      "tensor([[[0.1758, 0.0858],\n",
      "         [0.3565, 0.3282],\n",
      "         [0.2123, 0.4925],\n",
      "         [0.8205, 0.3911]],\n",
      "\n",
      "        [[0.1231, 0.7394],\n",
      "         [0.0766, 0.3090],\n",
      "         [0.8280, 0.5269],\n",
      "         [0.8037, 0.8588]],\n",
      "\n",
      "        [[0.1186, 0.3025],\n",
      "         [0.7584, 0.8231],\n",
      "         [0.6012, 0.6296],\n",
      "         [0.7442, 0.0477]]])\n"
     ]
    }
   ],
   "source": [
    "# Tensor Stack\n",
    "# This operation can be imagined as a combination of unsqueeze and cat.\n",
    "\n",
    "t1 = torch.rand(size=(3,4))\n",
    "t2 = torch.rand(size=(3,4))\n",
    "\n",
    "print(t1.shape)\n",
    "print(t1)\n",
    "print('\\n')\n",
    "\n",
    "print(t2.shape)\n",
    "print(t2)\n",
    "print('\\n')\n",
    "\n",
    "print(torch.stack([t1,t2],dim=0).shape)\n",
    "print(torch.stack([t1,t2],dim=0))\n",
    "\n",
    "print(torch.stack([t1,t2],dim=1).shape)\n",
    "print(torch.stack([t1,t2],dim=1))\n",
    "\n",
    "print(torch.stack([t1,t2],dim=2).shape)\n",
    "print(torch.stack([t1,t2],dim=2))"
   ]
  },
  {
   "cell_type": "markdown",
   "metadata": {},
   "source": [
    "### Repeat"
   ]
  },
  {
   "cell_type": "code",
   "execution_count": 47,
   "metadata": {},
   "outputs": [
    {
     "name": "stdout",
     "output_type": "stream",
     "text": [
      "Original t1:\n",
      "tensor([0.9795, 0.6203, 0.0287])\n",
      "t1.repeat(2)\n",
      "tensor([0.9795, 0.6203, 0.0287, 0.9795, 0.6203, 0.0287])\n",
      "t1.repeat(4,2)\n",
      "tensor([[0.9795, 0.6203, 0.0287, 0.9795, 0.6203, 0.0287],\n",
      "        [0.9795, 0.6203, 0.0287, 0.9795, 0.6203, 0.0287],\n",
      "        [0.9795, 0.6203, 0.0287, 0.9795, 0.6203, 0.0287],\n",
      "        [0.9795, 0.6203, 0.0287, 0.9795, 0.6203, 0.0287]])\n",
      "t1.repeat(4,2,2)\n",
      "tensor([[[0.9795, 0.6203, 0.0287, 0.9795, 0.6203, 0.0287],\n",
      "         [0.9795, 0.6203, 0.0287, 0.9795, 0.6203, 0.0287]],\n",
      "\n",
      "        [[0.9795, 0.6203, 0.0287, 0.9795, 0.6203, 0.0287],\n",
      "         [0.9795, 0.6203, 0.0287, 0.9795, 0.6203, 0.0287]],\n",
      "\n",
      "        [[0.9795, 0.6203, 0.0287, 0.9795, 0.6203, 0.0287],\n",
      "         [0.9795, 0.6203, 0.0287, 0.9795, 0.6203, 0.0287]],\n",
      "\n",
      "        [[0.9795, 0.6203, 0.0287, 0.9795, 0.6203, 0.0287],\n",
      "         [0.9795, 0.6203, 0.0287, 0.9795, 0.6203, 0.0287]]])\n"
     ]
    }
   ],
   "source": [
    "# Tensor Repeat\n",
    "\n",
    "t1 = torch.rand(3)\n",
    "\n",
    "print('Original t1:')\n",
    "print(t1)\n",
    "\n",
    "print('t1.repeat(2)')\n",
    "print(t1.repeat((2)))\n",
    "\n",
    "print('t1.repeat(4,2)')\n",
    "print(t1.repeat((4,2)))\n",
    "\n",
    "print('t1.repeat(4,2,2)')\n",
    "print(t1.repeat((4,2,2)))"
   ]
  },
  {
   "cell_type": "code",
   "execution_count": 48,
   "metadata": {},
   "outputs": [
    {
     "name": "stdout",
     "output_type": "stream",
     "text": [
      "Original t1:\n",
      "tensor([0.5361, 0.7571, 0.4459])\n",
      "Original t2:\n",
      "tensor([[0.2258, 0.2024],\n",
      "        [0.7398, 0.3576],\n",
      "        [0.3801, 0.3540]])\n",
      "t1.repeat_interleave(2)\n",
      "tensor([0.5361, 0.5361, 0.7571, 0.7571, 0.4459, 0.4459])\n",
      "t2.repeat_interleave(2)\n",
      "tensor([0.2258, 0.2258, 0.2024, 0.2024, 0.7398, 0.7398, 0.3576, 0.3576, 0.3801,\n",
      "        0.3801, 0.3540, 0.3540])\n",
      "t2.repeat_interleave(2,dim=0)\n",
      "tensor([[0.2258, 0.2024],\n",
      "        [0.2258, 0.2024],\n",
      "        [0.7398, 0.3576],\n",
      "        [0.7398, 0.3576],\n",
      "        [0.3801, 0.3540],\n",
      "        [0.3801, 0.3540]])\n",
      "t2.repeat_interleave(2,dim=1)\n",
      "tensor([[0.2258, 0.2258, 0.2024, 0.2024],\n",
      "        [0.7398, 0.7398, 0.3576, 0.3576],\n",
      "        [0.3801, 0.3801, 0.3540, 0.3540]])\n",
      "t2.repeat_interleave(torch.tensor([1,2,3]),dim=0)\n",
      "tensor([[0.2258, 0.2024],\n",
      "        [0.7398, 0.3576],\n",
      "        [0.7398, 0.3576],\n",
      "        [0.3801, 0.3540],\n",
      "        [0.3801, 0.3540],\n",
      "        [0.3801, 0.3540]])\n"
     ]
    }
   ],
   "source": [
    "# Tensor Repeat Interleave\n",
    "\n",
    "\n",
    "t1 = torch.rand(3)\n",
    "t2 = torch.rand(size=(3,2))\n",
    "\n",
    "print('Original t1:')\n",
    "print(t1)\n",
    "\n",
    "print('Original t2:')\n",
    "print(t2)\n",
    "\n",
    "print('t1.repeat_interleave(2)')\n",
    "print(t1.repeat_interleave(2))\n",
    "\n",
    "# Unless dimension is specified the multi-dimension tensor is flattened and then interleave operation is applied\n",
    "print('t2.repeat_interleave(2)')\n",
    "print(t2.repeat_interleave(2))\n",
    "\n",
    "print('t2.repeat_interleave(2,dim=0)')\n",
    "print(t2.repeat_interleave(2,dim=0))\n",
    "\n",
    "print('t2.repeat_interleave(2,dim=1)')\n",
    "print(t2.repeat_interleave(2,dim=1))\n",
    "\n",
    "# Repeat interleave applied with differnet repetitions\n",
    "print('t2.repeat_interleave(torch.tensor([1,2,3]),dim=0)')\n",
    "print(t2.repeat_interleave(torch.tensor([1,2,3]),dim=0))"
   ]
  },
  {
   "cell_type": "markdown",
   "metadata": {},
   "source": [
    "### Padding"
   ]
  },
  {
   "cell_type": "code",
   "execution_count": 49,
   "metadata": {},
   "outputs": [
    {
     "name": "stdout",
     "output_type": "stream",
     "text": [
      "tensor([[0, 0, 0, 0, 0, 0, 0],\n",
      "        [0, 1, 2, 3, 4, 0, 0],\n",
      "        [0, 1, 2, 3, 4, 0, 0],\n",
      "        [0, 1, 2, 3, 4, 0, 0],\n",
      "        [0, 1, 2, 3, 4, 0, 0],\n",
      "        [0, 0, 0, 0, 0, 0, 0],\n",
      "        [0, 0, 0, 0, 0, 0, 0]])\n"
     ]
    }
   ],
   "source": [
    "# Tensor Padding\n",
    "from torch.nn import functional as F\n",
    "\n",
    "x = torch.tensor([[1,2,3,4],\n",
    "                 [1,2,3,4],\n",
    "                 [1,2,3,4],\n",
    "                 [1,2,3,4]])\n",
    "\n",
    "pad_left   = 1\n",
    "pad_right  = 2\n",
    "pad_top    = 1\n",
    "pad_bottom = 2\n",
    "\n",
    "a = F.pad( x, (pad_left,pad_right,pad_top,pad_bottom), mode = 'constant' )\n",
    "\n",
    "print(a)"
   ]
  },
  {
   "cell_type": "markdown",
   "metadata": {},
   "source": [
    "### Casting"
   ]
  },
  {
   "cell_type": "code",
   "execution_count": 54,
   "metadata": {},
   "outputs": [
    {
     "data": {
      "text/plain": [
       "tensor([1, 0], dtype=torch.int32)"
      ]
     },
     "execution_count": 54,
     "metadata": {},
     "output_type": "execute_result"
    }
   ],
   "source": [
    "t = torch.tensor([True,False])\n",
    "t.type(torch.int)"
   ]
  },
  {
   "cell_type": "markdown",
   "metadata": {},
   "source": [
    "### MathOperation\n"
   ]
  },
  {
   "cell_type": "code",
   "execution_count": 55,
   "metadata": {},
   "outputs": [
    {
     "name": "stdout",
     "output_type": "stream",
     "text": [
      "original t1:\n",
      "tensor([0.0996, 0.5039, 0.5145])\n",
      "original t2:\n",
      "tensor([0.2802, 0.8284, 0.3067])\n",
      "original t3:\n",
      "tensor([[0.2086, 0.1127, 0.9981, 0.0853],\n",
      "        [0.8224, 0.1656, 0.5069, 0.4191],\n",
      "        [0.2454, 0.8722, 0.9818, 0.7027]])\n",
      "original t4:\n",
      "tensor([[0.9023, 0.2309, 0.4151, 0.7825],\n",
      "        [0.1093, 0.2912, 0.4206, 0.6876],\n",
      "        [0.7031, 0.8184, 0.4413, 0.8967]])\n",
      "original t5:\n",
      "tensor([[0.1108],\n",
      "        [0.3183],\n",
      "        [0.2156]])\n",
      "t1+10\n",
      "tensor([10.0996, 10.5039, 10.5145])\n",
      "t1+t2\n",
      "tensor([0.3798, 1.3323, 0.8212])\n",
      "t1*-10\n",
      "tensor([-0.9962, -5.0392, -5.1451])\n",
      "t1*t2\n",
      "tensor([0.0279, 0.4174, 0.1578])\n",
      "abs(-10*t1)\n",
      "tensor([0.9962, 5.0392, 5.1451])\n",
      "t3+t4\n",
      "tensor([[1.1109, 0.3435, 1.4132, 0.8677],\n",
      "        [0.9317, 0.4568, 0.9275, 1.1067],\n",
      "        [0.9485, 1.6906, 1.4231, 1.5994]])\n",
      "tensor([[0.3194, 0.2235, 1.1090, 0.1961],\n",
      "        [1.1407, 0.4838, 0.8252, 0.7374],\n",
      "        [0.4610, 1.0877, 1.1974, 0.9182]])\n"
     ]
    }
   ],
   "source": [
    "# Point-wise/element-wise operations\n",
    "# Similar to numpy arrays, torch offers all the basic mathematical operations and is extremely convenient\n",
    "# Below we list some of the most commonly used operations\n",
    "\n",
    "t1 = torch.rand(3)\n",
    "t2 = torch.rand(3)\n",
    "t3 = torch.rand(size=(3,4))\n",
    "t4 = torch.rand(size=(3,4))\n",
    "t5 = torch.rand(size=(3,1))\n",
    "\n",
    "print('original t1:')\n",
    "print(t1)\n",
    "\n",
    "print('original t2:')\n",
    "print(t2)\n",
    "\n",
    "print('original t3:')\n",
    "print(t3)\n",
    "\n",
    "print('original t4:')\n",
    "print(t4)\n",
    "\n",
    "print('original t5:')\n",
    "print(t5)\n",
    "\n",
    "# Addition with scalar\n",
    "print('t1+10')\n",
    "print(t1+10)\n",
    "\n",
    "# Addition\n",
    "print('t1+t2')\n",
    "print(t1+t2)\n",
    "\n",
    "# Multiplication with scalar\n",
    "print('t1*-10')\n",
    "print(t1*-10)\n",
    "\n",
    "# Elementwise multiplication\n",
    "print('t1*t2')\n",
    "print(t1*t2)\n",
    "\n",
    "# Absolute value\n",
    "print('abs(-10*t1)')\n",
    "print(abs(-10*t1))\n",
    "\n",
    "# Similar operations extend to multi-dimensional tensors\n",
    "print('t3+t4')\n",
    "print(t3+t4)\n",
    "\n",
    "# Broadcasting b/w arrays of different dimensions\n",
    "# Note; When broadting two multi-dimensional tensors, match their corresponding dimensions beginning from the last dimension.\n",
    "# All dimensions should either match or one of the tensor should have length 1 in that specific dimension\n",
    "print(t3+t5)"
   ]
  },
  {
   "cell_type": "code",
   "execution_count": 56,
   "metadata": {},
   "outputs": [
    {
     "name": "stdout",
     "output_type": "stream",
     "text": [
      "original t1:\n",
      "tensor([0.2349, 0.3288, 0.5180])\n",
      "original t2:\n",
      "tensor([[0.8625, 0.0368, 0.2810, 0.0829],\n",
      "        [0.5923, 0.8180, 0.7160, 0.8264],\n",
      "        [0.0045, 0.1453, 0.2816, 0.6819]])\n",
      "t1.sum()\n",
      "tensor(1.0816)\n",
      "t2.sum()\n",
      "tensor(5.3292)\n",
      "t2.sum(axis=0)\n",
      "tensor([1.4594, 1.0001, 1.2786, 1.5912])\n",
      "t2.sum(axis=1)\n",
      "tensor([1.2632, 2.9527, 1.1134])\n"
     ]
    }
   ],
   "source": [
    "# Reduction Operations\n",
    "# Torch supports all commonly used mathematical reduction operations such as sum(), mean(), std(), max(), argmax(), prod(), unique() etc.\n",
    "# These can either be applied on the entire tensor or along specific dimensions.\n",
    "\n",
    "t1 = torch.rand(3)\n",
    "t2 = torch.rand(size=(3,4))\n",
    "\n",
    "print('original t1:')\n",
    "print(t1)\n",
    "\n",
    "print('original t2:')\n",
    "print(t2)\n",
    "\n",
    "print('t1.sum()')\n",
    "print(t1.sum())\n",
    "\n",
    "print('t2.sum()')\n",
    "print(t2.sum())\n",
    "\n",
    "print('t2.sum(axis=0)')\n",
    "print(t2.sum(axis=0))\n",
    "\n",
    "print('t2.sum(axis=1)')\n",
    "print(t2.sum(axis=1))"
   ]
  },
  {
   "cell_type": "code",
   "execution_count": 57,
   "metadata": {},
   "outputs": [
    {
     "name": "stdout",
     "output_type": "stream",
     "text": [
      "original t1:\n",
      "tensor([[0.4313, 0.5304, 0.2393, 0.4932],\n",
      "        [0.5680, 0.3317, 0.2545, 0.3140],\n",
      "        [0.9841, 0.1412, 0.6072, 0.1300]])\n",
      "original t2:\n",
      "tensor([[0.6543, 0.7535, 0.1301, 0.5513],\n",
      "        [0.1023, 0.5796, 0.9846, 0.9082],\n",
      "        [0.1966, 0.0105, 0.8014, 0.3972]])\n",
      "original t3:\n",
      "tensor([[0.4616, 0.7314, 0.5932, 0.6725],\n",
      "        [0.9817, 0.3001, 0.0679, 0.8995],\n",
      "        [0.8529, 0.2771, 0.6490, 0.4475]])\n",
      "t1>t3\n",
      "tensor([[False, False,  True, False],\n",
      "        [ True, False, False, False],\n",
      "        [ True,  True, False, False]])\n",
      "t2!=t3\n",
      "tensor([[True, True, True, True],\n",
      "        [True, True, True, True],\n",
      "        [True, True, True, True]])\n",
      "tensor(True)\n",
      "tensor(False)\n",
      "tensor([ True,  True,  True, False])\n",
      "tensor([True, True, True])\n",
      "tensor(True)\n",
      "tensor(True)\n"
     ]
    }
   ],
   "source": [
    "# Comparison Operations\n",
    "\n",
    "t1 = torch.rand(size=(3,4))\n",
    "t2 = torch.rand(size=(3,4))\n",
    "t3 = torch.rand(size=(3,4))\n",
    "\n",
    "print('original t1:')\n",
    "print(t1)\n",
    "\n",
    "print('original t2:')\n",
    "print(t2)\n",
    "\n",
    "print('original t3:')\n",
    "print(t3)\n",
    "\n",
    "# Basic comparison operations\n",
    "print('t1>t3')\n",
    "print(t1>t2)\n",
    "\n",
    "print('t2!=t3')\n",
    "print(t2!=t3)\n",
    "\n",
    "# Combining reduction operations with boolean tensors\n",
    "print((t1>t2).any())\n",
    "print((t1>t2).all())\n",
    "print((t1>t2).any(axis=0))\n",
    "print((t1>t2).any(axis=1))\n",
    "\n",
    "print((t2!=t3).any())\n",
    "print((t2!=t3).all())"
   ]
  },
  {
   "cell_type": "code",
   "execution_count": null,
   "metadata": {},
   "outputs": [],
   "source": []
  }
 ],
 "metadata": {
  "kernelspec": {
   "display_name": "Python 3",
   "language": "python",
   "name": "python3"
  },
  "language_info": {
   "codemirror_mode": {
    "name": "ipython",
    "version": 3
   },
   "file_extension": ".py",
   "mimetype": "text/x-python",
   "name": "python",
   "nbconvert_exporter": "python",
   "pygments_lexer": "ipython3",
   "version": "3.7.6"
  }
 },
 "nbformat": 4,
 "nbformat_minor": 4
}
