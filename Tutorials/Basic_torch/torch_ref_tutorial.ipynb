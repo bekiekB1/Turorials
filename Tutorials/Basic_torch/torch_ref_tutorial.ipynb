{
 "cells": [
  {
   "cell_type": "code",
   "execution_count": 1,
   "metadata": {},
   "outputs": [],
   "source": [
    "#pip install torch torchvision"
   ]
  },
  {
   "cell_type": "markdown",
   "metadata": {},
   "source": [
    "### Compare with Numpy "
   ]
  },
  {
   "cell_type": "code",
   "execution_count": 2,
   "metadata": {},
   "outputs": [],
   "source": [
    "import torch\n",
    "import numpy as np"
   ]
  },
  {
   "cell_type": "markdown",
   "metadata": {},
   "source": [
    "### Quick ref At:"
   ]
  },
  {
   "cell_type": "markdown",
   "metadata": {},
   "source": [
    "https://pytorch.org/docs/stable/torch.html"
   ]
  },
  {
   "cell_type": "markdown",
   "metadata": {},
   "source": [
    "### Data type "
   ]
  },
  {
   "cell_type": "markdown",
   "metadata": {},
   "source": [
    "![caption](dataType.png)"
   ]
  },
  {
   "cell_type": "markdown",
   "metadata": {},
   "source": [
    "### Gpu tensor e.g:   torch.cuda.FloatTensor"
   ]
  },
  {
   "cell_type": "markdown",
   "metadata": {},
   "source": [
    "### Default torch is float and default numpy is double"
   ]
  },
  {
   "cell_type": "markdown",
   "metadata": {},
   "source": [
    "### Initialize"
   ]
  },
  {
   "cell_type": "code",
   "execution_count": 7,
   "metadata": {},
   "outputs": [
    {
     "name": "stdout",
     "output_type": "stream",
     "text": [
      "Initialize Directly:\n",
      "tensor([1, 2, 3, 4])\n",
      "tensor([1, 2, 3, 4], dtype=torch.int32)\n",
      "\n",
      "\n",
      "Type of arr1: <class 'torch.Tensor'>\n",
      "\n",
      "Initialize nparray with data type: tensor([1., 2., 3.])\n",
      "Initialize nparray with Same type: tensor([1., 2., 3.])\n"
     ]
    }
   ],
   "source": [
    "# Initialize Directly\n",
    "t1 = torch.tensor([1,2,3,4]) # from python list\n",
    "t2 = torch.tensor(np.array([1,2,3,4])) # from numpy array\n",
    "print(f'Initialize Directly:\\n{t1}\\n{t2}\\n')\n",
    "\n",
    "#Check Type of a data structure\n",
    "print(f'\\nType of arr1: {type(t1)}\\n')\n",
    "\n",
    "#Initialize nparray with data type\n",
    "print(f'Initialize nparray with data type: {torch.tensor([1,2,3],dtype=torch.float)}') \n",
    "\n",
    "#Initialize nparray as float\n",
    "print(f'Initialize nparray with Same type: {torch.tensor([1.,2,3])}') "
   ]
  },
  {
   "cell_type": "markdown",
   "metadata": {},
   "source": [
    "### Generate"
   ]
  },
  {
   "cell_type": "code",
   "execution_count": 11,
   "metadata": {},
   "outputs": [
    {
     "name": "stdout",
     "output_type": "stream",
     "text": [
      "Initialize Zeros: \n",
      "tensor([[0., 0., 0.],\n",
      "        [0., 0., 0.]])\n",
      "\n",
      "Initialize Ones: \n",
      "tensor([[1., 1., 1.],\n",
      "        [1., 1., 1.]])\n",
      "\n",
      "Random int with range 2-10 and size (2,3):\n",
      " tensor([[2, 5, 7],\n",
      "        [6, 7, 9]])\n",
      "\n",
      "Initialize Identity Matrix: \n",
      "tensor([[1., 0., 0.],\n",
      "        [0., 1., 0.],\n",
      "        [0., 0., 1.]])\n",
      "\n",
      " Standard Normally distributed N(0,1) numbers of size (2,4,5):\n",
      " tensor([[[0.4895, 0.5677, 0.4622, 0.6719, 0.2694],\n",
      "         [0.5358, 0.6087, 0.2552, 0.3818, 0.9457],\n",
      "         [0.1450, 0.4669, 0.2059, 0.3943, 0.1973],\n",
      "         [0.8918, 0.1149, 0.3374, 0.0012, 0.2494]],\n",
      "\n",
      "        [[0.4323, 0.3398, 0.3363, 0.7495, 0.8430],\n",
      "         [0.9092, 0.4651, 0.1207, 0.4188, 0.9716],\n",
      "         [0.1617, 0.2279, 0.1208, 0.3436, 0.3333],\n",
      "         [0.1010, 0.7890, 0.3359, 0.0663, 0.2908]]])\n"
     ]
    }
   ],
   "source": [
    "# Initialize a zeros nparray \n",
    "print(f'Initialize Zeros: \\n{torch.zeros((2,3))}\\n') # Note the argument is shape so double brackets\n",
    "\n",
    "# Initialize a Ones nparray \n",
    "print(f'Initialize Ones: \\n{torch.ones((2,3),dtype=torch.float)}\\n') # Note the argument is shape so double brackets\n",
    "\n",
    "# Random int with range 2-10 and size (2,3)\n",
    "print(f'Random int with range 2-10 and size (2,3):\\n {torch.randint(2,10,size=(2,3))}\\n') \n",
    "\n",
    "# Initialize the Identity Matrix\n",
    "print(f'Initialize Identity Matrix: \\n{torch.eye(3,3)}\\n')\n",
    "\n",
    "# Standard Normally distributed N(0,1) numbers of size (2,4,5)\n",
    "print(f' Standard Normally distributed N(0,1) numbers of size (2,4,5):\\n {torch.rand(2,4,5)}')"
   ]
  },
  {
   "cell_type": "code",
   "execution_count": 14,
   "metadata": {},
   "outputs": [
    {
     "name": "stdout",
     "output_type": "stream",
     "text": [
      "Arrange: tensor([3, 4, 5, 6, 7, 8, 9])\n",
      "LineSpace: tensor([2.0000, 2.2500, 2.5000, 2.7500, 3.0000])\n"
     ]
    }
   ],
   "source": [
    "# Arrange a numpy array\n",
    "print(f'Arrange: {torch.arange(3,10)}')\n",
    "\n",
    "#  evenly spaced numbers over a specified interval\n",
    "print(f'LineSpace: {torch.linspace(2.0, 3.0, steps=5)}')"
   ]
  },
  {
   "cell_type": "markdown",
   "metadata": {},
   "source": [
    "### Torch to Nparray and viceversa "
   ]
  },
  {
   "cell_type": "code",
   "execution_count": 10,
   "metadata": {},
   "outputs": [
    {
     "name": "stdout",
     "output_type": "stream",
     "text": [
      "Numpy to Tensor\n",
      " ==============\n",
      "npArr to Tensor: tensor([1, 2, 3], dtype=torch.int32) \n",
      "Numpy array to tensor: from_numpy: tensor([1, 2, 3], dtype=torch.int32)\n",
      "Clone of tensorArr: tensor([1, 2, 3], dtype=torch.int32)\n",
      "\n",
      "Tensor to Numpy\n",
      "\n",
      "Tensor: tensor([1, 2, 3, 4])\n",
      "Numpy array: [1 2 3 4]\n"
     ]
    }
   ],
   "source": [
    "print('Numpy to Tensor\\n','=='*7)\n",
    "npArr = np.array([1,2,3])\n",
    "tensorArr = torch.tensor(npArr) \n",
    "print(f'npArr to Tensor: {tensorArr} ')\n",
    "t3 = torch.from_numpy(npArr)\n",
    "print('Numpy array to tensor: from_numpy:',t3)\n",
    "#Clone\n",
    "tensorArr_clone = tensorArr.clone().detach()\n",
    "print(f'Clone of tensorArr: {tensorArr_clone}')\n",
    "\n",
    "print('\\nTensor to Numpy\\n')\n",
    "t1 = torch.tensor([1,2,3,4])\n",
    "t2 = t1.detach().numpy()\n",
    "\n",
    "\n",
    "print('Tensor:',t1)\n",
    "print('Numpy array:',t2)\n",
    "\n",
    "\n"
   ]
  },
  {
   "cell_type": "markdown",
   "metadata": {},
   "source": [
    "### Shuffling\n"
   ]
  },
  {
   "cell_type": "code",
   "execution_count": 24,
   "metadata": {},
   "outputs": [
    {
     "name": "stdout",
     "output_type": "stream",
     "text": [
      "Original ttensor([[1, 2],\n",
      "        [3, 4]])\n",
      "\n",
      "Shuffled ttensor([[3, 1],\n",
      "        [4, 2]])\n",
      "\n"
     ]
    }
   ],
   "source": [
    "t = torch.tensor([[1,2],[3,4]])\n",
    "print(f'Original t{t}\\n')\n",
    "idx = torch.randperm(t.nelement())\n",
    "t = t.view(-1)[idx].view(t.size())\n",
    "print(f'Shuffled t{t}\\n')"
   ]
  },
  {
   "cell_type": "markdown",
   "metadata": {},
   "source": [
    "### Reshape and View \n",
    "\n",
    "\n",
    "View vs Reshape:https://stackoverflow.com/questions/49643225/whats-the-difference-between-reshape-and-view-in-pytorch"
   ]
  },
  {
   "cell_type": "code",
   "execution_count": 38,
   "metadata": {},
   "outputs": [
    {
     "name": "stdout",
     "output_type": "stream",
     "text": [
      "arr_a before: tensor([ 0,  1,  2,  3,  4,  5,  6,  7,  8,  9, 10, 11])\n",
      "Reshape the dimension of nparray:\n",
      " tensor([[ 0,  1,  2,  3],\n",
      "        [ 4,  5,  6,  7],\n",
      "        [ 8,  9, 10, 11]])\n",
      "\n",
      "Shape:  torch.Size([3, 4])\n"
     ]
    }
   ],
   "source": [
    "# Reshape the nparray\n",
    "arr_a = torch.arange(12)\n",
    "print(f'arr_a before: {arr_a}')\n",
    "\n",
    "arr_b = torch.reshape(arr_a,(3,4))\n",
    "print(f'Reshape the dimension of nparray:\\n {arr_b}\\n') # Note : dimension should match\n",
    "print('Shape: ',arr_b.shape)\n",
    "\n"
   ]
  },
  {
   "cell_type": "code",
   "execution_count": 7,
   "metadata": {},
   "outputs": [
    {
     "name": "stdout",
     "output_type": "stream",
     "text": [
      "torch.Size([4, 4]) torch.Size([16]) torch.Size([2, 8])\n"
     ]
    }
   ],
   "source": [
    "x = torch.randn(4, 4)\n",
    "y = x.view(16)\n",
    "z = x.view(-1, 8)  # the size -1 is inferred from other dimensions\n",
    "print(x.size(), y.size(), z.size())"
   ]
  },
  {
   "cell_type": "markdown",
   "metadata": {},
   "source": [
    "### Get Python number for single element"
   ]
  },
  {
   "cell_type": "code",
   "execution_count": 8,
   "metadata": {},
   "outputs": [
    {
     "name": "stdout",
     "output_type": "stream",
     "text": [
      "tensor([0.7272])\n",
      "0.7272418737411499\n"
     ]
    }
   ],
   "source": [
    "x = torch.randn(1)\n",
    "print(x)\n",
    "print(x.item())"
   ]
  },
  {
   "cell_type": "markdown",
   "metadata": {},
   "source": [
    "### Transpose"
   ]
  },
  {
   "cell_type": "code",
   "execution_count": 41,
   "metadata": {},
   "outputs": [
    {
     "name": "stdout",
     "output_type": "stream",
     "text": [
      "Original nparray:\n",
      " tensor([[ 0,  1,  2,  3],\n",
      "        [ 4,  5,  6,  7],\n",
      "        [ 8,  9, 10, 11]]) torch.Size([3, 4]) \n",
      "Transpose: \n",
      " tensor([[ 0,  4,  8],\n",
      "        [ 1,  5,  9],\n",
      "        [ 2,  6, 10],\n",
      "        [ 3,  7, 11]]) torch.Size([4, 3])\n",
      "\n",
      "Shape of Original x: torch.Size([1, 2, 3])\t \n",
      "Shape of Transpose(1,0,2): torch.Size([3, 2, 1])\n",
      "torch.Size([2, 3, 4])\n",
      "tensor([[[  1,   2,   3,   4],\n",
      "         [  5,   6,   7,   8],\n",
      "         [  9,  10,  11,  12]],\n",
      "\n",
      "        [[ -1,  -2,  -3,  -4],\n",
      "         [ -5,  -6,  -7,  -8],\n",
      "         [ -9, -10, -11, -12]]])\n",
      "\n",
      "\n",
      "torch.Size([3, 2, 4])\n",
      "tensor([[[  1,   2,   3,   4],\n",
      "         [ -1,  -2,  -3,  -4]],\n",
      "\n",
      "        [[  5,   6,   7,   8],\n",
      "         [ -5,  -6,  -7,  -8]],\n",
      "\n",
      "        [[  9,  10,  11,  12],\n",
      "         [ -9, -10, -11, -12]]])\n",
      "\n",
      "\n",
      "torch.Size([4, 3, 2])\n",
      "tensor([[[  1,  -1],\n",
      "         [  5,  -5],\n",
      "         [  9,  -9]],\n",
      "\n",
      "        [[  2,  -2],\n",
      "         [  6,  -6],\n",
      "         [ 10, -10]],\n",
      "\n",
      "        [[  3,  -3],\n",
      "         [  7,  -7],\n",
      "         [ 11, -11]],\n",
      "\n",
      "        [[  4,  -4],\n",
      "         [  8,  -8],\n",
      "         [ 12, -12]]])\n",
      "\n",
      "\n"
     ]
    }
   ],
   "source": [
    "## Transpose \n",
    "\n",
    "print('Original nparray:\\n',arr_b,arr_b.shape,'\\nTranspose: \\n',arr_b.T,arr_b.T.shape)\n",
    "\n",
    "x = torch.ones((1, 2, 3))\n",
    "print(f'\\nShape of Original x: {x.shape}\\t \\nShape of Transpose(1,0,2): {torch.transpose(x,  0, 2).shape}')\n",
    "\n",
    "t = torch.tensor([[[1,2,3,4],[5,6,7,8],[9,10,11,12]],[[-1,-2,-3,-4],[-5,-6,-7,-8],[-9,-10,-11,-12]]])\n",
    "\n",
    "print(t.shape)\n",
    "print(t)\n",
    "print('\\n')\n",
    "\n",
    "print(t.transpose(0,1).shape)\n",
    "print(t.transpose(0,1))\n",
    "print('\\n')\n",
    "\n",
    "print(t.transpose(0,2).shape)\n",
    "print(t.transpose(0,2))\n",
    "print('\\n')"
   ]
  },
  {
   "cell_type": "markdown",
   "metadata": {},
   "source": [
    "#### Transpose(1,2,0)   =>  H W C to C H W    \n",
    "---\n",
    "#### torch.transpose(npimg, (1, 2, 0)\n",
    "---\n",
    "#### Or torch image=>img = torch.transpose(img,2,0)"
   ]
  },
  {
   "cell_type": "code",
   "execution_count": 42,
   "metadata": {},
   "outputs": [
    {
     "name": "stdout",
     "output_type": "stream",
     "text": [
      "torch.Size([2, 3, 4])\n",
      "tensor([[[  1,   2,   3,   4],\n",
      "         [  5,   6,   7,   8],\n",
      "         [  9,  10,  11,  12]],\n",
      "\n",
      "        [[ -1,  -2,  -3,  -4],\n",
      "         [ -5,  -6,  -7,  -8],\n",
      "         [ -9, -10, -11, -12]]])\n",
      "\n",
      "\n",
      "torch.Size([3, 2, 4])\n",
      "tensor([[[  1,   2,   3,   4],\n",
      "         [ -1,  -2,  -3,  -4]],\n",
      "\n",
      "        [[  5,   6,   7,   8],\n",
      "         [ -5,  -6,  -7,  -8]],\n",
      "\n",
      "        [[  9,  10,  11,  12],\n",
      "         [ -9, -10, -11, -12]]])\n",
      "\n",
      "\n",
      "torch.Size([3, 4, 2])\n",
      "tensor([[[  1,  -1],\n",
      "         [  2,  -2],\n",
      "         [  3,  -3],\n",
      "         [  4,  -4]],\n",
      "\n",
      "        [[  5,  -5],\n",
      "         [  6,  -6],\n",
      "         [  7,  -7],\n",
      "         [  8,  -8]],\n",
      "\n",
      "        [[  9,  -9],\n",
      "         [ 10, -10],\n",
      "         [ 11, -11],\n",
      "         [ 12, -12]]])\n",
      "\n",
      "\n"
     ]
    }
   ],
   "source": [
    "t = torch.tensor([[[1,2,3,4],[5,6,7,8],[9,10,11,12]],[[-1,-2,-3,-4],[-5,-6,-7,-8],[-9,-10,-11,-12]]])\n",
    "\n",
    "print(t.shape)\n",
    "print(t)\n",
    "print('\\n')\n",
    "\n",
    "print(t.permute(1,0,2).shape)\n",
    "print(t.permute(1,0,2))\n",
    "print('\\n')\n",
    "\n",
    "print(t.permute(1,2,0).shape)\n",
    "print(t.permute(1,2,0))\n",
    "print('\\n')"
   ]
  },
  {
   "cell_type": "markdown",
   "metadata": {},
   "source": [
    "### Flatten"
   ]
  },
  {
   "cell_type": "code",
   "execution_count": 25,
   "metadata": {},
   "outputs": [
    {
     "name": "stdout",
     "output_type": "stream",
     "text": [
      "Original:\n",
      " tensor([[[0.4888, 0.9678, 0.9099, 0.1588],\n",
      "         [0.7494, 0.2713, 0.0794, 0.5242],\n",
      "         [0.3305, 0.9256, 0.8328, 0.4686]],\n",
      "\n",
      "        [[0.6715, 0.2538, 0.0216, 0.4782],\n",
      "         [0.5187, 0.3184, 0.1411, 0.5747],\n",
      "         [0.1637, 0.9860, 0.0830, 0.6746]]])\n",
      "\n",
      " Flatten:\n",
      " tensor([0.4888, 0.9678, 0.9099, 0.1588, 0.7494, 0.2713, 0.0794, 0.5242, 0.3305,\n",
      "        0.9256, 0.8328, 0.4686, 0.6715, 0.2538, 0.0216, 0.4782, 0.5187, 0.3184,\n",
      "        0.1411, 0.5747, 0.1637, 0.9860, 0.0830, 0.6746])\n"
     ]
    }
   ],
   "source": [
    "t = torch.rand(size=(2,3,4))\n",
    "print(f'Original:\\n {t}\\n\\n Flatten:\\n {t.flatten()}')"
   ]
  },
  {
   "cell_type": "markdown",
   "metadata": {},
   "source": [
    "### Squeeze and Unsqueeze "
   ]
  },
  {
   "cell_type": "code",
   "execution_count": 31,
   "metadata": {},
   "outputs": [
    {
     "name": "stdout",
     "output_type": "stream",
     "text": [
      "\n",
      "Squeeze\n",
      " ==========\n",
      "Shape of X: torch.Size([1, 3, 1]) \n",
      " Shape after Squeezed: torch.Size([3])\n",
      "\n",
      "Shape of X: torch.Size([1, 3, 1]) \n",
      " Shape after Squeezed: torch.Size([1, 3])\n",
      "\n",
      "Unsqueeze\n",
      " ==========\n",
      "Shape of t1: tensor([1, 2, 3])\n",
      " Shape after unsqueeze axis = 1:\n",
      "torch.Size([3, 1]) \n"
     ]
    }
   ],
   "source": [
    "print('\\nSqueeze\\n','='*10)\n",
    "# squeeze removes all the 1 dimension in all axes  \n",
    "t = torch.tensor([[[0], [1], [2]]])\n",
    "print(f'Shape of X: {t.shape} \\n Shape after Squeezed: {t.squeeze().shape}')\n",
    "\n",
    "#Squeeze the Dimension specficed by axis\n",
    "print(f'\\nShape of X: {t.shape} \\n Shape after Squeezed: {t.squeeze(axis=2).shape}') ## Squeezed axis 2\n",
    "print('\\nUnsqueeze\\n','='*10)\n",
    "##Unsqueeze\n",
    "t1 = torch.tensor([1,2,3])\n",
    "print(f'Shape of t1: {t1}\\n Shape after unsqueeze axis = 1:\\n{t1.unsqueeze(1).shape} ')\n"
   ]
  },
  {
   "cell_type": "markdown",
   "metadata": {},
   "source": [
    "### Permute"
   ]
  },
  {
   "cell_type": "code",
   "execution_count": 43,
   "metadata": {},
   "outputs": [
    {
     "name": "stdout",
     "output_type": "stream",
     "text": [
      "torch.Size([2, 3, 4])\n",
      "tensor([[[  1,   2,   3,   4],\n",
      "         [  5,   6,   7,   8],\n",
      "         [  9,  10,  11,  12]],\n",
      "\n",
      "        [[ -1,  -2,  -3,  -4],\n",
      "         [ -5,  -6,  -7,  -8],\n",
      "         [ -9, -10, -11, -12]]])\n",
      "\n",
      "\n",
      "torch.Size([3, 2, 4])\n",
      "tensor([[[  1,   2,   3,   4],\n",
      "         [ -1,  -2,  -3,  -4]],\n",
      "\n",
      "        [[  5,   6,   7,   8],\n",
      "         [ -5,  -6,  -7,  -8]],\n",
      "\n",
      "        [[  9,  10,  11,  12],\n",
      "         [ -9, -10, -11, -12]]])\n",
      "\n",
      "\n",
      "torch.Size([3, 4, 2])\n",
      "tensor([[[  1,  -1],\n",
      "         [  2,  -2],\n",
      "         [  3,  -3],\n",
      "         [  4,  -4]],\n",
      "\n",
      "        [[  5,  -5],\n",
      "         [  6,  -6],\n",
      "         [  7,  -7],\n",
      "         [  8,  -8]],\n",
      "\n",
      "        [[  9,  -9],\n",
      "         [ 10, -10],\n",
      "         [ 11, -11],\n",
      "         [ 12, -12]]])\n",
      "\n",
      "\n"
     ]
    }
   ],
   "source": [
    "t = torch.tensor([[[1,2,3,4],[5,6,7,8],[9,10,11,12]],[[-1,-2,-3,-4],[-5,-6,-7,-8],[-9,-10,-11,-12]]])\n",
    "\n",
    "print(t.shape)\n",
    "print(t)\n",
    "print('\\n')\n",
    "\n",
    "print(t.permute(1,0,2).shape)\n",
    "print(t.permute(1,0,2))\n",
    "print('\\n')\n",
    "\n",
    "print(t.permute(1,2,0).shape)\n",
    "print(t.permute(1,2,0))\n",
    "print('\\n')"
   ]
  },
  {
   "cell_type": "markdown",
   "metadata": {},
   "source": [
    "### Concatenation"
   ]
  },
  {
   "cell_type": "code",
   "execution_count": 45,
   "metadata": {},
   "outputs": [
    {
     "name": "stdout",
     "output_type": "stream",
     "text": [
      "tensor([[[0.8262, 0.7862, 0.3476, 0.8687],\n",
      "         [0.0222, 0.7798, 0.3999, 0.7857],\n",
      "         [0.7850, 0.8825, 0.2889, 0.0881]],\n",
      "\n",
      "        [[0.0567, 0.5285, 0.1073, 0.2890],\n",
      "         [0.1946, 0.8137, 0.4835, 0.2472],\n",
      "         [0.1447, 0.1983, 0.1579, 0.6726]]])\n",
      "tensor([[[0.3726, 0.0330, 0.0149, 0.7858],\n",
      "         [0.5984, 0.0415, 0.7608, 0.2337],\n",
      "         [0.8865, 0.0734, 0.3437, 0.6659]],\n",
      "\n",
      "        [[0.0836, 0.0291, 0.8091, 0.8489],\n",
      "         [0.0454, 0.4242, 0.7369, 0.6564],\n",
      "         [0.6066, 0.8378, 0.9279, 0.2589]]])\n",
      "tensor([[[0.1317, 0.0256, 0.0492, 0.1964],\n",
      "         [0.4699, 0.5591, 0.4452, 0.4609],\n",
      "         [0.4864, 0.5650, 0.2662, 0.8971]]])\n",
      "tensor([[[0.2634],\n",
      "         [0.8278],\n",
      "         [0.9415]],\n",
      "\n",
      "        [[0.0193],\n",
      "         [0.3025],\n",
      "         [0.0484]]])\n",
      "Concatenating tensors\n",
      "\n",
      "tensor([[[0.8262, 0.7862, 0.3476, 0.8687],\n",
      "         [0.0222, 0.7798, 0.3999, 0.7857],\n",
      "         [0.7850, 0.8825, 0.2889, 0.0881],\n",
      "         [0.3726, 0.0330, 0.0149, 0.7858],\n",
      "         [0.5984, 0.0415, 0.7608, 0.2337],\n",
      "         [0.8865, 0.0734, 0.3437, 0.6659]],\n",
      "\n",
      "        [[0.0567, 0.5285, 0.1073, 0.2890],\n",
      "         [0.1946, 0.8137, 0.4835, 0.2472],\n",
      "         [0.1447, 0.1983, 0.1579, 0.6726],\n",
      "         [0.0836, 0.0291, 0.8091, 0.8489],\n",
      "         [0.0454, 0.4242, 0.7369, 0.6564],\n",
      "         [0.6066, 0.8378, 0.9279, 0.2589]]])\n",
      "tensor([[[0.8262, 0.7862, 0.3476, 0.8687],\n",
      "         [0.0222, 0.7798, 0.3999, 0.7857],\n",
      "         [0.7850, 0.8825, 0.2889, 0.0881]],\n",
      "\n",
      "        [[0.0567, 0.5285, 0.1073, 0.2890],\n",
      "         [0.1946, 0.8137, 0.4835, 0.2472],\n",
      "         [0.1447, 0.1983, 0.1579, 0.6726]],\n",
      "\n",
      "        [[0.3726, 0.0330, 0.0149, 0.7858],\n",
      "         [0.5984, 0.0415, 0.7608, 0.2337],\n",
      "         [0.8865, 0.0734, 0.3437, 0.6659]],\n",
      "\n",
      "        [[0.0836, 0.0291, 0.8091, 0.8489],\n",
      "         [0.0454, 0.4242, 0.7369, 0.6564],\n",
      "         [0.6066, 0.8378, 0.9279, 0.2589]],\n",
      "\n",
      "        [[0.1317, 0.0256, 0.0492, 0.1964],\n",
      "         [0.4699, 0.5591, 0.4452, 0.4609],\n",
      "         [0.4864, 0.5650, 0.2662, 0.8971]]])\n",
      "tensor([[[0.8262, 0.7862, 0.3476, 0.8687, 0.3726, 0.0330, 0.0149, 0.7858,\n",
      "          0.2634],\n",
      "         [0.0222, 0.7798, 0.3999, 0.7857, 0.5984, 0.0415, 0.7608, 0.2337,\n",
      "          0.8278],\n",
      "         [0.7850, 0.8825, 0.2889, 0.0881, 0.8865, 0.0734, 0.3437, 0.6659,\n",
      "          0.9415]],\n",
      "\n",
      "        [[0.0567, 0.5285, 0.1073, 0.2890, 0.0836, 0.0291, 0.8091, 0.8489,\n",
      "          0.0193],\n",
      "         [0.1946, 0.8137, 0.4835, 0.2472, 0.0454, 0.4242, 0.7369, 0.6564,\n",
      "          0.3025],\n",
      "         [0.1447, 0.1983, 0.1579, 0.6726, 0.6066, 0.8378, 0.9279, 0.2589,\n",
      "          0.0484]]])\n"
     ]
    }
   ],
   "source": [
    "# Tensor Cat\n",
    "\n",
    "t1 = torch.rand(size=(2,3,4))\n",
    "t2 = torch.rand(size=(2,3,4))\n",
    "t3 = torch.rand(size=(1,3,4))\n",
    "t4 = torch.rand(size=(2,3,1))\n",
    "\n",
    "print(t1)\n",
    "print(t2)\n",
    "print(t3)\n",
    "print(t4)\n",
    "\n",
    "print('Concatenating tensors\\n')\n",
    "\n",
    "print(torch.cat([t1,t2],dim=1))\n",
    "print(torch.cat([t1,t2,t3],dim=0))\n",
    "print(torch.cat([t1,t2,t4],dim=2))"
   ]
  },
  {
   "cell_type": "code",
   "execution_count": 46,
   "metadata": {},
   "outputs": [
    {
     "name": "stdout",
     "output_type": "stream",
     "text": [
      "torch.Size([3, 4])\n",
      "tensor([[0.1758, 0.3565, 0.2123, 0.8205],\n",
      "        [0.1231, 0.0766, 0.8280, 0.8037],\n",
      "        [0.1186, 0.7584, 0.6012, 0.7442]])\n",
      "\n",
      "\n",
      "torch.Size([3, 4])\n",
      "tensor([[0.0858, 0.3282, 0.4925, 0.3911],\n",
      "        [0.7394, 0.3090, 0.5269, 0.8588],\n",
      "        [0.3025, 0.8231, 0.6296, 0.0477]])\n",
      "\n",
      "\n",
      "torch.Size([2, 3, 4])\n",
      "tensor([[[0.1758, 0.3565, 0.2123, 0.8205],\n",
      "         [0.1231, 0.0766, 0.8280, 0.8037],\n",
      "         [0.1186, 0.7584, 0.6012, 0.7442]],\n",
      "\n",
      "        [[0.0858, 0.3282, 0.4925, 0.3911],\n",
      "         [0.7394, 0.3090, 0.5269, 0.8588],\n",
      "         [0.3025, 0.8231, 0.6296, 0.0477]]])\n",
      "torch.Size([3, 2, 4])\n",
      "tensor([[[0.1758, 0.3565, 0.2123, 0.8205],\n",
      "         [0.0858, 0.3282, 0.4925, 0.3911]],\n",
      "\n",
      "        [[0.1231, 0.0766, 0.8280, 0.8037],\n",
      "         [0.7394, 0.3090, 0.5269, 0.8588]],\n",
      "\n",
      "        [[0.1186, 0.7584, 0.6012, 0.7442],\n",
      "         [0.3025, 0.8231, 0.6296, 0.0477]]])\n",
      "torch.Size([3, 4, 2])\n",
      "tensor([[[0.1758, 0.0858],\n",
      "         [0.3565, 0.3282],\n",
      "         [0.2123, 0.4925],\n",
      "         [0.8205, 0.3911]],\n",
      "\n",
      "        [[0.1231, 0.7394],\n",
      "         [0.0766, 0.3090],\n",
      "         [0.8280, 0.5269],\n",
      "         [0.8037, 0.8588]],\n",
      "\n",
      "        [[0.1186, 0.3025],\n",
      "         [0.7584, 0.8231],\n",
      "         [0.6012, 0.6296],\n",
      "         [0.7442, 0.0477]]])\n"
     ]
    }
   ],
   "source": [
    "# Tensor Stack\n",
    "# This operation can be imagined as a combination of unsqueeze and cat.\n",
    "\n",
    "t1 = torch.rand(size=(3,4))\n",
    "t2 = torch.rand(size=(3,4))\n",
    "\n",
    "print(t1.shape)\n",
    "print(t1)\n",
    "print('\\n')\n",
    "\n",
    "print(t2.shape)\n",
    "print(t2)\n",
    "print('\\n')\n",
    "\n",
    "print(torch.stack([t1,t2],dim=0).shape)\n",
    "print(torch.stack([t1,t2],dim=0))\n",
    "\n",
    "print(torch.stack([t1,t2],dim=1).shape)\n",
    "print(torch.stack([t1,t2],dim=1))\n",
    "\n",
    "print(torch.stack([t1,t2],dim=2).shape)\n",
    "print(torch.stack([t1,t2],dim=2))"
   ]
  },
  {
   "cell_type": "markdown",
   "metadata": {},
   "source": [
    "### Repeat"
   ]
  },
  {
   "cell_type": "code",
   "execution_count": 47,
   "metadata": {},
   "outputs": [
    {
     "name": "stdout",
     "output_type": "stream",
     "text": [
      "Original t1:\n",
      "tensor([0.9795, 0.6203, 0.0287])\n",
      "t1.repeat(2)\n",
      "tensor([0.9795, 0.6203, 0.0287, 0.9795, 0.6203, 0.0287])\n",
      "t1.repeat(4,2)\n",
      "tensor([[0.9795, 0.6203, 0.0287, 0.9795, 0.6203, 0.0287],\n",
      "        [0.9795, 0.6203, 0.0287, 0.9795, 0.6203, 0.0287],\n",
      "        [0.9795, 0.6203, 0.0287, 0.9795, 0.6203, 0.0287],\n",
      "        [0.9795, 0.6203, 0.0287, 0.9795, 0.6203, 0.0287]])\n",
      "t1.repeat(4,2,2)\n",
      "tensor([[[0.9795, 0.6203, 0.0287, 0.9795, 0.6203, 0.0287],\n",
      "         [0.9795, 0.6203, 0.0287, 0.9795, 0.6203, 0.0287]],\n",
      "\n",
      "        [[0.9795, 0.6203, 0.0287, 0.9795, 0.6203, 0.0287],\n",
      "         [0.9795, 0.6203, 0.0287, 0.9795, 0.6203, 0.0287]],\n",
      "\n",
      "        [[0.9795, 0.6203, 0.0287, 0.9795, 0.6203, 0.0287],\n",
      "         [0.9795, 0.6203, 0.0287, 0.9795, 0.6203, 0.0287]],\n",
      "\n",
      "        [[0.9795, 0.6203, 0.0287, 0.9795, 0.6203, 0.0287],\n",
      "         [0.9795, 0.6203, 0.0287, 0.9795, 0.6203, 0.0287]]])\n"
     ]
    }
   ],
   "source": [
    "# Tensor Repeat\n",
    "\n",
    "t1 = torch.rand(3)\n",
    "\n",
    "print('Original t1:')\n",
    "print(t1)\n",
    "\n",
    "print('t1.repeat(2)')\n",
    "print(t1.repeat((2)))\n",
    "\n",
    "print('t1.repeat(4,2)')\n",
    "print(t1.repeat((4,2)))\n",
    "\n",
    "print('t1.repeat(4,2,2)')\n",
    "print(t1.repeat((4,2,2)))"
   ]
  },
  {
   "cell_type": "code",
   "execution_count": 48,
   "metadata": {},
   "outputs": [
    {
     "name": "stdout",
     "output_type": "stream",
     "text": [
      "Original t1:\n",
      "tensor([0.5361, 0.7571, 0.4459])\n",
      "Original t2:\n",
      "tensor([[0.2258, 0.2024],\n",
      "        [0.7398, 0.3576],\n",
      "        [0.3801, 0.3540]])\n",
      "t1.repeat_interleave(2)\n",
      "tensor([0.5361, 0.5361, 0.7571, 0.7571, 0.4459, 0.4459])\n",
      "t2.repeat_interleave(2)\n",
      "tensor([0.2258, 0.2258, 0.2024, 0.2024, 0.7398, 0.7398, 0.3576, 0.3576, 0.3801,\n",
      "        0.3801, 0.3540, 0.3540])\n",
      "t2.repeat_interleave(2,dim=0)\n",
      "tensor([[0.2258, 0.2024],\n",
      "        [0.2258, 0.2024],\n",
      "        [0.7398, 0.3576],\n",
      "        [0.7398, 0.3576],\n",
      "        [0.3801, 0.3540],\n",
      "        [0.3801, 0.3540]])\n",
      "t2.repeat_interleave(2,dim=1)\n",
      "tensor([[0.2258, 0.2258, 0.2024, 0.2024],\n",
      "        [0.7398, 0.7398, 0.3576, 0.3576],\n",
      "        [0.3801, 0.3801, 0.3540, 0.3540]])\n",
      "t2.repeat_interleave(torch.tensor([1,2,3]),dim=0)\n",
      "tensor([[0.2258, 0.2024],\n",
      "        [0.7398, 0.3576],\n",
      "        [0.7398, 0.3576],\n",
      "        [0.3801, 0.3540],\n",
      "        [0.3801, 0.3540],\n",
      "        [0.3801, 0.3540]])\n"
     ]
    }
   ],
   "source": [
    "# Tensor Repeat Interleave\n",
    "\n",
    "\n",
    "t1 = torch.rand(3)\n",
    "t2 = torch.rand(size=(3,2))\n",
    "\n",
    "print('Original t1:')\n",
    "print(t1)\n",
    "\n",
    "print('Original t2:')\n",
    "print(t2)\n",
    "\n",
    "print('t1.repeat_interleave(2)')\n",
    "print(t1.repeat_interleave(2))\n",
    "\n",
    "# Unless dimension is specified the multi-dimension tensor is flattened and then interleave operation is applied\n",
    "print('t2.repeat_interleave(2)')\n",
    "print(t2.repeat_interleave(2))\n",
    "\n",
    "print('t2.repeat_interleave(2,dim=0)')\n",
    "print(t2.repeat_interleave(2,dim=0))\n",
    "\n",
    "print('t2.repeat_interleave(2,dim=1)')\n",
    "print(t2.repeat_interleave(2,dim=1))\n",
    "\n",
    "# Repeat interleave applied with differnet repetitions\n",
    "print('t2.repeat_interleave(torch.tensor([1,2,3]),dim=0)')\n",
    "print(t2.repeat_interleave(torch.tensor([1,2,3]),dim=0))"
   ]
  },
  {
   "cell_type": "markdown",
   "metadata": {},
   "source": [
    "### Padding"
   ]
  },
  {
   "cell_type": "code",
   "execution_count": 49,
   "metadata": {},
   "outputs": [
    {
     "name": "stdout",
     "output_type": "stream",
     "text": [
      "tensor([[0, 0, 0, 0, 0, 0, 0],\n",
      "        [0, 1, 2, 3, 4, 0, 0],\n",
      "        [0, 1, 2, 3, 4, 0, 0],\n",
      "        [0, 1, 2, 3, 4, 0, 0],\n",
      "        [0, 1, 2, 3, 4, 0, 0],\n",
      "        [0, 0, 0, 0, 0, 0, 0],\n",
      "        [0, 0, 0, 0, 0, 0, 0]])\n"
     ]
    }
   ],
   "source": [
    "# Tensor Padding\n",
    "from torch.nn import functional as F\n",
    "\n",
    "x = torch.tensor([[1,2,3,4],\n",
    "                 [1,2,3,4],\n",
    "                 [1,2,3,4],\n",
    "                 [1,2,3,4]])\n",
    "\n",
    "pad_left   = 1\n",
    "pad_right  = 2\n",
    "pad_top    = 1\n",
    "pad_bottom = 2\n",
    "\n",
    "a = F.pad( x, (pad_left,pad_right,pad_top,pad_bottom), mode = 'constant' )\n",
    "\n",
    "print(a)"
   ]
  },
  {
   "cell_type": "markdown",
   "metadata": {},
   "source": [
    "### Casting"
   ]
  },
  {
   "cell_type": "code",
   "execution_count": 54,
   "metadata": {},
   "outputs": [
    {
     "data": {
      "text/plain": [
       "tensor([1, 0], dtype=torch.int32)"
      ]
     },
     "execution_count": 54,
     "metadata": {},
     "output_type": "execute_result"
    }
   ],
   "source": [
    "t = torch.tensor([True,False])\n",
    "t.type(torch.int)"
   ]
  },
  {
   "cell_type": "markdown",
   "metadata": {},
   "source": [
    "## Inplace and Empty tensor"
   ]
  },
  {
   "cell_type": "code",
   "execution_count": 4,
   "metadata": {},
   "outputs": [],
   "source": [
    "x = torch.rand(5, 3)\n",
    "y = torch.rand(5, 3)"
   ]
  },
  {
   "cell_type": "code",
   "execution_count": 5,
   "metadata": {},
   "outputs": [
    {
     "name": "stdout",
     "output_type": "stream",
     "text": [
      "tensor([[0.9782, 1.4988, 1.6624],\n",
      "        [0.7805, 0.6465, 0.5244],\n",
      "        [1.2240, 1.1926, 0.8954],\n",
      "        [1.0103, 0.6106, 0.7199],\n",
      "        [1.5926, 1.0187, 0.8834]])\n"
     ]
    }
   ],
   "source": [
    "result = torch.empty(5, 3)\n",
    "torch.add(x, y, out=result)\n",
    "print(result)"
   ]
  },
  {
   "cell_type": "code",
   "execution_count": 6,
   "metadata": {},
   "outputs": [
    {
     "name": "stdout",
     "output_type": "stream",
     "text": [
      "tensor([[0.9782, 1.4988, 1.6624],\n",
      "        [0.7805, 0.6465, 0.5244],\n",
      "        [1.2240, 1.1926, 0.8954],\n",
      "        [1.0103, 0.6106, 0.7199],\n",
      "        [1.5926, 1.0187, 0.8834]])\n"
     ]
    }
   ],
   "source": [
    "# adds x to y\n",
    "y.add_(x)\n",
    "print(y)\n"
   ]
  },
  {
   "cell_type": "markdown",
   "metadata": {},
   "source": [
    "### MathOperation\n"
   ]
  },
  {
   "cell_type": "code",
   "execution_count": 55,
   "metadata": {},
   "outputs": [
    {
     "name": "stdout",
     "output_type": "stream",
     "text": [
      "original t1:\n",
      "tensor([0.0996, 0.5039, 0.5145])\n",
      "original t2:\n",
      "tensor([0.2802, 0.8284, 0.3067])\n",
      "original t3:\n",
      "tensor([[0.2086, 0.1127, 0.9981, 0.0853],\n",
      "        [0.8224, 0.1656, 0.5069, 0.4191],\n",
      "        [0.2454, 0.8722, 0.9818, 0.7027]])\n",
      "original t4:\n",
      "tensor([[0.9023, 0.2309, 0.4151, 0.7825],\n",
      "        [0.1093, 0.2912, 0.4206, 0.6876],\n",
      "        [0.7031, 0.8184, 0.4413, 0.8967]])\n",
      "original t5:\n",
      "tensor([[0.1108],\n",
      "        [0.3183],\n",
      "        [0.2156]])\n",
      "t1+10\n",
      "tensor([10.0996, 10.5039, 10.5145])\n",
      "t1+t2\n",
      "tensor([0.3798, 1.3323, 0.8212])\n",
      "t1*-10\n",
      "tensor([-0.9962, -5.0392, -5.1451])\n",
      "t1*t2\n",
      "tensor([0.0279, 0.4174, 0.1578])\n",
      "abs(-10*t1)\n",
      "tensor([0.9962, 5.0392, 5.1451])\n",
      "t3+t4\n",
      "tensor([[1.1109, 0.3435, 1.4132, 0.8677],\n",
      "        [0.9317, 0.4568, 0.9275, 1.1067],\n",
      "        [0.9485, 1.6906, 1.4231, 1.5994]])\n",
      "tensor([[0.3194, 0.2235, 1.1090, 0.1961],\n",
      "        [1.1407, 0.4838, 0.8252, 0.7374],\n",
      "        [0.4610, 1.0877, 1.1974, 0.9182]])\n"
     ]
    }
   ],
   "source": [
    "# Point-wise/element-wise operations\n",
    "# Similar to numpy arrays, torch offers all the basic mathematical operations and is extremely convenient\n",
    "# Below we list some of the most commonly used operations\n",
    "\n",
    "t1 = torch.rand(3)\n",
    "t2 = torch.rand(3)\n",
    "t3 = torch.rand(size=(3,4))\n",
    "t4 = torch.rand(size=(3,4))\n",
    "t5 = torch.rand(size=(3,1))\n",
    "\n",
    "print('original t1:')\n",
    "print(t1)\n",
    "\n",
    "print('original t2:')\n",
    "print(t2)\n",
    "\n",
    "print('original t3:')\n",
    "print(t3)\n",
    "\n",
    "print('original t4:')\n",
    "print(t4)\n",
    "\n",
    "print('original t5:')\n",
    "print(t5)\n",
    "\n",
    "# Addition with scalar\n",
    "print('t1+10')\n",
    "print(t1+10)\n",
    "\n",
    "# Addition\n",
    "print('t1+t2')\n",
    "print(t1+t2)\n",
    "\n",
    "# Multiplication with scalar\n",
    "print('t1*-10')\n",
    "print(t1*-10)\n",
    "\n",
    "# Elementwise multiplication\n",
    "print('t1*t2')\n",
    "print(t1*t2)\n",
    "\n",
    "# Absolute value\n",
    "print('abs(-10*t1)')\n",
    "print(abs(-10*t1))\n",
    "\n",
    "# Similar operations extend to multi-dimensional tensors\n",
    "print('t3+t4')\n",
    "print(t3+t4)\n",
    "\n",
    "# Broadcasting b/w arrays of different dimensions\n",
    "# Note; When broadting two multi-dimensional tensors, match their corresponding dimensions beginning from the last dimension.\n",
    "# All dimensions should either match or one of the tensor should have length 1 in that specific dimension\n",
    "print(t3+t5)"
   ]
  },
  {
   "cell_type": "markdown",
   "metadata": {},
   "source": [
    "### Reduction"
   ]
  },
  {
   "cell_type": "code",
   "execution_count": 56,
   "metadata": {},
   "outputs": [
    {
     "name": "stdout",
     "output_type": "stream",
     "text": [
      "original t1:\n",
      "tensor([0.2349, 0.3288, 0.5180])\n",
      "original t2:\n",
      "tensor([[0.8625, 0.0368, 0.2810, 0.0829],\n",
      "        [0.5923, 0.8180, 0.7160, 0.8264],\n",
      "        [0.0045, 0.1453, 0.2816, 0.6819]])\n",
      "t1.sum()\n",
      "tensor(1.0816)\n",
      "t2.sum()\n",
      "tensor(5.3292)\n",
      "t2.sum(axis=0)\n",
      "tensor([1.4594, 1.0001, 1.2786, 1.5912])\n",
      "t2.sum(axis=1)\n",
      "tensor([1.2632, 2.9527, 1.1134])\n"
     ]
    }
   ],
   "source": [
    "# Reduction Operations\n",
    "# Torch supports all commonly used mathematical reduction operations such as sum(), mean(), std(), max(), argmax(), prod(), unique() etc.\n",
    "# These can either be applied on the entire tensor or along specific dimensions.\n",
    "\n",
    "t1 = torch.rand(3)\n",
    "t2 = torch.rand(size=(3,4))\n",
    "\n",
    "print('original t1:')\n",
    "print(t1)\n",
    "\n",
    "print('original t2:')\n",
    "print(t2)\n",
    "\n",
    "print('t1.sum()')\n",
    "print(t1.sum())\n",
    "\n",
    "print('t2.sum()')\n",
    "print(t2.sum())\n",
    "\n",
    "print('t2.sum(axis=0)')\n",
    "print(t2.sum(axis=0))\n",
    "\n",
    "print('t2.sum(axis=1)')\n",
    "print(t2.sum(axis=1))"
   ]
  },
  {
   "cell_type": "markdown",
   "metadata": {},
   "source": [
    "### any,all and boolean"
   ]
  },
  {
   "cell_type": "code",
   "execution_count": 57,
   "metadata": {},
   "outputs": [
    {
     "name": "stdout",
     "output_type": "stream",
     "text": [
      "original t1:\n",
      "tensor([[0.4313, 0.5304, 0.2393, 0.4932],\n",
      "        [0.5680, 0.3317, 0.2545, 0.3140],\n",
      "        [0.9841, 0.1412, 0.6072, 0.1300]])\n",
      "original t2:\n",
      "tensor([[0.6543, 0.7535, 0.1301, 0.5513],\n",
      "        [0.1023, 0.5796, 0.9846, 0.9082],\n",
      "        [0.1966, 0.0105, 0.8014, 0.3972]])\n",
      "original t3:\n",
      "tensor([[0.4616, 0.7314, 0.5932, 0.6725],\n",
      "        [0.9817, 0.3001, 0.0679, 0.8995],\n",
      "        [0.8529, 0.2771, 0.6490, 0.4475]])\n",
      "t1>t3\n",
      "tensor([[False, False,  True, False],\n",
      "        [ True, False, False, False],\n",
      "        [ True,  True, False, False]])\n",
      "t2!=t3\n",
      "tensor([[True, True, True, True],\n",
      "        [True, True, True, True],\n",
      "        [True, True, True, True]])\n",
      "tensor(True)\n",
      "tensor(False)\n",
      "tensor([ True,  True,  True, False])\n",
      "tensor([True, True, True])\n",
      "tensor(True)\n",
      "tensor(True)\n"
     ]
    }
   ],
   "source": [
    "# Comparison Operations\n",
    "\n",
    "t1 = torch.rand(size=(3,4))\n",
    "t2 = torch.rand(size=(3,4))\n",
    "t3 = torch.rand(size=(3,4))\n",
    "\n",
    "print('original t1:')\n",
    "print(t1)\n",
    "\n",
    "print('original t2:')\n",
    "print(t2)\n",
    "\n",
    "print('original t3:')\n",
    "print(t3)\n",
    "\n",
    "# Basic comparison operations\n",
    "print('t1>t3')\n",
    "print(t1>t2)\n",
    "\n",
    "print('t2!=t3')\n",
    "print(t2!=t3)\n",
    "\n",
    "# Combining reduction operations with boolean tensors\n",
    "print((t1>t2).any())\n",
    "print((t1>t2).all())\n",
    "print((t1>t2).any(axis=0))\n",
    "print((t1>t2).any(axis=1))\n",
    "\n",
    "print((t2!=t3).any())\n",
    "print((t2!=t3).all())"
   ]
  },
  {
   "cell_type": "code",
   "execution_count": 59,
   "metadata": {},
   "outputs": [
    {
     "name": "stdout",
     "output_type": "stream",
     "text": [
      "tensor1\n",
      "tensor([ 1.3672,  1.0618, -1.7354])\n",
      "tensor2\n",
      "tensor([-0.9224,  0.5498,  0.7124])\n",
      "torch.matmul(tensor1, tensor2)\n",
      "tensor(-1.9136)\n",
      "torch.Size([])\n",
      "tensor1\n",
      "tensor([[ 1.1456, -0.0869, -2.2937,  0.0287],\n",
      "        [ 0.6608,  0.2981,  1.0267, -1.5865],\n",
      "        [ 2.6014,  1.1211,  0.1026, -0.8408]])\n",
      "tensor2\n",
      "tensor([-1.1190, -0.3401, -0.4586, -0.6154])\n",
      "torch.matmul(tensor1, tensor2)\n",
      "tensor([-0.2182, -0.3352, -2.8217])\n",
      "torch.Size([3])\n",
      "tensor1\n",
      "tensor([[[-0.0075, -0.7547,  0.1789,  1.7582],\n",
      "         [ 1.1619, -0.1546, -1.3757, -0.2298],\n",
      "         [-0.1599, -0.8660,  0.3677,  2.0602]],\n",
      "\n",
      "        [[-0.0768,  1.8757, -1.2249,  1.2775],\n",
      "         [ 0.8758,  0.5901,  0.4997,  0.8469],\n",
      "         [ 1.0623, -0.2962,  0.3615,  0.0172]],\n",
      "\n",
      "        [[-0.3895,  0.5070,  0.5560,  0.8798],\n",
      "         [ 1.6900,  0.7874,  0.3618,  0.0669],\n",
      "         [-1.8549,  0.8328,  0.0971,  1.1864]],\n",
      "\n",
      "        [[ 0.2424,  0.4802,  1.6255, -0.1596],\n",
      "         [-1.3538, -1.3770,  1.0416,  0.6482],\n",
      "         [ 0.1232, -0.6626,  0.0557,  0.4434]],\n",
      "\n",
      "        [[ 0.5201, -0.9665,  0.5498,  1.0346],\n",
      "         [ 0.4244, -0.1651,  0.2463,  0.4095],\n",
      "         [ 0.1475,  0.9535,  1.6675,  1.4280]],\n",
      "\n",
      "        [[ 0.1887,  1.5000, -1.3266,  1.5454],\n",
      "         [-1.6575,  0.0064, -1.2947,  1.5774],\n",
      "         [ 0.3560,  0.9171,  1.4313, -1.3940]],\n",
      "\n",
      "        [[ 0.4542, -0.7138,  1.2090,  0.4040],\n",
      "         [ 0.2498,  1.8398,  0.0152, -0.8703],\n",
      "         [ 0.2504, -0.1970, -1.6874, -1.2244]],\n",
      "\n",
      "        [[-0.1201, -1.9125, -0.8179,  1.5097],\n",
      "         [-0.4874, -1.1636, -0.3298,  0.2859],\n",
      "         [ 0.3256, -0.7447,  1.1732, -1.3391]],\n",
      "\n",
      "        [[ 0.1019, -2.0843, -1.4052, -0.1355],\n",
      "         [-0.6495, -1.4614,  0.7028, -0.9448],\n",
      "         [-0.8420, -0.1669, -0.1679, -1.3523]],\n",
      "\n",
      "        [[ 0.7582,  0.8286,  0.4593, -0.4708],\n",
      "         [-0.0837,  0.2747,  0.9128, -0.2950],\n",
      "         [ 1.3142,  0.5170,  0.3303,  2.2055]]])\n",
      "tensor2\n",
      "tensor([ 1.1488,  1.3614,  0.0404, -1.3757])\n",
      "torch.matmul(tensor1, tensor2)\n",
      "tensor([[-3.4476,  1.3849, -4.1820],\n",
      "        [ 0.6585,  0.6646,  0.8080],\n",
      "        [-0.9451,  2.9361, -2.6252],\n",
      "        [ 1.2175, -4.2794, -1.3682],\n",
      "        [-2.1193, -0.2906, -0.4295],\n",
      "        [ 0.0794, -4.1176,  3.6330],\n",
      "        [-0.9569,  3.9895,  1.6358],\n",
      "        [-4.8517, -2.5507,  1.2498],\n",
      "        [-2.5910, -1.4076,  0.6591],\n",
      "        [ 2.6654,  0.7205, -0.8073]])\n",
      "torch.Size([10, 3])\n",
      "tensor1\n",
      "tensor([[[-0.6069, -0.7743, -3.0721, -0.3062],\n",
      "         [-1.1322,  0.4616,  0.8966, -0.0931],\n",
      "         [-1.2504, -1.4329,  1.1275,  0.4455]],\n",
      "\n",
      "        [[-0.9899, -0.0081,  0.1686,  0.8071],\n",
      "         [-0.5084,  0.7364,  1.0383,  0.2984],\n",
      "         [-1.2595,  0.9817,  0.3506,  0.2986]],\n",
      "\n",
      "        [[ 1.1741,  1.0857,  0.2194, -0.5768],\n",
      "         [ 0.9312,  0.3361, -0.4975,  0.7424],\n",
      "         [ 0.0498, -0.3625, -0.3462, -0.6277]],\n",
      "\n",
      "        [[ 0.7916,  0.8686, -2.0024,  1.7610],\n",
      "         [-1.1864,  0.8065, -0.5848, -1.1410],\n",
      "         [-0.1524, -0.2233, -0.0341, -0.2111]],\n",
      "\n",
      "        [[ 0.0518,  0.5428, -0.1084,  1.6416],\n",
      "         [-1.6891, -2.0496, -0.8817,  0.3872],\n",
      "         [ 0.5510,  2.1865, -0.8997,  0.2628]],\n",
      "\n",
      "        [[-1.1786, -0.4788,  0.8813,  1.3543],\n",
      "         [-0.2923, -0.9507,  0.1281, -0.0902],\n",
      "         [-1.4282, -1.0538,  0.4195, -0.8679]],\n",
      "\n",
      "        [[-1.5509, -1.0769,  0.7304,  0.8713],\n",
      "         [-1.1775, -0.3469, -1.1483,  1.5910],\n",
      "         [-0.3503,  1.6542,  1.6211,  2.1318]],\n",
      "\n",
      "        [[-0.3376, -0.5815, -1.2393,  1.4259],\n",
      "         [-0.5902,  1.7185,  0.4601, -0.1426],\n",
      "         [ 2.3737, -0.4105,  0.3913,  0.1792]],\n",
      "\n",
      "        [[ 1.1753,  0.2175, -1.1511,  0.0455],\n",
      "         [ 0.7091,  1.4335,  0.8783,  0.8359],\n",
      "         [-0.9924,  0.6400, -0.0365,  1.2414]],\n",
      "\n",
      "        [[ 0.2785,  0.1647,  1.9915,  0.7825],\n",
      "         [-1.4066,  1.3427, -2.2609,  2.0608],\n",
      "         [ 0.0290, -0.0909, -0.6261,  0.5671]]])\n",
      "tensor2\n",
      "tensor([[[ 0.2389,  0.6657, -0.1412,  0.4548, -0.5752],\n",
      "         [-1.2675, -0.2605, -1.1823, -0.8905,  0.4094],\n",
      "         [ 0.7369,  0.4278, -0.0626,  1.1109, -0.0881],\n",
      "         [-2.6243,  0.3976, -0.5622,  0.7554,  1.6884]],\n",
      "\n",
      "        [[-0.1603,  0.9221,  1.2689, -0.8799,  0.5993],\n",
      "         [ 0.3644,  1.2645,  1.2587,  1.5894, -0.6020],\n",
      "         [ 0.9221,  0.3059, -0.3366,  1.8802,  0.3019],\n",
      "         [ 0.1441, -0.2935, -0.4723, -0.3949, -0.1880]],\n",
      "\n",
      "        [[ 1.4960,  0.7164, -0.8728,  1.3670, -0.3515],\n",
      "         [-0.3388, -0.6376,  0.3129, -0.4329, -0.2228],\n",
      "         [-1.0248, -1.1171, -0.4964,  0.6243, -0.7649],\n",
      "         [-0.2635, -1.8278, -0.5489, -0.8843, -0.5805]],\n",
      "\n",
      "        [[ 0.8407, -0.2767, -0.9087, -0.2988, -0.3409],\n",
      "         [ 0.4728, -1.9602, -0.4512, -0.2533, -1.2016],\n",
      "         [-1.3883, -1.9101, -0.5528, -0.4304,  0.2278],\n",
      "         [-0.4415, -0.6918,  0.0590, -0.2998, -0.6260]],\n",
      "\n",
      "        [[-0.4989, -0.1237,  1.4345,  0.2184, -0.2795],\n",
      "         [-0.6730,  0.6080,  0.7465,  0.5549, -2.3389],\n",
      "         [-0.5025,  0.1018,  0.2996, -0.1777,  0.5620],\n",
      "         [ 1.2153, -2.6601, -0.9050,  0.7677, -0.7010]],\n",
      "\n",
      "        [[-0.2323, -0.5144,  0.1147,  1.2729, -1.4252],\n",
      "         [-0.4016,  0.4683, -0.5955,  0.1542, -0.8233],\n",
      "         [ 0.3534,  0.7137, -1.0584, -1.2683,  1.4207],\n",
      "         [ 0.2400,  0.1226, -0.3140,  1.8371,  0.7133]],\n",
      "\n",
      "        [[-0.7656, -0.0221, -2.1164,  0.6136,  0.7491],\n",
      "         [-0.2161,  0.9640,  0.5853,  0.5112, -1.5133],\n",
      "         [-1.9762, -0.6129,  1.8565, -0.2312,  0.7544],\n",
      "         [ 1.0164, -1.4247, -0.5061, -0.7518, -0.7447]],\n",
      "\n",
      "        [[-0.0452,  1.6770,  1.2273,  1.7313, -0.5371],\n",
      "         [-1.1061, -0.9390, -0.1346, -0.4690,  0.3951],\n",
      "         [-1.0118, -0.4658, -0.7436,  2.2852,  0.0134],\n",
      "         [ 1.9374,  1.3770,  1.8238,  0.7178,  0.1280]],\n",
      "\n",
      "        [[ 0.5100,  0.2864,  0.1685,  1.3112, -0.3161],\n",
      "         [-0.8164,  0.6387, -0.8540,  1.1869,  0.6914],\n",
      "         [-0.6268, -1.3367,  0.1480,  1.0535, -0.3566],\n",
      "         [ 0.5973, -1.7534, -0.0053, -0.2088, -1.1463]],\n",
      "\n",
      "        [[-0.0189,  1.0482, -2.2414,  0.4728, -0.4981],\n",
      "         [-0.5488,  2.1655,  0.3896,  0.0898, -0.6142],\n",
      "         [-1.3786,  0.6250, -0.0344,  0.8953,  0.3171],\n",
      "         [-1.0056,  1.1645, -0.9114, -0.5175,  0.8358]]])\n",
      "torch.matmul(tensor1, tensor2)\n",
      "tensor([[[-6.2372e-01, -1.6384e+00,  1.3657e+00, -3.2307e+00, -2.1441e-01],\n",
      "         [ 4.9349e-02, -5.2740e-01, -3.8963e-01, -2.2682e-04,  6.0415e-01],\n",
      "         [ 1.1793e+00,  2.0045e-01,  1.5496e+00,  2.2965e+00,  7.8541e-01]],\n",
      "\n",
      "        [[ 4.2752e-01, -1.1082e+00, -1.7041e+00,  8.5652e-01, -6.8925e-01],\n",
      "         [ 1.3502e+00,  6.9238e-01, -2.0874e-01,  3.4522e+00, -4.9067e-01],\n",
      "         [ 9.2590e-01,  9.9692e-02, -6.2145e-01,  3.2098e+00, -1.2961e+00]],\n",
      "\n",
      "        [[ 1.3158e+00,  9.5803e-01, -4.7733e-01,  1.7820e+00, -4.8761e-01],\n",
      "         [ 1.5934e+00, -3.4846e-01, -8.6807e-01,  1.6022e-01, -4.5263e-01],\n",
      "         [ 7.1749e-01,  1.8010e+00,  3.5956e-01,  5.6396e-01,  6.9253e-01]],\n",
      "\n",
      "        [[ 3.0785e+00,  6.8494e-01,  9.9558e-02, -1.2255e-01, -2.8721e+00],\n",
      "         [ 6.9949e-01,  6.5364e-01,  9.7018e-01,  7.4393e-01,  1.6373e-02],\n",
      "         [-9.3103e-02,  6.9109e-01,  2.4564e-01,  1.8007e-01,  4.4466e-01]],\n",
      "\n",
      "        [[ 1.6583e+00, -4.0541e+00, -1.0386e+00,  1.5920e+00, -2.4956e+00],\n",
      "         [ 3.1358e+00, -2.1569e+00, -4.5676e+00, -1.0523e+00,  4.4991e+00],\n",
      "         [-9.7495e-01,  4.7050e-01,  1.9153e+00,  1.6953e+00, -5.9579e+00]],\n",
      "\n",
      "        [[ 1.1025e+00,  1.1771e+00, -1.2081e+00, -2.0378e-01,  4.2919e+00],\n",
      "         [ 4.7335e-01, -2.1451e-01,  4.2538e-01, -8.4669e-01,  1.3169e+00],\n",
      "         [ 6.9497e-01,  4.3415e-01,  2.9218e-01, -4.1069e+00,  2.8799e+00]],\n",
      "\n",
      "        [[ 8.6228e-01, -2.6928e+00,  3.5672e+00, -2.3260e+00,  3.6995e-01],\n",
      "         [ 4.8627e+00, -1.8712e+00, -6.4789e-01, -1.8305e+00, -2.4082e+00],\n",
      "         [-1.1262e+00, -2.4283e+00,  3.6405e+00, -1.3467e+00, -3.1303e+00]],\n",
      "\n",
      "        [[ 4.6747e+00,  2.5205e+00,  3.1859e+00, -2.1203e+00,  1.1746e-01],\n",
      "         [-2.6161e+00, -3.0141e+00, -1.5579e+00, -8.7866e-01,  9.8399e-01],\n",
      "         [ 2.9807e-01,  4.4306e+00,  3.0044e+00,  5.3248e+00, -1.4089e+00]],\n",
      "\n",
      "        [[ 1.1705e+00,  1.9345e+00, -1.5830e-01,  5.7693e-01,  1.3728e-01],\n",
      "         [-8.5981e-01, -1.5210e+00, -9.7911e-01,  3.3821e+00, -5.0442e-01],\n",
      "         [-2.6421e-01, -2.0033e+00, -7.2578e-01, -8.3921e-01, -6.5386e-01]],\n",
      "\n",
      "        [[-3.6280e+00,  2.8045e+00, -1.3417e+00,  1.5245e+00,  1.0457e+00],\n",
      "         [ 3.3413e-01,  2.4200e+00,  1.8753e+00, -3.6352e+00,  8.8126e-01],\n",
      "         [ 3.4223e-01,  1.0246e-01, -5.9562e-01, -8.4850e-01,  3.1678e-01]]])\n",
      "torch.Size([10, 3, 5])\n",
      "tensor1\n",
      "tensor([[[-0.1045,  1.3069,  1.0399, -1.0231],\n",
      "         [-0.1677, -0.3094,  0.6995,  0.4668],\n",
      "         [ 2.4596, -2.3581,  0.3100, -0.3265]],\n",
      "\n",
      "        [[ 1.4101, -0.3597,  0.3257,  0.4177],\n",
      "         [-0.7828,  0.3322,  1.1597, -1.7827],\n",
      "         [-1.6261, -0.3600,  0.2310, -0.7531]],\n",
      "\n",
      "        [[ 0.1698, -0.5331,  2.1082, -1.5901],\n",
      "         [ 0.5896,  1.5388,  0.6709,  1.3332],\n",
      "         [ 0.6441, -0.0113, -1.2736, -1.0195]],\n",
      "\n",
      "        [[-0.7464,  0.7462, -0.2319,  0.6000],\n",
      "         [ 1.2751, -0.2947, -1.4541, -0.1193],\n",
      "         [ 0.0921, -0.3309, -0.6156,  0.3930]],\n",
      "\n",
      "        [[-0.1224, -0.1210,  1.6708,  0.3994],\n",
      "         [ 0.3516, -1.0533,  0.1630,  0.1892],\n",
      "         [-0.3736,  0.9724,  1.1210, -0.5512]],\n",
      "\n",
      "        [[-1.2422,  0.0429, -0.0279,  0.6524],\n",
      "         [-0.0075,  0.7482,  0.6957, -0.9044],\n",
      "         [ 1.2130, -0.7692,  1.7199,  0.8134]],\n",
      "\n",
      "        [[-2.3028, -0.0293,  1.0044,  1.0665],\n",
      "         [ 0.2760, -0.2213, -0.1215, -0.8921],\n",
      "         [-0.6306,  1.3515, -0.2096,  0.0958]],\n",
      "\n",
      "        [[ 0.5927, -0.3146, -0.9706,  0.7080],\n",
      "         [-0.5452, -0.8590,  0.3620, -0.8439],\n",
      "         [ 0.6895, -0.4349,  1.4438, -0.2878]],\n",
      "\n",
      "        [[-0.3937,  1.4167,  2.7401,  1.1059],\n",
      "         [ 0.1617,  0.9524, -0.5308, -0.9298],\n",
      "         [ 0.0317, -0.0369, -0.0847,  0.6286]],\n",
      "\n",
      "        [[-0.5815,  0.1213, -1.1494,  1.8931],\n",
      "         [-2.2209, -0.9476,  0.6330,  1.0242],\n",
      "         [-0.2200, -0.3806,  0.3804, -0.7678]]])\n",
      "tensor2\n",
      "tensor([[ 1.7435,  1.4342,  1.3963,  1.0566, -0.3484],\n",
      "        [ 0.9873, -0.6204,  0.8469, -0.0640,  2.7612],\n",
      "        [-1.5090, -0.8767,  0.2884, -1.4804,  0.3743],\n",
      "        [ 1.0035, -1.3977, -1.3766,  0.2895, -0.8149]])\n",
      "torch.matmul(tensor1, tensor2)\n",
      "tensor([[[-1.4878, -0.4423,  2.6692, -2.0297,  4.8679],\n",
      "         [-1.1850, -1.3144, -0.9371, -1.0577, -0.9145],\n",
      "         [ 1.1648,  5.1751,  1.9760,  2.1964, -6.9859]],\n",
      "\n",
      "        [[ 2.0310,  1.3762,  1.1833,  1.1517, -1.7031],\n",
      "         [-4.5758,  0.1462,  1.9768, -3.0813,  3.0767],\n",
      "         [-4.2948, -1.2587, -1.4721, -2.2551,  0.2728]],\n",
      "\n",
      "        [[-5.0073,  0.9486,  2.5824, -3.3677,  0.5537],\n",
      "         [ 2.8726, -2.5608,  0.4848, -0.0827,  3.2083],\n",
      "         [ 2.0106,  3.4724,  1.9258,  2.2715,  0.0984]],\n",
      "\n",
      "        [[ 0.3874, -2.1687, -1.3030, -0.3194,  1.7448],\n",
      "         [ 4.0067,  3.4532,  1.2757,  3.4841, -1.7050],\n",
      "         [ 1.1572,  0.3278, -0.8702,  1.1436, -1.4964]],\n",
      "\n",
      "        [[-2.4533, -2.1237, -0.3413, -2.4794,  0.0085],\n",
      "         [-0.4830,  0.7503, -0.6146,  0.2524, -3.1241],\n",
      "         [-1.9361, -1.3515,  1.3839, -2.2761,  3.6840]],\n",
      "\n",
      "        [[-1.4267, -2.6957, -2.6043, -1.0851,  0.0091],\n",
      "         [-1.2319,  0.1793,  2.0689, -1.3476,  3.0660],\n",
      "         [-0.4238, -0.4278,  0.4186, -0.9797, -2.5657]],\n",
      "\n",
      "        [[-4.4891, -5.6558, -4.4186, -3.6092,  0.2283],\n",
      "         [-0.4491,  1.8866,  1.3909,  0.2274, -0.0256],\n",
      "         [ 0.6472, -1.6932,  0.0717, -0.4149,  3.7949]],\n",
      "\n",
      "        [[ 2.8978,  0.9066, -0.6933,  2.2881, -2.0154],\n",
      "         [-3.1917,  0.6132, -0.2228, -1.3013, -1.3588],\n",
      "         [-1.6949,  0.3951,  1.4070, -1.4644, -0.6662]],\n",
      "\n",
      "        [[-2.3131, -5.3917, -0.0820, -4.2430,  4.1733],\n",
      "         [ 1.0900,  1.4061,  2.1593,  0.6263,  3.1324],\n",
      "         [ 0.7775, -0.7360, -0.8767,  0.3433, -0.6569]],\n",
      "\n",
      "        [[ 2.7399, -2.5476, -3.6467,  1.6274, -1.4355],\n",
      "         [-4.7350, -4.5838, -5.1310, -2.9263, -2.4407],\n",
      "         [-2.1039,  0.6602,  0.5371, -0.9936, -0.2061]]])\n",
      "torch.Size([10, 3, 5])\n"
     ]
    }
   ],
   "source": [
    "# Vector/Matrix operations\n",
    "# Torch offers all baisc matrix and vector operations. Moreover there are some helpful utilities which are specific to how data in DL is organized.\n",
    "\n",
    "# vector x vector\n",
    "tensor1 = torch.randn(3)\n",
    "tensor2 = torch.randn(3)\n",
    "\n",
    "print('tensor1')\n",
    "print(tensor1)\n",
    "print('tensor2')\n",
    "print(tensor2)\n",
    "\n",
    "print('torch.matmul(tensor1, tensor2)')\n",
    "print(torch.matmul(tensor1, tensor2))\n",
    "print(torch.matmul(tensor1, tensor2).size())\n",
    "\n",
    "# matrix x vector\n",
    "tensor1 = torch.randn(3, 4)\n",
    "tensor2 = torch.randn(4)\n",
    "\n",
    "print('tensor1')\n",
    "print(tensor1)\n",
    "print('tensor2')\n",
    "print(tensor2)\n",
    "\n",
    "print('torch.matmul(tensor1, tensor2)')\n",
    "print(torch.matmul(tensor1, tensor2))\n",
    "print(torch.matmul(tensor1, tensor2).size())\n",
    "\n",
    "# batched matrix x broadcasted vector\n",
    "tensor1 = torch.randn(10, 3, 4)\n",
    "tensor2 = torch.randn(4)\n",
    "\n",
    "print('tensor1')\n",
    "print(tensor1)\n",
    "print('tensor2')\n",
    "print(tensor2)\n",
    "\n",
    "print('torch.matmul(tensor1, tensor2)')\n",
    "print(torch.matmul(tensor1, tensor2))\n",
    "print(torch.matmul(tensor1, tensor2).size())\n",
    "\n",
    "# batched matrix x batched matrix\n",
    "tensor1 = torch.randn(10, 3, 4)\n",
    "tensor2 = torch.randn(10, 4, 5)\n",
    "\n",
    "print('tensor1')\n",
    "print(tensor1)\n",
    "print('tensor2')\n",
    "print(tensor2)\n",
    "\n",
    "print('torch.matmul(tensor1, tensor2)')\n",
    "print(torch.matmul(tensor1, tensor2))\n",
    "print(torch.matmul(tensor1, tensor2).size())\n",
    "\n",
    "# batched matrix x broadcasted matrix\n",
    "tensor1 = torch.randn(10, 3, 4)\n",
    "tensor2 = torch.randn(4, 5)\n",
    "\n",
    "print('tensor1')\n",
    "print(tensor1)\n",
    "print('tensor2')\n",
    "print(tensor2)\n",
    "\n",
    "print('torch.matmul(tensor1, tensor2)')\n",
    "print(torch.matmul(tensor1, tensor2))\n",
    "print(torch.matmul(tensor1, tensor2).size())"
   ]
  },
  {
   "cell_type": "code",
   "execution_count": null,
   "metadata": {},
   "outputs": [],
   "source": []
  }
 ],
 "metadata": {
  "kernelspec": {
   "display_name": "Python 3",
   "language": "python",
   "name": "python3"
  },
  "language_info": {
   "codemirror_mode": {
    "name": "ipython",
    "version": 3
   },
   "file_extension": ".py",
   "mimetype": "text/x-python",
   "name": "python",
   "nbconvert_exporter": "python",
   "pygments_lexer": "ipython3",
   "version": "3.7.9"
  }
 },
 "nbformat": 4,
 "nbformat_minor": 4
}
